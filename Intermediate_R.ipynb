{
 "cells": [
  {
   "cell_type": "markdown",
   "id": "f8a90877",
   "metadata": {},
   "source": [
    "# Intermediate R\n",
    "In diesem Kapitel behandeln wir die Grundlagen des funktionalen Programmierens mit R\n",
    "* Funktionen & User-Defined Functions\n",
    "* Bedingungen\n",
    "* Schleifen"
   ]
  },
  {
   "cell_type": "markdown",
   "id": "b24d0b79",
   "metadata": {},
   "source": [
    "### Funktionen\n",
    "Funktionen sind ein Bündel an Statements/Operationen zur Durchführung einer bestimmten Aufgabe.\n",
    "\n",
    "Einige Funktionen die wir bereits kennengelernt haben sind print() und combine(). Zusätzlich gibt es noch weitere nützliche Standardfunktionen, wie zum Beispiel\n",
    "* runif - Zufallgenerator für Zahlen (Uniform Distributioon)\n",
    "* round - Runden einer Zahl (ganze Zahl oder Nachkommastellen)"
   ]
  },
  {
   "cell_type": "code",
   "execution_count": 2,
   "id": "116f2ea2",
   "metadata": {},
   "outputs": [],
   "source": [
    "set.seed(123) #Mit einem Seed erhalten wir bei Random\n",
    "euros <- runif(100,min=0,max=100) #Wir samplen 100 Werte aus der Random Uniform Distribution\n",
    "euros <- round(euros,2) #Wir runden unsere Euros auf 2 Nachkommastellen"
   ]
  },
  {
   "cell_type": "markdown",
   "id": "a34140de",
   "metadata": {},
   "source": [
    "Weitere Statistische Funktionen umfassen:\n",
    "* sum() - Summe\n",
    "* mean() - Mittelwert\n",
    "* median() - Median\n",
    "* quantile() -x"
   ]
  },
  {
   "cell_type": "code",
   "execution_count": 3,
   "id": "1f6794d5",
   "metadata": {},
   "outputs": [
    {
     "data": {
      "text/plain": [
       "   Min. 1st Qu.  Median    Mean 3rd Qu.    Max. \n",
       "   0.06   24.55   46.64   49.86   75.55   99.43 "
      ]
     },
     "metadata": {},
     "output_type": "display_data"
    }
   ],
   "source": [
    "summary(euros)"
   ]
  },
  {
   "cell_type": "code",
   "execution_count": 4,
   "id": "66d110e2",
   "metadata": {},
   "outputs": [
    {
     "data": {
      "text/html": [
       "4985.56"
      ],
      "text/latex": [
       "4985.56"
      ],
      "text/markdown": [
       "4985.56"
      ],
      "text/plain": [
       "[1] 4985.56"
      ]
     },
     "metadata": {},
     "output_type": "display_data"
    },
    {
     "data": {
      "text/html": [
       "49.8556"
      ],
      "text/latex": [
       "49.8556"
      ],
      "text/markdown": [
       "49.8556"
      ],
      "text/plain": [
       "[1] 49.8556"
      ]
     },
     "metadata": {},
     "output_type": "display_data"
    },
    {
     "data": {
      "text/html": [
       "46.64"
      ],
      "text/latex": [
       "46.64"
      ],
      "text/markdown": [
       "46.64"
      ],
      "text/plain": [
       "[1] 46.64"
      ]
     },
     "metadata": {},
     "output_type": "display_data"
    }
   ],
   "source": [
    "sum(euros)\n",
    "mean(euros)\n",
    "median(euros)"
   ]
  },
  {
   "cell_type": "code",
   "execution_count": 5,
   "id": "108c57ca",
   "metadata": {},
   "outputs": [
    {
     "name": "stdout",
     "output_type": "stream",
     "text": [
      "     0%     25%     50%     75%    100% \n",
      " 0.0600 24.5475 46.6400 75.5500 99.4300 \n"
     ]
    }
   ],
   "source": [
    "print(quantile(euros))"
   ]
  },
  {
   "cell_type": "code",
   "execution_count": 6,
   "id": "d5c0e4ac",
   "metadata": {},
   "outputs": [
    {
     "data": {
      "text/html": [
       "100"
      ],
      "text/latex": [
       "100"
      ],
      "text/markdown": [
       "100"
      ],
      "text/plain": [
       "[1] 100"
      ]
     },
     "metadata": {},
     "output_type": "display_data"
    }
   ],
   "source": [
    "length(euros)"
   ]
  },
  {
   "cell_type": "markdown",
   "id": "b2d40b40",
   "metadata": {},
   "source": [
    "### User-Defined Functions\n",
    "Neben diversen Standardfunktionen haben wir auch die Möglichkeit eigene Funktionen zu definieren. Zur Erstellung von Custom Functions können wir die Funktion function() nutzen. Die Hauptbestandteile einer Funktion sind:\n",
    "\n",
    "* Name der Funktion\n",
    "* Argumente\n",
    "* Function Body\n",
    "* Return Value"
   ]
  },
  {
   "cell_type": "code",
   "execution_count": 7,
   "id": "6c98210d",
   "metadata": {},
   "outputs": [],
   "source": [
    "#Wir erstellen eine Funktion, die uns Euros in Franken umwandelt\n",
    "euro_to_francs <- function(euros){\n",
    "    francs <- euros * 0.96 #Stand 29.08.2022\n",
    "    return(francs)\n",
    "}"
   ]
  },
  {
   "cell_type": "code",
   "execution_count": 8,
   "id": "333329d5",
   "metadata": {},
   "outputs": [
    {
     "data": {
      "text/html": [
       "<ol class=list-inline>\n",
       "\t<li>27.6096</li>\n",
       "\t<li>75.6768</li>\n",
       "\t<li>39.264</li>\n",
       "\t<li>84.768</li>\n",
       "\t<li>90.288</li>\n",
       "\t<li>4.3776</li>\n",
       "\t<li>50.6976</li>\n",
       "\t<li>85.6704</li>\n",
       "\t<li>52.9344</li>\n",
       "\t<li>43.8336</li>\n",
       "</ol>\n"
      ],
      "text/latex": [
       "\\begin{enumerate*}\n",
       "\\item 27.6096\n",
       "\\item 75.6768\n",
       "\\item 39.264\n",
       "\\item 84.768\n",
       "\\item 90.288\n",
       "\\item 4.3776\n",
       "\\item 50.6976\n",
       "\\item 85.6704\n",
       "\\item 52.9344\n",
       "\\item 43.8336\n",
       "\\end{enumerate*}\n"
      ],
      "text/markdown": [
       "1. 27.6096\n",
       "2. 75.6768\n",
       "3. 39.264\n",
       "4. 84.768\n",
       "5. 90.288\n",
       "6. 4.3776\n",
       "7. 50.6976\n",
       "8. 85.6704\n",
       "9. 52.9344\n",
       "10. 43.8336\n",
       "\n",
       "\n"
      ],
      "text/plain": [
       " [1] 27.6096 75.6768 39.2640 84.7680 90.2880  4.3776 50.6976 85.6704 52.9344\n",
       "[10] 43.8336"
      ]
     },
     "metadata": {},
     "output_type": "display_data"
    }
   ],
   "source": [
    "francs <- euro_to_francs(euros)\n",
    "head(francs,10) #Mit head() können wir die ersten X Einträge anzeigen lassen"
   ]
  },
  {
   "cell_type": "markdown",
   "id": "44cb1043",
   "metadata": {},
   "source": [
    "### Conditional Statements - Bedingungen\n",
    "R gibt uns die Möglichkeit Bedingungen zu überprüfen. Zum Beispiel 1<2. Mit dem if-Statement können wir diese Bedingungen überprüfen und je nach Ausgang der Bedingung (FALSE,TRUE) unterschiedlichen Code ausführen."
   ]
  },
  {
   "cell_type": "code",
   "execution_count": 17,
   "id": "2e8549cb",
   "metadata": {},
   "outputs": [
    {
     "data": {
      "text/html": [
       "TRUE"
      ],
      "text/latex": [
       "TRUE"
      ],
      "text/markdown": [
       "TRUE"
      ],
      "text/plain": [
       "[1] TRUE"
      ]
     },
     "metadata": {},
     "output_type": "display_data"
    }
   ],
   "source": [
    "x <- -3\n",
    "x < 0"
   ]
  },
  {
   "cell_type": "code",
   "execution_count": 18,
   "id": "97a09dab",
   "metadata": {},
   "outputs": [
    {
     "name": "stdout",
     "output_type": "stream",
     "text": [
      "[1] \"x ist eine negative Zahl\"\n"
     ]
    }
   ],
   "source": [
    "if(x < 0){\n",
    "    print(\"x ist eine negative Zahl\")\n",
    "}"
   ]
  },
  {
   "cell_type": "code",
   "execution_count": 19,
   "id": "bf700801",
   "metadata": {},
   "outputs": [],
   "source": [
    "if(x>0){\n",
    "    print(c)\n",
    "}"
   ]
  },
  {
   "cell_type": "code",
   "execution_count": 20,
   "id": "8cf565ef",
   "metadata": {},
   "outputs": [
    {
     "name": "stdout",
     "output_type": "stream",
     "text": [
      "[1] \"x ist eine negative Zahl\"\n"
     ]
    }
   ],
   "source": [
    "if(x>0){\n",
    "    print(\"x ist eine positive Zahl\")\n",
    "} else {\n",
    "    print(\"x ist eine negative Zahl\")\n",
    "}"
   ]
  },
  {
   "cell_type": "code",
   "execution_count": 21,
   "id": "59c6f15c",
   "metadata": {},
   "outputs": [
    {
     "data": {
      "text/html": [
       "'x ist eine negative Zahl'"
      ],
      "text/latex": [
       "'x ist eine negative Zahl'"
      ],
      "text/markdown": [
       "'x ist eine negative Zahl'"
      ],
      "text/plain": [
       "[1] \"x ist eine negative Zahl\""
      ]
     },
     "metadata": {},
     "output_type": "display_data"
    }
   ],
   "source": [
    "ifelse(x>0,\"x ist eine positive Zahl\",\"x ist eine negative Zahl\")"
   ]
  },
  {
   "cell_type": "code",
   "execution_count": 40,
   "id": "76d074d7",
   "metadata": {},
   "outputs": [],
   "source": [
    "y <- c(-3,1,0)"
   ]
  },
  {
   "cell_type": "code",
   "execution_count": 42,
   "id": "70ebfd52",
   "metadata": {},
   "outputs": [
    {
     "name": "stderr",
     "output_type": "stream",
     "text": [
      "Warning message in if (y > 0) {:\n",
      "\"Bedingung hat Länge > 1 und nur das erste Element wird benutzt\""
     ]
    },
    {
     "name": "stdout",
     "output_type": "stream",
     "text": [
      "[1] \"x ist eine negative Zahl\"\n"
     ]
    }
   ],
   "source": [
    "if(y>0){\n",
    "    print(\"x ist eine positive Zahl\")\n",
    "} else {\n",
    "    print(\"x ist eine negative Zahl\")\n",
    "}"
   ]
  },
  {
   "cell_type": "code",
   "execution_count": 43,
   "id": "b06fbc34",
   "metadata": {},
   "outputs": [
    {
     "data": {
      "text/html": [
       "<ol class=list-inline>\n",
       "\t<li>'x ist eine negative Zahl'</li>\n",
       "\t<li>'x ist eine positive Zahl'</li>\n",
       "\t<li>'x ist eine negative Zahl'</li>\n",
       "</ol>\n"
      ],
      "text/latex": [
       "\\begin{enumerate*}\n",
       "\\item 'x ist eine negative Zahl'\n",
       "\\item 'x ist eine positive Zahl'\n",
       "\\item 'x ist eine negative Zahl'\n",
       "\\end{enumerate*}\n"
      ],
      "text/markdown": [
       "1. 'x ist eine negative Zahl'\n",
       "2. 'x ist eine positive Zahl'\n",
       "3. 'x ist eine negative Zahl'\n",
       "\n",
       "\n"
      ],
      "text/plain": [
       "[1] \"x ist eine negative Zahl\" \"x ist eine positive Zahl\"\n",
       "[3] \"x ist eine negative Zahl\""
      ]
     },
     "metadata": {},
     "output_type": "display_data"
    }
   ],
   "source": [
    "ifelse(y>0,\"x ist eine positive Zahl\",\"x ist eine negative Zahl\")"
   ]
  },
  {
   "cell_type": "markdown",
   "id": "0f554f01",
   "metadata": {},
   "source": [
    "### Funktionen + Bedingungen\n",
    "natürlich können wir Funktionen und Bedingungen auch kombinieren."
   ]
  },
  {
   "cell_type": "code",
   "execution_count": 45,
   "id": "98074cb3",
   "metadata": {},
   "outputs": [],
   "source": [
    "to_euro <- function(Wert,Währung){\n",
    "    if(Währung==\"Dollar\"){\n",
    "        Wert <- Wert*1\n",
    "    }\n",
    "    if(Währung == \"Franken\"){\n",
    "        Wert <- Wert*1.05 #Stand 29.08\n",
    "    }\n",
    "    return(Wert)\n",
    "}"
   ]
  },
  {
   "cell_type": "code",
   "execution_count": 46,
   "id": "d987cf38",
   "metadata": {
    "scrolled": true
   },
   "outputs": [
    {
     "data": {
      "text/html": [
       "21"
      ],
      "text/latex": [
       "21"
      ],
      "text/markdown": [
       "21"
      ],
      "text/plain": [
       "[1] 21"
      ]
     },
     "metadata": {},
     "output_type": "display_data"
    },
    {
     "data": {
      "text/html": [
       "100"
      ],
      "text/latex": [
       "100"
      ],
      "text/markdown": [
       "100"
      ],
      "text/plain": [
       "[1] 100"
      ]
     },
     "metadata": {},
     "output_type": "display_data"
    }
   ],
   "source": [
    "to_euro(20,\"Franken\")\n",
    "to_euro(100,\"Euro\")"
   ]
  },
  {
   "cell_type": "code",
   "execution_count": 69,
   "id": "9735c484",
   "metadata": {},
   "outputs": [],
   "source": [
    "Währung <- c(\"Dollar\",\"Euro\",\"Franken\")\n",
    "Wert <- c(10,20,25)"
   ]
  },
  {
   "cell_type": "code",
   "execution_count": 112,
   "id": "5530b111",
   "metadata": {},
   "outputs": [
    {
     "name": "stderr",
     "output_type": "stream",
     "text": [
      "Warning message in if (Währung == \"Dollar\") {:\n",
      "\"Bedingung hat Länge > 1 und nur das erste Element wird benutzt\"Warning message in if (Währung == \"Franken\") {:\n",
      "\"Bedingung hat Länge > 1 und nur das erste Element wird benutzt\""
     ]
    },
    {
     "data": {
      "text/html": [
       "<ol class=list-inline>\n",
       "\t<li>10</li>\n",
       "\t<li>20</li>\n",
       "\t<li>25</li>\n",
       "</ol>\n"
      ],
      "text/latex": [
       "\\begin{enumerate*}\n",
       "\\item 10\n",
       "\\item 20\n",
       "\\item 25\n",
       "\\end{enumerate*}\n"
      ],
      "text/markdown": [
       "1. 10\n",
       "2. 20\n",
       "3. 25\n",
       "\n",
       "\n"
      ],
      "text/plain": [
       "[1] 10 20 25"
      ]
     },
     "metadata": {},
     "output_type": "display_data"
    }
   ],
   "source": [
    "to_euro(Wert,Währung)"
   ]
  },
  {
   "cell_type": "code",
   "execution_count": 48,
   "id": "dd8275c4",
   "metadata": {},
   "outputs": [],
   "source": [
    "to_euro_ifelse <- function(Wert,Währung){\n",
    "    Wert <- ifelse(Währung==\"Dollar\",Wert*1,Wert)\n",
    "    Wert <- ifelse(Währung==\"Franken\",Wert*1.05,Wert)\n",
    "    return(Wert)\n",
    "}"
   ]
  },
  {
   "cell_type": "code",
   "execution_count": 49,
   "id": "93389ad6",
   "metadata": {},
   "outputs": [
    {
     "data": {
      "text/html": [
       "<ol class=list-inline>\n",
       "\t<li>10</li>\n",
       "\t<li>20</li>\n",
       "\t<li>26.25</li>\n",
       "</ol>\n"
      ],
      "text/latex": [
       "\\begin{enumerate*}\n",
       "\\item 10\n",
       "\\item 20\n",
       "\\item 26.25\n",
       "\\end{enumerate*}\n"
      ],
      "text/markdown": [
       "1. 10\n",
       "2. 20\n",
       "3. 26.25\n",
       "\n",
       "\n"
      ],
      "text/plain": [
       "[1] 10.00 20.00 26.25"
      ]
     },
     "metadata": {},
     "output_type": "display_data"
    }
   ],
   "source": [
    "to_euro_ifelse(Wert,Währung)"
   ]
  },
  {
   "cell_type": "code",
   "execution_count": 64,
   "id": "5e96febb",
   "metadata": {},
   "outputs": [
    {
     "data": {
      "text/html": [
       "<ol class=list-inline>\n",
       "\t<li>10</li>\n",
       "\t<li>20</li>\n",
       "\t<li>25</li>\n",
       "</ol>\n"
      ],
      "text/latex": [
       "\\begin{enumerate*}\n",
       "\\item 10\n",
       "\\item 20\n",
       "\\item 25\n",
       "\\end{enumerate*}\n"
      ],
      "text/markdown": [
       "1. 10\n",
       "2. 20\n",
       "3. 25\n",
       "\n",
       "\n"
      ],
      "text/plain": [
       "[1] 10 20 25"
      ]
     },
     "metadata": {},
     "output_type": "display_data"
    }
   ],
   "source": [
    "Wert"
   ]
  },
  {
   "cell_type": "markdown",
   "id": "ec12bae0",
   "metadata": {},
   "source": [
    "### Schleifen\n",
    "Schleifen arbeiten ihre Aufgaben interativ ab, bis eine Bedingung erreicht wird. Es gibt folgende Möglichkeiten\n",
    "* For Schleife\n",
    "* While Schleife\n",
    "* Recursives Funktionen (Bonus)"
   ]
  },
  {
   "cell_type": "markdown",
   "id": "2e0d1d4c",
   "metadata": {},
   "source": [
    "#### for"
   ]
  },
  {
   "cell_type": "code",
   "execution_count": 50,
   "id": "d266bdaa",
   "metadata": {},
   "outputs": [
    {
     "name": "stdout",
     "output_type": "stream",
     "text": [
      "[1] \"Dollar\"\n",
      "[1] \"Euro\"\n",
      "[1] \"Franken\"\n"
     ]
    }
   ],
   "source": [
    "for(i in Währung){\n",
    "    print(i)\n",
    "}"
   ]
  },
  {
   "cell_type": "code",
   "execution_count": 54,
   "id": "9a4f2021",
   "metadata": {},
   "outputs": [
    {
     "name": "stdout",
     "output_type": "stream",
     "text": [
      "[1] \"Dollar\"\n",
      "[1] \"Franken\"\n"
     ]
    }
   ],
   "source": [
    "for(i in Währung){\n",
    "    if(i!=\"Euro\"){print(i)}\n",
    "}"
   ]
  },
  {
   "cell_type": "code",
   "execution_count": 59,
   "id": "72cabc77",
   "metadata": {},
   "outputs": [
    {
     "name": "stdout",
     "output_type": "stream",
     "text": [
      "[1] 10 20 25\n",
      "[1] 10 20 25\n",
      "[1] 10.50 21.00 26.25\n"
     ]
    }
   ],
   "source": [
    "#Wieso 3x3 Ergebnisse?\n",
    "for(i in Währung){\n",
    "    if(i==\"Dollar\"){print(Wert*1.0)}\n",
    "    if(i==\"Euro\"){print(Wert)}\n",
    "    if(i==\"Franken\"){print(Wert*1.05)}\n",
    "}"
   ]
  },
  {
   "cell_type": "code",
   "execution_count": 60,
   "id": "8faa1c14",
   "metadata": {},
   "outputs": [
    {
     "data": {
      "text/html": [
       "<ol class=list-inline>\n",
       "\t<li>10</li>\n",
       "\t<li>20</li>\n",
       "\t<li>25</li>\n",
       "</ol>\n"
      ],
      "text/latex": [
       "\\begin{enumerate*}\n",
       "\\item 10\n",
       "\\item 20\n",
       "\\item 25\n",
       "\\end{enumerate*}\n"
      ],
      "text/markdown": [
       "1. 10\n",
       "2. 20\n",
       "3. 25\n",
       "\n",
       "\n"
      ],
      "text/plain": [
       "[1] 10 20 25"
      ]
     },
     "metadata": {},
     "output_type": "display_data"
    }
   ],
   "source": [
    "Wert"
   ]
  },
  {
   "cell_type": "code",
   "execution_count": 113,
   "id": "be79582e",
   "metadata": {},
   "outputs": [
    {
     "data": {
      "text/html": [
       "<ol class=list-inline>\n",
       "\t<li>1</li>\n",
       "\t<li>2</li>\n",
       "\t<li>3</li>\n",
       "</ol>\n"
      ],
      "text/latex": [
       "\\begin{enumerate*}\n",
       "\\item 1\n",
       "\\item 2\n",
       "\\item 3\n",
       "\\end{enumerate*}\n"
      ],
      "text/markdown": [
       "1. 1\n",
       "2. 2\n",
       "3. 3\n",
       "\n",
       "\n"
      ],
      "text/plain": [
       "[1] 1 2 3"
      ]
     },
     "metadata": {},
     "output_type": "display_data"
    }
   ],
   "source": [
    "seq_along(Währung)"
   ]
  },
  {
   "cell_type": "code",
   "execution_count": 63,
   "id": "e62b789f",
   "metadata": {},
   "outputs": [
    {
     "name": "stdout",
     "output_type": "stream",
     "text": [
      "[1] 10\n",
      "[1] 20\n",
      "[1] 26.25\n"
     ]
    }
   ],
   "source": [
    "for(i in seq_along(Währung)){\n",
    "    if(Währung[i]==\"Dollar\"){print(Wert[i]*1.0)}\n",
    "    if(Währung[i]==\"Euro\"){print(Wert[i])}\n",
    "    if(Währung[i]==\"Franken\"){print(Wert[i]*1.05)}\n",
    "}"
   ]
  },
  {
   "cell_type": "code",
   "execution_count": 78,
   "id": "96fbe7c2",
   "metadata": {},
   "outputs": [
    {
     "data": {
      "text/html": [
       "<ol class=list-inline>\n",
       "\t<li>10</li>\n",
       "\t<li>20</li>\n",
       "\t<li>28.940625</li>\n",
       "</ol>\n"
      ],
      "text/latex": [
       "\\begin{enumerate*}\n",
       "\\item 10\n",
       "\\item 20\n",
       "\\item 28.940625\n",
       "\\end{enumerate*}\n"
      ],
      "text/markdown": [
       "1. 10\n",
       "2. 20\n",
       "3. 28.940625\n",
       "\n",
       "\n"
      ],
      "text/plain": [
       "[1] 10.00000 20.00000 28.94063"
      ]
     },
     "metadata": {},
     "output_type": "display_data"
    }
   ],
   "source": [
    "Wert"
   ]
  },
  {
   "cell_type": "code",
   "execution_count": 79,
   "id": "b29e5c98",
   "metadata": {},
   "outputs": [],
   "source": [
    "for(i in seq_along(Währung)){\n",
    "    if(Währung[i]==\"Dollar\"){Wert[i] <- Wert[i]*1.0}\n",
    "    if(Währung[i]==\"Euro\"){Wert[i] <- Wert[i]}\n",
    "    if(Währung[i]==\"Franken\"){Wert[i] <- Wert[i]*1.05}\n",
    "}"
   ]
  },
  {
   "cell_type": "code",
   "execution_count": 82,
   "id": "de68b34c",
   "metadata": {},
   "outputs": [
    {
     "data": {
      "text/html": [
       "<ol class=list-inline>\n",
       "\t<li>10</li>\n",
       "\t<li>20</li>\n",
       "\t<li>30.38765625</li>\n",
       "</ol>\n"
      ],
      "text/latex": [
       "\\begin{enumerate*}\n",
       "\\item 10\n",
       "\\item 20\n",
       "\\item 30.38765625\n",
       "\\end{enumerate*}\n"
      ],
      "text/markdown": [
       "1. 10\n",
       "2. 20\n",
       "3. 30.38765625\n",
       "\n",
       "\n"
      ],
      "text/plain": [
       "[1] 10.00000 20.00000 30.38766"
      ]
     },
     "metadata": {},
     "output_type": "display_data"
    }
   ],
   "source": [
    "Wert"
   ]
  },
  {
   "cell_type": "code",
   "execution_count": 83,
   "id": "2a1bcf0c",
   "metadata": {},
   "outputs": [],
   "source": [
    "Wert <- c(10,20,25)"
   ]
  },
  {
   "cell_type": "code",
   "execution_count": 84,
   "id": "81b2f52b",
   "metadata": {},
   "outputs": [],
   "source": [
    "to_euro_loop <- function(Wert,Währung){\n",
    "    for(i in seq_along(Wert)){\n",
    "        if(Währung[i]==\"Dollar\"){\n",
    "            Wert[i] <- Wert[i]*1\n",
    "        }\n",
    "        if(Währung[i]==\"Franken\"){\n",
    "            Wert[i] <- Wert[i]*1.05 #Stand 29.08\n",
    "        }\n",
    "    \n",
    "    }\n",
    "    return(Wert)\n",
    "}"
   ]
  },
  {
   "cell_type": "code",
   "execution_count": 87,
   "id": "4e2265fd",
   "metadata": {},
   "outputs": [
    {
     "data": {
      "text/html": [
       "<ol class=list-inline>\n",
       "\t<li>10</li>\n",
       "\t<li>20</li>\n",
       "\t<li>26.25</li>\n",
       "</ol>\n"
      ],
      "text/latex": [
       "\\begin{enumerate*}\n",
       "\\item 10\n",
       "\\item 20\n",
       "\\item 26.25\n",
       "\\end{enumerate*}\n"
      ],
      "text/markdown": [
       "1. 10\n",
       "2. 20\n",
       "3. 26.25\n",
       "\n",
       "\n"
      ],
      "text/plain": [
       "[1] 10.00 20.00 26.25"
      ]
     },
     "metadata": {},
     "output_type": "display_data"
    }
   ],
   "source": [
    "to_euro_loop(Wert,Währung)"
   ]
  },
  {
   "cell_type": "code",
   "execution_count": 88,
   "id": "81fa5be5",
   "metadata": {},
   "outputs": [
    {
     "data": {
      "text/html": [
       "<ol class=list-inline>\n",
       "\t<li>10</li>\n",
       "\t<li>20</li>\n",
       "\t<li>25</li>\n",
       "</ol>\n"
      ],
      "text/latex": [
       "\\begin{enumerate*}\n",
       "\\item 10\n",
       "\\item 20\n",
       "\\item 25\n",
       "\\end{enumerate*}\n"
      ],
      "text/markdown": [
       "1. 10\n",
       "2. 20\n",
       "3. 25\n",
       "\n",
       "\n"
      ],
      "text/plain": [
       "[1] 10 20 25"
      ]
     },
     "metadata": {},
     "output_type": "display_data"
    }
   ],
   "source": [
    "Wert"
   ]
  },
  {
   "cell_type": "code",
   "execution_count": 89,
   "id": "0624ec8f",
   "metadata": {},
   "outputs": [],
   "source": [
    "wert_euro <- to_euro_loop(Wert,Währung)"
   ]
  },
  {
   "cell_type": "markdown",
   "id": "376dfeb3",
   "metadata": {},
   "source": [
    "#### while"
   ]
  },
  {
   "cell_type": "code",
   "execution_count": 106,
   "id": "ed4e9dd2",
   "metadata": {},
   "outputs": [
    {
     "name": "stdout",
     "output_type": "stream",
     "text": [
      "[1] 90\n",
      "[1] 80\n",
      "[1] 70\n",
      "[1] 60\n",
      "[1] 50\n",
      "[1] 40\n",
      "[1] 30\n",
      "[1] 20\n",
      "[1] 10\n",
      "[1] 0\n"
     ]
    }
   ],
   "source": [
    "x <- 100\n",
    "while(x >= 1){\n",
    "    x <- x-10\n",
    "    print(x)\n",
    "}"
   ]
  },
  {
   "cell_type": "markdown",
   "id": "c04035e5",
   "metadata": {},
   "source": [
    "#### Recursive functions"
   ]
  },
  {
   "cell_type": "code",
   "execution_count": 111,
   "id": "5f469c17",
   "metadata": {},
   "outputs": [],
   "source": [
    "minus10 <- function(x){\n",
    "    x-10\n",
    "    if(x>=1){\n",
    "        minus10(x)\n",
    "    }\n",
    "    return(x)\n",
    "}"
   ]
  },
  {
   "cell_type": "code",
   "execution_count": 110,
   "id": "4b291b98",
   "metadata": {},
   "outputs": [
    {
     "name": "stdout",
     "output_type": "stream",
     "text": [
      "[1] 0\n"
     ]
    },
    {
     "data": {
      "text/html": [
       "0"
      ],
      "text/latex": [
       "0"
      ],
      "text/markdown": [
       "0"
      ],
      "text/plain": [
       "[1] 0"
      ]
     },
     "metadata": {},
     "output_type": "display_data"
    }
   ],
   "source": [
    "minus10(x)"
   ]
  },
  {
   "cell_type": "code",
   "execution_count": null,
   "id": "a8956a7e",
   "metadata": {},
   "outputs": [],
   "source": []
  }
 ],
 "metadata": {
  "kernelspec": {
   "display_name": "R",
   "language": "R",
   "name": "ir"
  },
  "language_info": {
   "codemirror_mode": "r",
   "file_extension": ".r",
   "mimetype": "text/x-r-source",
   "name": "R",
   "pygments_lexer": "r",
   "version": "3.6.1"
  }
 },
 "nbformat": 4,
 "nbformat_minor": 5
}
