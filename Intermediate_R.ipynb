{
 "cells": [
  {
   "cell_type": "markdown",
   "id": "f8a90877",
   "metadata": {},
   "source": [
    "### Funktionen\n",
    "Funktionen sind ein Bündel an Statements/Operationen zur Durchführung einer bestimmten Aufgabe.\n",
    "\n",
    "Einige Funktionen die wir bereits kennengelernt haben sind print() und combine(). Zusätzlich gibt es noch weitere nützliche Standardfunktionen, wie zum Beispiel\n",
    "* runif - Zufallgenerator für Zahlen (Uniform Distributioon)\n",
    "* round - Runden einer Zahl (ganze Zahl oder Nachkommastellen)"
   ]
  },
  {
   "cell_type": "code",
   "execution_count": 1,
   "id": "116f2ea2",
   "metadata": {},
   "outputs": [],
   "source": [
    "set.seed(123) #Mit einem Seed erhalten wir bei Random\n",
    "euros <- runif(100,min=0,max=100) #Wir samplen 100 Werte aus der Random Uniform Distribution\n",
    "euros <- round(euros,2) #Wir runden unsere Euros auf 2 Nachkommastellen"
   ]
  },
  {
   "cell_type": "markdown",
   "id": "a34140de",
   "metadata": {},
   "source": [
    "Weitere Statistische Funktionen umfassen:\n",
    "* sum() - Summe\n",
    "* mean() - Mittelwert\n",
    "* median() - Median\n",
    "* quantile() -x"
   ]
  },
  {
   "cell_type": "code",
   "execution_count": 2,
   "id": "66d110e2",
   "metadata": {},
   "outputs": [
    {
     "data": {
      "text/html": [
       "4985.56"
      ],
      "text/latex": [
       "4985.56"
      ],
      "text/markdown": [
       "4985.56"
      ],
      "text/plain": [
       "[1] 4985.56"
      ]
     },
     "metadata": {},
     "output_type": "display_data"
    },
    {
     "data": {
      "text/html": [
       "49.8556"
      ],
      "text/latex": [
       "49.8556"
      ],
      "text/markdown": [
       "49.8556"
      ],
      "text/plain": [
       "[1] 49.8556"
      ]
     },
     "metadata": {},
     "output_type": "display_data"
    },
    {
     "data": {
      "text/html": [
       "46.64"
      ],
      "text/latex": [
       "46.64"
      ],
      "text/markdown": [
       "46.64"
      ],
      "text/plain": [
       "[1] 46.64"
      ]
     },
     "metadata": {},
     "output_type": "display_data"
    }
   ],
   "source": [
    "sum(euros)\n",
    "mean(euros)\n",
    "median(euros)"
   ]
  },
  {
   "cell_type": "code",
   "execution_count": 3,
   "id": "108c57ca",
   "metadata": {},
   "outputs": [
    {
     "name": "stdout",
     "output_type": "stream",
     "text": [
      "     0%     25%     50%     75%    100% \n",
      " 0.0600 24.5475 46.6400 75.5500 99.4300 \n"
     ]
    }
   ],
   "source": [
    "print(quantile(euros))"
   ]
  },
  {
   "cell_type": "markdown",
   "id": "b2d40b40",
   "metadata": {},
   "source": [
    "### User-Defined Functions\n",
    "Neben diversen Standardfunktionen haben wir auch die Möglichkeit eigene Funktionen zu definieren. Zur Erstellung von Custom Functions können wir die Funktion function() nutzen. Die Hauptbestandteile einer Funktion sind:\n",
    "\n",
    "* Name der Funktion\n",
    "* Argumente\n",
    "* Function Body\n",
    "* Return Value"
   ]
  },
  {
   "cell_type": "code",
   "execution_count": 4,
   "id": "6c98210d",
   "metadata": {},
   "outputs": [],
   "source": [
    "#Wir erstellen eine Funktion, die uns Euros in Franken umwandelt\n",
    "euro_to_francs <- function(euros){\n",
    "    francs <- euros * 0.96 #Stand 29.08.2022\n",
    "    return(francs)\n",
    "}"
   ]
  },
  {
   "cell_type": "code",
   "execution_count": 5,
   "id": "333329d5",
   "metadata": {},
   "outputs": [
    {
     "data": {
      "text/html": [
       "<ol class=list-inline>\n",
       "\t<li>27.6096</li>\n",
       "\t<li>75.6768</li>\n",
       "\t<li>39.264</li>\n",
       "\t<li>84.768</li>\n",
       "\t<li>90.288</li>\n",
       "\t<li>4.3776</li>\n",
       "\t<li>50.6976</li>\n",
       "\t<li>85.6704</li>\n",
       "\t<li>52.9344</li>\n",
       "\t<li>43.8336</li>\n",
       "</ol>\n"
      ],
      "text/latex": [
       "\\begin{enumerate*}\n",
       "\\item 27.6096\n",
       "\\item 75.6768\n",
       "\\item 39.264\n",
       "\\item 84.768\n",
       "\\item 90.288\n",
       "\\item 4.3776\n",
       "\\item 50.6976\n",
       "\\item 85.6704\n",
       "\\item 52.9344\n",
       "\\item 43.8336\n",
       "\\end{enumerate*}\n"
      ],
      "text/markdown": [
       "1. 27.6096\n",
       "2. 75.6768\n",
       "3. 39.264\n",
       "4. 84.768\n",
       "5. 90.288\n",
       "6. 4.3776\n",
       "7. 50.6976\n",
       "8. 85.6704\n",
       "9. 52.9344\n",
       "10. 43.8336\n",
       "\n",
       "\n"
      ],
      "text/plain": [
       " [1] 27.6096 75.6768 39.2640 84.7680 90.2880  4.3776 50.6976 85.6704 52.9344\n",
       "[10] 43.8336"
      ]
     },
     "metadata": {},
     "output_type": "display_data"
    }
   ],
   "source": [
    "francs <- euro_to_francs(euros)\n",
    "head(francs,10) #Mit head() können wir die ersten X Einträge anzeigen lassen"
   ]
  },
  {
   "cell_type": "code",
   "execution_count": null,
   "id": "996919b2",
   "metadata": {},
   "outputs": [],
   "source": []
  }
 ],
 "metadata": {
  "kernelspec": {
   "display_name": "R",
   "language": "R",
   "name": "ir"
  },
  "language_info": {
   "codemirror_mode": "r",
   "file_extension": ".r",
   "mimetype": "text/x-r-source",
   "name": "R",
   "pygments_lexer": "r",
   "version": "3.6.1"
  }
 },
 "nbformat": 4,
 "nbformat_minor": 5
}
