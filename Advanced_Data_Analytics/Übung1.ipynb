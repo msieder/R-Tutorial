{
 "cells": [
  {
   "cell_type": "markdown",
   "id": "fb4a8a10",
   "metadata": {},
   "source": [
    "# Übung 1\n",
    "\n",
    "Für die Übungsbeispiele beschäftigen wir uns mit dem US Health Insurance Dataset. In diesem öffentlich verfügbarem Datensatz befinden sich 1338 records mit folgenden Attributen:\n",
    "* age = Alter der versicherten Person\n",
    "* sex = Geschlecht der versicherten Person\n",
    "* bmi = Body Mass Index (kg / m ^ 2), idealerweise zwischen 18.5 und 24.9.\n",
    "* children = Anzahl an mitversicherten Kindern\n",
    "* smoker = Versicherte Person ist Rauchr (yes/no)\n",
    "* region = Einteilung der US in 4 regionen (northeast, northwest, southeast, southwest)\n",
    "* charges = Leistungen die von der versicherten Person in Anspruch genommen wurden\n",
    "\n",
    "Quelle Datensatz: https://www.kaggle.com/datasets/teertha/ushealthinsurancedataset"
   ]
  },
  {
   "cell_type": "code",
   "execution_count": null,
   "id": "f3a7e91e",
   "metadata": {},
   "outputs": [],
   "source": [
    "library(dplyr)"
   ]
  },
  {
   "cell_type": "code",
   "execution_count": null,
   "id": "8e11a3cc",
   "metadata": {},
   "outputs": [],
   "source": [
    "df <- read.csv(\"../insurance.csv\")"
   ]
  },
  {
   "cell_type": "code",
   "execution_count": null,
   "id": "c122c5f1",
   "metadata": {},
   "outputs": [],
   "source": [
    "summary(df)"
   ]
  },
  {
   "cell_type": "code",
   "execution_count": null,
   "id": "114cd509",
   "metadata": {},
   "outputs": [],
   "source": [
    "head(df)"
   ]
  },
  {
   "cell_type": "markdown",
   "id": "6bc8832a",
   "metadata": {},
   "source": [
    "### Aufgabe 1\n",
    "Erstelle eine neues Attribut mit dem Namen \"Family\". Family ist \"Ja\", wenn mindestens ein Kind mitversichert ist"
   ]
  },
  {
   "cell_type": "code",
   "execution_count": null,
   "id": "536e4fa7",
   "metadata": {},
   "outputs": [],
   "source": [
    "# Code hier"
   ]
  },
  {
   "cell_type": "markdown",
   "id": "abeb6d73",
   "metadata": {},
   "source": [
    "### Aufgabe 2\n",
    "Was sind die durchschnittlichen Leistungen für Raucher/Nichtraucher?"
   ]
  },
  {
   "cell_type": "code",
   "execution_count": null,
   "id": "b123d36d",
   "metadata": {},
   "outputs": [],
   "source": [
    "# Code hier"
   ]
  },
  {
   "cell_type": "markdown",
   "id": "5f4e0d58",
   "metadata": {},
   "source": [
    "### Aufgabe 3\n",
    "\n",
    "Schränke auf Personen ein, die 25 oder jünger bzw. 50 oder älter sind. Fasse diese Personen in 2 Gruppen zusammen.\n",
    "* Wie viele Personen befinden sich in den jeweiligen Gruppen?\n",
    "* Wie hoch ist die Gesamtsumme der Leistungen in den Gruppen?\n",
    "* Was ist die durchschnittliche Höhe einer Leistung in den Gruppen?\n",
    "\n",
    "Tipp: Du kannst numerische variablen in \"Bins\" zusammenfassen mit der folgenden Funktion:\n",
    "cut(age, breaks=c(0,25,50,75), include.lowest=TRUE)"
   ]
  },
  {
   "cell_type": "code",
   "execution_count": null,
   "id": "709f65af",
   "metadata": {},
   "outputs": [],
   "source": [
    "# Code hier"
   ]
  },
  {
   "cell_type": "code",
   "execution_count": null,
   "id": "0b29d72f",
   "metadata": {},
   "outputs": [],
   "source": []
  }
 ],
 "metadata": {
  "kernelspec": {
   "display_name": "R",
   "language": "R",
   "name": "ir"
  },
  "language_info": {
   "codemirror_mode": "r",
   "file_extension": ".r",
   "mimetype": "text/x-r-source",
   "name": "R",
   "pygments_lexer": "r",
   "version": "3.6.1"
  }
 },
 "nbformat": 4,
 "nbformat_minor": 5
}
