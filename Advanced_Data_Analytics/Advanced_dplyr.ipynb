{
 "cells": [
  {
   "cell_type": "markdown",
   "id": "54610b2c",
   "metadata": {},
   "source": [
    "# Advanced Data Analytics\n",
    "\n",
    "## Part 1 - Data Manipulation\n",
    "\n",
    "\n",
    "Um dieses Notebook auszuführen wähle die jeweilige \"Line of Code\" und drücke **CTRL+ENTER**. Mit **SHIFT+ENTER** führst du eine Zeile aus und springst automatisch zur nächsten \n",
    "\n",
    "focus on dplyr - base datasets etc\n",
    "\n",
    "go for comparisons aswell...\n",
    "start with:\n",
    "* select \n",
    "* filter\n",
    "* arrange\n",
    "* head\n",
    "* mutate\n",
    "\n",
    "the pipe %>%\n",
    "\n",
    "next points\n",
    "\n",
    "* group by\n",
    "* summarize\n",
    "\n",
    "custom functions (again)"
   ]
  },
  {
   "cell_type": "markdown",
   "id": "57cb81ac",
   "metadata": {},
   "source": [
    "### Installing Packages\n",
    "\n",
    "Ein großer Grund, warum sich R großer Beliebtheit erfreut ist die große Menge und Diversität an verfügbaren Paketen. Viele Pakete sind via CRAN (https://cran.r-project.org/) verfügbar und können intuitiv in R mit der Funktion install.packages() installiert werden. Alternativ bietet RStudio auch eine graphische Maske für das Installieren und Laden von Paketen\n",
    "\n",
    "Die Pakete/Libraries werden dann lokal (auf dem PC des Users) gespeichert. Um die Pakete und ihre Funktionen auch nutzen zu können müssen die Libraries vor jeder Session neu importiert.\n",
    "\n",
    "Die Pakete \"tidyverse\" und \"ggplot2\" wurden bereits vorab installiert auf den Binder Maschinen installiert.\n",
    "\n",
    "Weitere Nützliche Pakete: \n",
    "https://support.posit.co/hc/en-us/articles/201057987-Quick-list-of-useful-R-packages\n"
   ]
  },
  {
   "cell_type": "code",
   "execution_count": 23,
   "id": "7ab2575b",
   "metadata": {},
   "outputs": [
    {
     "name": "stderr",
     "output_type": "stream",
     "text": [
      "Installing package into 'D:/Dokumente/R/win-library/3.6'\n",
      "(as 'lib' is unspecified)\n"
     ]
    },
    {
     "name": "stdout",
     "output_type": "stream",
     "text": [
      "\n",
      "  There is a binary version available but the source version is later:\n",
      "    binary source needs_compilation\n",
      "DBI  1.1.1  1.1.3             FALSE\n",
      "\n"
     ]
    },
    {
     "name": "stderr",
     "output_type": "stream",
     "text": [
      "installing the source package 'DBI'\n",
      "\n"
     ]
    }
   ],
   "source": [
    "#install.packages(\"tidyverse\") #already installed\n",
    "\n",
    "install.packages(c(\"DBI\")) #Beispiel Paket zur Verküpfung mit SQL Datenbanken "
   ]
  },
  {
   "cell_type": "code",
   "execution_count": 24,
   "id": "bee75d2b",
   "metadata": {},
   "outputs": [],
   "source": [
    "?DBI::dbConnect"
   ]
  },
  {
   "cell_type": "code",
   "execution_count": 25,
   "id": "f33863df",
   "metadata": {},
   "outputs": [],
   "source": [
    "library(DBI)\n",
    "?dbConnect"
   ]
  },
  {
   "cell_type": "code",
   "execution_count": 34,
   "id": "72c7fb56",
   "metadata": {},
   "outputs": [],
   "source": [
    "library(dplyr)"
   ]
  },
  {
   "cell_type": "markdown",
   "id": "1f292d1f",
   "metadata": {},
   "source": [
    "### Dataset examples:\n",
    "https://www.kaggle.com/datasets/teertha/ushealthinsurancedataset\n",
    "\n",
    "sources:\n",
    "https://joss.theoj.org/papers/10.21105/joss.01686"
   ]
  },
  {
   "cell_type": "markdown",
   "id": "7293b0d3",
   "metadata": {},
   "source": [
    "### Die \"Pipe\" %>%\n",
    "\n",
    "Das dplyr Paket ist auf die Arbeit mit DataFrames (bzw. tibble) ausgerichtet. Alle Funktionen nehmen als ersten Input ein Dataframe.\n",
    "\n",
    "Sobald mehr als ein Schritt ausgeführt werden soll wird der Code unübersichtlich oder es müssen mehrere Zwischentabellen verwendet werden. Mit dem Piping Operator können Funktionen sequenziell ausgeführt werden und die Daten werden \"übergeben\"\n",
    "\n",
    "Syntax:\n",
    "my_df %>% summary()"
   ]
  },
  {
   "cell_type": "code",
   "execution_count": 2,
   "id": "1186b679",
   "metadata": {},
   "outputs": [],
   "source": [
    "data(mtcars)"
   ]
  },
  {
   "cell_type": "code",
   "execution_count": 27,
   "id": "3032b69e",
   "metadata": {},
   "outputs": [
    {
     "data": {
      "text/plain": [
       "      mpg             cyl             disp             hp       \n",
       " Min.   :10.40   Min.   :4.000   Min.   : 71.1   Min.   : 52.0  \n",
       " 1st Qu.:15.43   1st Qu.:4.000   1st Qu.:120.8   1st Qu.: 96.5  \n",
       " Median :19.20   Median :6.000   Median :196.3   Median :123.0  \n",
       " Mean   :20.09   Mean   :6.188   Mean   :230.7   Mean   :146.7  \n",
       " 3rd Qu.:22.80   3rd Qu.:8.000   3rd Qu.:326.0   3rd Qu.:180.0  \n",
       " Max.   :33.90   Max.   :8.000   Max.   :472.0   Max.   :335.0  \n",
       "      drat             wt             qsec             vs        \n",
       " Min.   :2.760   Min.   :1.513   Min.   :14.50   Min.   :0.0000  \n",
       " 1st Qu.:3.080   1st Qu.:2.581   1st Qu.:16.89   1st Qu.:0.0000  \n",
       " Median :3.695   Median :3.325   Median :17.71   Median :0.0000  \n",
       " Mean   :3.597   Mean   :3.217   Mean   :17.85   Mean   :0.4375  \n",
       " 3rd Qu.:3.920   3rd Qu.:3.610   3rd Qu.:18.90   3rd Qu.:1.0000  \n",
       " Max.   :4.930   Max.   :5.424   Max.   :22.90   Max.   :1.0000  \n",
       "       am              gear            carb      \n",
       " Min.   :0.0000   Min.   :3.000   Min.   :1.000  \n",
       " 1st Qu.:0.0000   1st Qu.:3.000   1st Qu.:2.000  \n",
       " Median :0.0000   Median :4.000   Median :2.000  \n",
       " Mean   :0.4062   Mean   :3.688   Mean   :2.812  \n",
       " 3rd Qu.:1.0000   3rd Qu.:4.000   3rd Qu.:4.000  \n",
       " Max.   :1.0000   Max.   :5.000   Max.   :8.000  "
      ]
     },
     "metadata": {},
     "output_type": "display_data"
    }
   ],
   "source": [
    "summary(mtcars)"
   ]
  },
  {
   "cell_type": "code",
   "execution_count": 28,
   "id": "aebfdd50",
   "metadata": {},
   "outputs": [
    {
     "data": {
      "text/plain": [
       "      mpg             cyl             disp             hp       \n",
       " Min.   :10.40   Min.   :4.000   Min.   : 71.1   Min.   : 52.0  \n",
       " 1st Qu.:15.43   1st Qu.:4.000   1st Qu.:120.8   1st Qu.: 96.5  \n",
       " Median :19.20   Median :6.000   Median :196.3   Median :123.0  \n",
       " Mean   :20.09   Mean   :6.188   Mean   :230.7   Mean   :146.7  \n",
       " 3rd Qu.:22.80   3rd Qu.:8.000   3rd Qu.:326.0   3rd Qu.:180.0  \n",
       " Max.   :33.90   Max.   :8.000   Max.   :472.0   Max.   :335.0  \n",
       "      drat             wt             qsec             vs        \n",
       " Min.   :2.760   Min.   :1.513   Min.   :14.50   Min.   :0.0000  \n",
       " 1st Qu.:3.080   1st Qu.:2.581   1st Qu.:16.89   1st Qu.:0.0000  \n",
       " Median :3.695   Median :3.325   Median :17.71   Median :0.0000  \n",
       " Mean   :3.597   Mean   :3.217   Mean   :17.85   Mean   :0.4375  \n",
       " 3rd Qu.:3.920   3rd Qu.:3.610   3rd Qu.:18.90   3rd Qu.:1.0000  \n",
       " Max.   :4.930   Max.   :5.424   Max.   :22.90   Max.   :1.0000  \n",
       "       am              gear            carb      \n",
       " Min.   :0.0000   Min.   :3.000   Min.   :1.000  \n",
       " 1st Qu.:0.0000   1st Qu.:3.000   1st Qu.:2.000  \n",
       " Median :0.0000   Median :4.000   Median :2.000  \n",
       " Mean   :0.4062   Mean   :3.688   Mean   :2.812  \n",
       " 3rd Qu.:1.0000   3rd Qu.:4.000   3rd Qu.:4.000  \n",
       " Max.   :1.0000   Max.   :5.000   Max.   :8.000  "
      ]
     },
     "metadata": {},
     "output_type": "display_data"
    }
   ],
   "source": [
    "mtcars %>% summary()"
   ]
  },
  {
   "cell_type": "code",
   "execution_count": 30,
   "id": "46be3e82",
   "metadata": {},
   "outputs": [
    {
     "data": {
      "text/html": [
       "<table>\n",
       "<thead><tr><th></th><th scope=col>mpg</th><th scope=col>cyl</th><th scope=col>disp</th><th scope=col>hp</th><th scope=col>drat</th><th scope=col>wt</th><th scope=col>qsec</th><th scope=col>vs</th><th scope=col>am</th><th scope=col>gear</th><th scope=col>carb</th></tr></thead>\n",
       "<tbody>\n",
       "\t<tr><th scope=row>Mazda RX4</th><td>21.0 </td><td>6    </td><td>160  </td><td>110  </td><td>3.90 </td><td>2.620</td><td>16.46</td><td>0    </td><td>1    </td><td>4    </td><td>4    </td></tr>\n",
       "\t<tr><th scope=row>Mazda RX4 Wag</th><td>21.0 </td><td>6    </td><td>160  </td><td>110  </td><td>3.90 </td><td>2.875</td><td>17.02</td><td>0    </td><td>1    </td><td>4    </td><td>4    </td></tr>\n",
       "\t<tr><th scope=row>Datsun 710</th><td>22.8 </td><td>4    </td><td>108  </td><td> 93  </td><td>3.85 </td><td>2.320</td><td>18.61</td><td>1    </td><td>1    </td><td>4    </td><td>1    </td></tr>\n",
       "\t<tr><th scope=row>Hornet 4 Drive</th><td>21.4 </td><td>6    </td><td>258  </td><td>110  </td><td>3.08 </td><td>3.215</td><td>19.44</td><td>1    </td><td>0    </td><td>3    </td><td>1    </td></tr>\n",
       "\t<tr><th scope=row>Hornet Sportabout</th><td>18.7 </td><td>8    </td><td>360  </td><td>175  </td><td>3.15 </td><td>3.440</td><td>17.02</td><td>0    </td><td>0    </td><td>3    </td><td>2    </td></tr>\n",
       "\t<tr><th scope=row>Valiant</th><td>18.1 </td><td>6    </td><td>225  </td><td>105  </td><td>2.76 </td><td>3.460</td><td>20.22</td><td>1    </td><td>0    </td><td>3    </td><td>1    </td></tr>\n",
       "</tbody>\n",
       "</table>\n"
      ],
      "text/latex": [
       "\\begin{tabular}{r|lllllllllll}\n",
       "  & mpg & cyl & disp & hp & drat & wt & qsec & vs & am & gear & carb\\\\\n",
       "\\hline\n",
       "\tMazda RX4 & 21.0  & 6     & 160   & 110   & 3.90  & 2.620 & 16.46 & 0     & 1     & 4     & 4    \\\\\n",
       "\tMazda RX4 Wag & 21.0  & 6     & 160   & 110   & 3.90  & 2.875 & 17.02 & 0     & 1     & 4     & 4    \\\\\n",
       "\tDatsun 710 & 22.8  & 4     & 108   &  93   & 3.85  & 2.320 & 18.61 & 1     & 1     & 4     & 1    \\\\\n",
       "\tHornet 4 Drive & 21.4  & 6     & 258   & 110   & 3.08  & 3.215 & 19.44 & 1     & 0     & 3     & 1    \\\\\n",
       "\tHornet Sportabout & 18.7  & 8     & 360   & 175   & 3.15  & 3.440 & 17.02 & 0     & 0     & 3     & 2    \\\\\n",
       "\tValiant & 18.1  & 6     & 225   & 105   & 2.76  & 3.460 & 20.22 & 1     & 0     & 3     & 1    \\\\\n",
       "\\end{tabular}\n"
      ],
      "text/markdown": [
       "\n",
       "| <!--/--> | mpg | cyl | disp | hp | drat | wt | qsec | vs | am | gear | carb |\n",
       "|---|---|---|---|---|---|---|---|---|---|---|---|\n",
       "| Mazda RX4 | 21.0  | 6     | 160   | 110   | 3.90  | 2.620 | 16.46 | 0     | 1     | 4     | 4     |\n",
       "| Mazda RX4 Wag | 21.0  | 6     | 160   | 110   | 3.90  | 2.875 | 17.02 | 0     | 1     | 4     | 4     |\n",
       "| Datsun 710 | 22.8  | 4     | 108   |  93   | 3.85  | 2.320 | 18.61 | 1     | 1     | 4     | 1     |\n",
       "| Hornet 4 Drive | 21.4  | 6     | 258   | 110   | 3.08  | 3.215 | 19.44 | 1     | 0     | 3     | 1     |\n",
       "| Hornet Sportabout | 18.7  | 8     | 360   | 175   | 3.15  | 3.440 | 17.02 | 0     | 0     | 3     | 2     |\n",
       "| Valiant | 18.1  | 6     | 225   | 105   | 2.76  | 3.460 | 20.22 | 1     | 0     | 3     | 1     |\n",
       "\n"
      ],
      "text/plain": [
       "                  mpg  cyl disp hp  drat wt    qsec  vs am gear carb\n",
       "Mazda RX4         21.0 6   160  110 3.90 2.620 16.46 0  1  4    4   \n",
       "Mazda RX4 Wag     21.0 6   160  110 3.90 2.875 17.02 0  1  4    4   \n",
       "Datsun 710        22.8 4   108   93 3.85 2.320 18.61 1  1  4    1   \n",
       "Hornet 4 Drive    21.4 6   258  110 3.08 3.215 19.44 1  0  3    1   \n",
       "Hornet Sportabout 18.7 8   360  175 3.15 3.440 17.02 0  0  3    2   \n",
       "Valiant           18.1 6   225  105 2.76 3.460 20.22 1  0  3    1   "
      ]
     },
     "metadata": {},
     "output_type": "display_data"
    },
    {
     "data": {
      "text/html": [
       "<table>\n",
       "<thead><tr><th></th><th scope=col>mpg</th><th scope=col>cyl</th><th scope=col>disp</th><th scope=col>hp</th><th scope=col>drat</th><th scope=col>wt</th><th scope=col>qsec</th><th scope=col>vs</th><th scope=col>am</th><th scope=col>gear</th><th scope=col>carb</th></tr></thead>\n",
       "<tbody>\n",
       "\t<tr><th scope=row>Mazda RX4</th><td>21.0 </td><td>6    </td><td>160  </td><td>110  </td><td>3.90 </td><td>2.620</td><td>16.46</td><td>0    </td><td>1    </td><td>4    </td><td>4    </td></tr>\n",
       "\t<tr><th scope=row>Mazda RX4 Wag</th><td>21.0 </td><td>6    </td><td>160  </td><td>110  </td><td>3.90 </td><td>2.875</td><td>17.02</td><td>0    </td><td>1    </td><td>4    </td><td>4    </td></tr>\n",
       "\t<tr><th scope=row>Datsun 710</th><td>22.8 </td><td>4    </td><td>108  </td><td> 93  </td><td>3.85 </td><td>2.320</td><td>18.61</td><td>1    </td><td>1    </td><td>4    </td><td>1    </td></tr>\n",
       "\t<tr><th scope=row>Hornet 4 Drive</th><td>21.4 </td><td>6    </td><td>258  </td><td>110  </td><td>3.08 </td><td>3.215</td><td>19.44</td><td>1    </td><td>0    </td><td>3    </td><td>1    </td></tr>\n",
       "\t<tr><th scope=row>Hornet Sportabout</th><td>18.7 </td><td>8    </td><td>360  </td><td>175  </td><td>3.15 </td><td>3.440</td><td>17.02</td><td>0    </td><td>0    </td><td>3    </td><td>2    </td></tr>\n",
       "\t<tr><th scope=row>Valiant</th><td>18.1 </td><td>6    </td><td>225  </td><td>105  </td><td>2.76 </td><td>3.460</td><td>20.22</td><td>1    </td><td>0    </td><td>3    </td><td>1    </td></tr>\n",
       "</tbody>\n",
       "</table>\n"
      ],
      "text/latex": [
       "\\begin{tabular}{r|lllllllllll}\n",
       "  & mpg & cyl & disp & hp & drat & wt & qsec & vs & am & gear & carb\\\\\n",
       "\\hline\n",
       "\tMazda RX4 & 21.0  & 6     & 160   & 110   & 3.90  & 2.620 & 16.46 & 0     & 1     & 4     & 4    \\\\\n",
       "\tMazda RX4 Wag & 21.0  & 6     & 160   & 110   & 3.90  & 2.875 & 17.02 & 0     & 1     & 4     & 4    \\\\\n",
       "\tDatsun 710 & 22.8  & 4     & 108   &  93   & 3.85  & 2.320 & 18.61 & 1     & 1     & 4     & 1    \\\\\n",
       "\tHornet 4 Drive & 21.4  & 6     & 258   & 110   & 3.08  & 3.215 & 19.44 & 1     & 0     & 3     & 1    \\\\\n",
       "\tHornet Sportabout & 18.7  & 8     & 360   & 175   & 3.15  & 3.440 & 17.02 & 0     & 0     & 3     & 2    \\\\\n",
       "\tValiant & 18.1  & 6     & 225   & 105   & 2.76  & 3.460 & 20.22 & 1     & 0     & 3     & 1    \\\\\n",
       "\\end{tabular}\n"
      ],
      "text/markdown": [
       "\n",
       "| <!--/--> | mpg | cyl | disp | hp | drat | wt | qsec | vs | am | gear | carb |\n",
       "|---|---|---|---|---|---|---|---|---|---|---|---|\n",
       "| Mazda RX4 | 21.0  | 6     | 160   | 110   | 3.90  | 2.620 | 16.46 | 0     | 1     | 4     | 4     |\n",
       "| Mazda RX4 Wag | 21.0  | 6     | 160   | 110   | 3.90  | 2.875 | 17.02 | 0     | 1     | 4     | 4     |\n",
       "| Datsun 710 | 22.8  | 4     | 108   |  93   | 3.85  | 2.320 | 18.61 | 1     | 1     | 4     | 1     |\n",
       "| Hornet 4 Drive | 21.4  | 6     | 258   | 110   | 3.08  | 3.215 | 19.44 | 1     | 0     | 3     | 1     |\n",
       "| Hornet Sportabout | 18.7  | 8     | 360   | 175   | 3.15  | 3.440 | 17.02 | 0     | 0     | 3     | 2     |\n",
       "| Valiant | 18.1  | 6     | 225   | 105   | 2.76  | 3.460 | 20.22 | 1     | 0     | 3     | 1     |\n",
       "\n"
      ],
      "text/plain": [
       "                  mpg  cyl disp hp  drat wt    qsec  vs am gear carb\n",
       "Mazda RX4         21.0 6   160  110 3.90 2.620 16.46 0  1  4    4   \n",
       "Mazda RX4 Wag     21.0 6   160  110 3.90 2.875 17.02 0  1  4    4   \n",
       "Datsun 710        22.8 4   108   93 3.85 2.320 18.61 1  1  4    1   \n",
       "Hornet 4 Drive    21.4 6   258  110 3.08 3.215 19.44 1  0  3    1   \n",
       "Hornet Sportabout 18.7 8   360  175 3.15 3.440 17.02 0  0  3    2   \n",
       "Valiant           18.1 6   225  105 2.76 3.460 20.22 1  0  3    1   "
      ]
     },
     "metadata": {},
     "output_type": "display_data"
    }
   ],
   "source": [
    "mtcars %>% head()\n",
    "head(mtcars)"
   ]
  },
  {
   "cell_type": "markdown",
   "id": "2bc484f2",
   "metadata": {},
   "source": [
    "### Single Table Verbs\n",
    "\n",
    "\n",
    "Das Ziel von dplyr ist es, einfache und sprechende Funktionen für Data Manipulation zur Verfügung zu stellen. \n",
    "\n",
    "Row-based functions:\n",
    "* slice\n",
    "* filter\n",
    "* arrange\n",
    "\n",
    "Column-based functions:\n",
    "* select\n",
    "* rename\n",
    "* relocate\n",
    "* mutate\n"
   ]
  },
  {
   "cell_type": "markdown",
   "id": "3df1f0bf",
   "metadata": {},
   "source": [
    "##### Column-based-functions\n",
    "\n",
    "* select für Selektierung von Spalten\n",
    "* rename für Umbenennung von Spalten\n",
    "* mutate zur Veränderung von Spalten und Erstellung von neuen Spalten"
   ]
  },
  {
   "cell_type": "code",
   "execution_count": 58,
   "id": "97e6ae59",
   "metadata": {},
   "outputs": [
    {
     "data": {
      "text/html": [
       "<table>\n",
       "<thead><tr><th></th><th scope=col>hp</th><th scope=col>wt</th></tr></thead>\n",
       "<tbody>\n",
       "\t<tr><th scope=row>Mazda RX4</th><td>110  </td><td>2.620</td></tr>\n",
       "\t<tr><th scope=row>Mazda RX4 Wag</th><td>110  </td><td>2.875</td></tr>\n",
       "\t<tr><th scope=row>Datsun 710</th><td> 93  </td><td>2.320</td></tr>\n",
       "\t<tr><th scope=row>Hornet 4 Drive</th><td>110  </td><td>3.215</td></tr>\n",
       "\t<tr><th scope=row>Hornet Sportabout</th><td>175  </td><td>3.440</td></tr>\n",
       "\t<tr><th scope=row>Valiant</th><td>105  </td><td>3.460</td></tr>\n",
       "\t<tr><th scope=row>Duster 360</th><td>245  </td><td>3.570</td></tr>\n",
       "\t<tr><th scope=row>Merc 240D</th><td> 62  </td><td>3.190</td></tr>\n",
       "\t<tr><th scope=row>Merc 230</th><td> 95  </td><td>3.150</td></tr>\n",
       "\t<tr><th scope=row>Merc 280</th><td>123  </td><td>3.440</td></tr>\n",
       "\t<tr><th scope=row>Merc 280C</th><td>123  </td><td>3.440</td></tr>\n",
       "\t<tr><th scope=row>Merc 450SE</th><td>180  </td><td>4.070</td></tr>\n",
       "\t<tr><th scope=row>Merc 450SL</th><td>180  </td><td>3.730</td></tr>\n",
       "\t<tr><th scope=row>Merc 450SLC</th><td>180  </td><td>3.780</td></tr>\n",
       "\t<tr><th scope=row>Cadillac Fleetwood</th><td>205  </td><td>5.250</td></tr>\n",
       "\t<tr><th scope=row>Lincoln Continental</th><td>215  </td><td>5.424</td></tr>\n",
       "\t<tr><th scope=row>Chrysler Imperial</th><td>230  </td><td>5.345</td></tr>\n",
       "\t<tr><th scope=row>Fiat 128</th><td> 66  </td><td>2.200</td></tr>\n",
       "\t<tr><th scope=row>Honda Civic</th><td> 52  </td><td>1.615</td></tr>\n",
       "\t<tr><th scope=row>Toyota Corolla</th><td> 65  </td><td>1.835</td></tr>\n",
       "\t<tr><th scope=row>Toyota Corona</th><td> 97  </td><td>2.465</td></tr>\n",
       "\t<tr><th scope=row>Dodge Challenger</th><td>150  </td><td>3.520</td></tr>\n",
       "\t<tr><th scope=row>AMC Javelin</th><td>150  </td><td>3.435</td></tr>\n",
       "\t<tr><th scope=row>Camaro Z28</th><td>245  </td><td>3.840</td></tr>\n",
       "\t<tr><th scope=row>Pontiac Firebird</th><td>175  </td><td>3.845</td></tr>\n",
       "\t<tr><th scope=row>Fiat X1-9</th><td> 66  </td><td>1.935</td></tr>\n",
       "\t<tr><th scope=row>Porsche 914-2</th><td> 91  </td><td>2.140</td></tr>\n",
       "\t<tr><th scope=row>Lotus Europa</th><td>113  </td><td>1.513</td></tr>\n",
       "\t<tr><th scope=row>Ford Pantera L</th><td>264  </td><td>3.170</td></tr>\n",
       "\t<tr><th scope=row>Ferrari Dino</th><td>175  </td><td>2.770</td></tr>\n",
       "\t<tr><th scope=row>Maserati Bora</th><td>335  </td><td>3.570</td></tr>\n",
       "\t<tr><th scope=row>Volvo 142E</th><td>109  </td><td>2.780</td></tr>\n",
       "</tbody>\n",
       "</table>\n"
      ],
      "text/latex": [
       "\\begin{tabular}{r|ll}\n",
       "  & hp & wt\\\\\n",
       "\\hline\n",
       "\tMazda RX4 & 110   & 2.620\\\\\n",
       "\tMazda RX4 Wag & 110   & 2.875\\\\\n",
       "\tDatsun 710 &  93   & 2.320\\\\\n",
       "\tHornet 4 Drive & 110   & 3.215\\\\\n",
       "\tHornet Sportabout & 175   & 3.440\\\\\n",
       "\tValiant & 105   & 3.460\\\\\n",
       "\tDuster 360 & 245   & 3.570\\\\\n",
       "\tMerc 240D &  62   & 3.190\\\\\n",
       "\tMerc 230 &  95   & 3.150\\\\\n",
       "\tMerc 280 & 123   & 3.440\\\\\n",
       "\tMerc 280C & 123   & 3.440\\\\\n",
       "\tMerc 450SE & 180   & 4.070\\\\\n",
       "\tMerc 450SL & 180   & 3.730\\\\\n",
       "\tMerc 450SLC & 180   & 3.780\\\\\n",
       "\tCadillac Fleetwood & 205   & 5.250\\\\\n",
       "\tLincoln Continental & 215   & 5.424\\\\\n",
       "\tChrysler Imperial & 230   & 5.345\\\\\n",
       "\tFiat 128 &  66   & 2.200\\\\\n",
       "\tHonda Civic &  52   & 1.615\\\\\n",
       "\tToyota Corolla &  65   & 1.835\\\\\n",
       "\tToyota Corona &  97   & 2.465\\\\\n",
       "\tDodge Challenger & 150   & 3.520\\\\\n",
       "\tAMC Javelin & 150   & 3.435\\\\\n",
       "\tCamaro Z28 & 245   & 3.840\\\\\n",
       "\tPontiac Firebird & 175   & 3.845\\\\\n",
       "\tFiat X1-9 &  66   & 1.935\\\\\n",
       "\tPorsche 914-2 &  91   & 2.140\\\\\n",
       "\tLotus Europa & 113   & 1.513\\\\\n",
       "\tFord Pantera L & 264   & 3.170\\\\\n",
       "\tFerrari Dino & 175   & 2.770\\\\\n",
       "\tMaserati Bora & 335   & 3.570\\\\\n",
       "\tVolvo 142E & 109   & 2.780\\\\\n",
       "\\end{tabular}\n"
      ],
      "text/markdown": [
       "\n",
       "| <!--/--> | hp | wt |\n",
       "|---|---|---|\n",
       "| Mazda RX4 | 110   | 2.620 |\n",
       "| Mazda RX4 Wag | 110   | 2.875 |\n",
       "| Datsun 710 |  93   | 2.320 |\n",
       "| Hornet 4 Drive | 110   | 3.215 |\n",
       "| Hornet Sportabout | 175   | 3.440 |\n",
       "| Valiant | 105   | 3.460 |\n",
       "| Duster 360 | 245   | 3.570 |\n",
       "| Merc 240D |  62   | 3.190 |\n",
       "| Merc 230 |  95   | 3.150 |\n",
       "| Merc 280 | 123   | 3.440 |\n",
       "| Merc 280C | 123   | 3.440 |\n",
       "| Merc 450SE | 180   | 4.070 |\n",
       "| Merc 450SL | 180   | 3.730 |\n",
       "| Merc 450SLC | 180   | 3.780 |\n",
       "| Cadillac Fleetwood | 205   | 5.250 |\n",
       "| Lincoln Continental | 215   | 5.424 |\n",
       "| Chrysler Imperial | 230   | 5.345 |\n",
       "| Fiat 128 |  66   | 2.200 |\n",
       "| Honda Civic |  52   | 1.615 |\n",
       "| Toyota Corolla |  65   | 1.835 |\n",
       "| Toyota Corona |  97   | 2.465 |\n",
       "| Dodge Challenger | 150   | 3.520 |\n",
       "| AMC Javelin | 150   | 3.435 |\n",
       "| Camaro Z28 | 245   | 3.840 |\n",
       "| Pontiac Firebird | 175   | 3.845 |\n",
       "| Fiat X1-9 |  66   | 1.935 |\n",
       "| Porsche 914-2 |  91   | 2.140 |\n",
       "| Lotus Europa | 113   | 1.513 |\n",
       "| Ford Pantera L | 264   | 3.170 |\n",
       "| Ferrari Dino | 175   | 2.770 |\n",
       "| Maserati Bora | 335   | 3.570 |\n",
       "| Volvo 142E | 109   | 2.780 |\n",
       "\n"
      ],
      "text/plain": [
       "                    hp  wt   \n",
       "Mazda RX4           110 2.620\n",
       "Mazda RX4 Wag       110 2.875\n",
       "Datsun 710           93 2.320\n",
       "Hornet 4 Drive      110 3.215\n",
       "Hornet Sportabout   175 3.440\n",
       "Valiant             105 3.460\n",
       "Duster 360          245 3.570\n",
       "Merc 240D            62 3.190\n",
       "Merc 230             95 3.150\n",
       "Merc 280            123 3.440\n",
       "Merc 280C           123 3.440\n",
       "Merc 450SE          180 4.070\n",
       "Merc 450SL          180 3.730\n",
       "Merc 450SLC         180 3.780\n",
       "Cadillac Fleetwood  205 5.250\n",
       "Lincoln Continental 215 5.424\n",
       "Chrysler Imperial   230 5.345\n",
       "Fiat 128             66 2.200\n",
       "Honda Civic          52 1.615\n",
       "Toyota Corolla       65 1.835\n",
       "Toyota Corona        97 2.465\n",
       "Dodge Challenger    150 3.520\n",
       "AMC Javelin         150 3.435\n",
       "Camaro Z28          245 3.840\n",
       "Pontiac Firebird    175 3.845\n",
       "Fiat X1-9            66 1.935\n",
       "Porsche 914-2        91 2.140\n",
       "Lotus Europa        113 1.513\n",
       "Ford Pantera L      264 3.170\n",
       "Ferrari Dino        175 2.770\n",
       "Maserati Bora       335 3.570\n",
       "Volvo 142E          109 2.780"
      ]
     },
     "metadata": {},
     "output_type": "display_data"
    },
    {
     "ename": "ERROR",
     "evalue": "Error: namespace 'rlang' 0.4.5 is already loaded, but >= 0.4.10 is required\n",
     "output_type": "error",
     "traceback": [
      "Error: namespace 'rlang' 0.4.5 is already loaded, but >= 0.4.10 is required\nTraceback:\n",
      "1. mtcars %>% select(c(\"hp\", \"wt\"))",
      "2. select(., c(\"hp\", \"wt\"))",
      "3. select.data.frame(., c(\"hp\", \"wt\"))",
      "4. tidyselect::vars_select(tbl_vars(.data), !!!enquos(...))",
      "5. eval_select_impl(NULL, .vars, expr(c(!!!dots)), include = .include, \n .     exclude = .exclude, strict = .strict, name_spec = unique_name_spec, \n .     uniquely_named = TRUE)",
      "6. with_subscript_errors(vars_select_eval(vars, expr, strict, data = x, \n .     name_spec = name_spec, uniquely_named = uniquely_named, type = type), \n .     type = type)",
      "7. tryCatch(instrument_base_errors(expr), vctrs_error_subscript = function(cnd) {\n .     cnd$subscript_action <- subscript_action(type)\n .     cnd$subscript_elt <- \"column\"\n .     cnd_signal(cnd)\n . })",
      "8. tryCatchList(expr, classes, parentenv, handlers)",
      "9. tryCatchOne(expr, names, parentenv, handlers[[1L]])",
      "10. doTryCatch(return(expr), name, parentenv, handler)",
      "11. instrument_base_errors(expr)",
      "12. withCallingHandlers(expr, simpleError = function(cnd) {\n  .     abort(conditionMessage(cnd), parent = cnd)\n  . })",
      "13. vars_select_eval(vars, expr, strict, data = x, name_spec = name_spec, \n  .     uniquely_named = uniquely_named, type = type)",
      "14. vctrs::vec_split",
      "15. getExportedValue(pkg, name)",
      "16. asNamespace(ns)",
      "17. getNamespace(ns)",
      "18. loadNamespace(name)",
      "19. namespaceImport(ns, loadNamespace(i, c(lib.loc, .libPaths()), \n  .     versionCheck = vI[[i]]), from = package)",
      "20. loadNamespace(i, c(lib.loc, .libPaths()), versionCheck = vI[[i]])",
      "21. stop(gettextf(\"namespace %s %s is already loaded, but %s %s is required\", \n  .     sQuote(package), current, zop, zversion), domain = NA)",
      "22. .handleSimpleError(function (cnd) \n  . {\n  .     abort(conditionMessage(cnd), parent = cnd)\n  . }, \"namespace 'rlang' 0.4.5 is already loaded, but >= 0.4.10 is required\", \n  .     base::quote(loadNamespace(i, c(lib.loc, .libPaths()), versionCheck = vI[[i]])))",
      "23. h(simpleError(msg, call))",
      "24. abort(conditionMessage(cnd), parent = cnd)",
      "25. signal_abort(cnd)"
     ]
    }
   ],
   "source": [
    "#select\n",
    "mtcars[,c(\"hp\",\"wt\")]\n",
    "mtcars %>% select(c(\"hp\",\"wt\"))"
   ]
  },
  {
   "cell_type": "code",
   "execution_count": 81,
   "id": "910847af",
   "metadata": {},
   "outputs": [
    {
     "data": {
      "text/html": [
       "<table>\n",
       "<thead><tr><th></th><th scope=col>mpg</th><th scope=col>cyl</th><th scope=col>disp</th><th scope=col>drat</th><th scope=col>wt</th><th scope=col>qsec</th><th scope=col>vs</th><th scope=col>am</th><th scope=col>gear</th><th scope=col>carb</th><th scope=col>PS</th></tr></thead>\n",
       "<tbody>\n",
       "\t<tr><th scope=row>Mazda RX4</th><td>21.0 </td><td>6    </td><td>160  </td><td>3.90 </td><td>2.620</td><td>16.46</td><td>0    </td><td>1    </td><td>4    </td><td>4    </td><td>110  </td></tr>\n",
       "\t<tr><th scope=row>Mazda RX4 Wag</th><td>21.0 </td><td>6    </td><td>160  </td><td>3.90 </td><td>2.875</td><td>17.02</td><td>0    </td><td>1    </td><td>4    </td><td>4    </td><td>110  </td></tr>\n",
       "\t<tr><th scope=row>Datsun 710</th><td>22.8 </td><td>4    </td><td>108  </td><td>3.85 </td><td>2.320</td><td>18.61</td><td>1    </td><td>1    </td><td>4    </td><td>1    </td><td> 93  </td></tr>\n",
       "\t<tr><th scope=row>Hornet 4 Drive</th><td>21.4 </td><td>6    </td><td>258  </td><td>3.08 </td><td>3.215</td><td>19.44</td><td>1    </td><td>0    </td><td>3    </td><td>1    </td><td>110  </td></tr>\n",
       "\t<tr><th scope=row>Hornet Sportabout</th><td>18.7 </td><td>8    </td><td>360  </td><td>3.15 </td><td>3.440</td><td>17.02</td><td>0    </td><td>0    </td><td>3    </td><td>2    </td><td>175  </td></tr>\n",
       "\t<tr><th scope=row>Valiant</th><td>18.1 </td><td>6    </td><td>225  </td><td>2.76 </td><td>3.460</td><td>20.22</td><td>1    </td><td>0    </td><td>3    </td><td>1    </td><td>105  </td></tr>\n",
       "</tbody>\n",
       "</table>\n"
      ],
      "text/latex": [
       "\\begin{tabular}{r|lllllllllll}\n",
       "  & mpg & cyl & disp & drat & wt & qsec & vs & am & gear & carb & PS\\\\\n",
       "\\hline\n",
       "\tMazda RX4 & 21.0  & 6     & 160   & 3.90  & 2.620 & 16.46 & 0     & 1     & 4     & 4     & 110  \\\\\n",
       "\tMazda RX4 Wag & 21.0  & 6     & 160   & 3.90  & 2.875 & 17.02 & 0     & 1     & 4     & 4     & 110  \\\\\n",
       "\tDatsun 710 & 22.8  & 4     & 108   & 3.85  & 2.320 & 18.61 & 1     & 1     & 4     & 1     &  93  \\\\\n",
       "\tHornet 4 Drive & 21.4  & 6     & 258   & 3.08  & 3.215 & 19.44 & 1     & 0     & 3     & 1     & 110  \\\\\n",
       "\tHornet Sportabout & 18.7  & 8     & 360   & 3.15  & 3.440 & 17.02 & 0     & 0     & 3     & 2     & 175  \\\\\n",
       "\tValiant & 18.1  & 6     & 225   & 2.76  & 3.460 & 20.22 & 1     & 0     & 3     & 1     & 105  \\\\\n",
       "\\end{tabular}\n"
      ],
      "text/markdown": [
       "\n",
       "| <!--/--> | mpg | cyl | disp | drat | wt | qsec | vs | am | gear | carb | PS |\n",
       "|---|---|---|---|---|---|---|---|---|---|---|---|\n",
       "| Mazda RX4 | 21.0  | 6     | 160   | 3.90  | 2.620 | 16.46 | 0     | 1     | 4     | 4     | 110   |\n",
       "| Mazda RX4 Wag | 21.0  | 6     | 160   | 3.90  | 2.875 | 17.02 | 0     | 1     | 4     | 4     | 110   |\n",
       "| Datsun 710 | 22.8  | 4     | 108   | 3.85  | 2.320 | 18.61 | 1     | 1     | 4     | 1     |  93   |\n",
       "| Hornet 4 Drive | 21.4  | 6     | 258   | 3.08  | 3.215 | 19.44 | 1     | 0     | 3     | 1     | 110   |\n",
       "| Hornet Sportabout | 18.7  | 8     | 360   | 3.15  | 3.440 | 17.02 | 0     | 0     | 3     | 2     | 175   |\n",
       "| Valiant | 18.1  | 6     | 225   | 2.76  | 3.460 | 20.22 | 1     | 0     | 3     | 1     | 105   |\n",
       "\n"
      ],
      "text/plain": [
       "                  mpg  cyl disp drat wt    qsec  vs am gear carb PS \n",
       "Mazda RX4         21.0 6   160  3.90 2.620 16.46 0  1  4    4    110\n",
       "Mazda RX4 Wag     21.0 6   160  3.90 2.875 17.02 0  1  4    4    110\n",
       "Datsun 710        22.8 4   108  3.85 2.320 18.61 1  1  4    1     93\n",
       "Hornet 4 Drive    21.4 6   258  3.08 3.215 19.44 1  0  3    1    110\n",
       "Hornet Sportabout 18.7 8   360  3.15 3.440 17.02 0  0  3    2    175\n",
       "Valiant           18.1 6   225  2.76 3.460 20.22 1  0  3    1    105"
      ]
     },
     "metadata": {},
     "output_type": "display_data"
    }
   ],
   "source": [
    "#rename\n",
    "df <- mtcars\n",
    "df[,\"PS\"] <- df[,\"hp\"] #neue Spalte erstellen\n",
    "df[,\"hp\"] <- NULL #Alte Spalte löschen\n",
    "head(df)"
   ]
  },
  {
   "cell_type": "code",
   "execution_count": 82,
   "id": "02ad15c6",
   "metadata": {},
   "outputs": [
    {
     "data": {
      "text/html": [
       "<table>\n",
       "<thead><tr><th></th><th scope=col>mpg</th><th scope=col>cyl</th><th scope=col>disp</th><th scope=col>PS</th><th scope=col>drat</th><th scope=col>wt</th><th scope=col>qsec</th><th scope=col>vs</th><th scope=col>am</th><th scope=col>gear</th><th scope=col>carb</th></tr></thead>\n",
       "<tbody>\n",
       "\t<tr><th scope=row>Mazda RX4</th><td>21.0 </td><td>6    </td><td>160  </td><td>110  </td><td>3.90 </td><td>2.620</td><td>16.46</td><td>0    </td><td>1    </td><td>4    </td><td>4    </td></tr>\n",
       "\t<tr><th scope=row>Mazda RX4 Wag</th><td>21.0 </td><td>6    </td><td>160  </td><td>110  </td><td>3.90 </td><td>2.875</td><td>17.02</td><td>0    </td><td>1    </td><td>4    </td><td>4    </td></tr>\n",
       "\t<tr><th scope=row>Datsun 710</th><td>22.8 </td><td>4    </td><td>108  </td><td> 93  </td><td>3.85 </td><td>2.320</td><td>18.61</td><td>1    </td><td>1    </td><td>4    </td><td>1    </td></tr>\n",
       "\t<tr><th scope=row>Hornet 4 Drive</th><td>21.4 </td><td>6    </td><td>258  </td><td>110  </td><td>3.08 </td><td>3.215</td><td>19.44</td><td>1    </td><td>0    </td><td>3    </td><td>1    </td></tr>\n",
       "\t<tr><th scope=row>Hornet Sportabout</th><td>18.7 </td><td>8    </td><td>360  </td><td>175  </td><td>3.15 </td><td>3.440</td><td>17.02</td><td>0    </td><td>0    </td><td>3    </td><td>2    </td></tr>\n",
       "\t<tr><th scope=row>Valiant</th><td>18.1 </td><td>6    </td><td>225  </td><td>105  </td><td>2.76 </td><td>3.460</td><td>20.22</td><td>1    </td><td>0    </td><td>3    </td><td>1    </td></tr>\n",
       "</tbody>\n",
       "</table>\n"
      ],
      "text/latex": [
       "\\begin{tabular}{r|lllllllllll}\n",
       "  & mpg & cyl & disp & PS & drat & wt & qsec & vs & am & gear & carb\\\\\n",
       "\\hline\n",
       "\tMazda RX4 & 21.0  & 6     & 160   & 110   & 3.90  & 2.620 & 16.46 & 0     & 1     & 4     & 4    \\\\\n",
       "\tMazda RX4 Wag & 21.0  & 6     & 160   & 110   & 3.90  & 2.875 & 17.02 & 0     & 1     & 4     & 4    \\\\\n",
       "\tDatsun 710 & 22.8  & 4     & 108   &  93   & 3.85  & 2.320 & 18.61 & 1     & 1     & 4     & 1    \\\\\n",
       "\tHornet 4 Drive & 21.4  & 6     & 258   & 110   & 3.08  & 3.215 & 19.44 & 1     & 0     & 3     & 1    \\\\\n",
       "\tHornet Sportabout & 18.7  & 8     & 360   & 175   & 3.15  & 3.440 & 17.02 & 0     & 0     & 3     & 2    \\\\\n",
       "\tValiant & 18.1  & 6     & 225   & 105   & 2.76  & 3.460 & 20.22 & 1     & 0     & 3     & 1    \\\\\n",
       "\\end{tabular}\n"
      ],
      "text/markdown": [
       "\n",
       "| <!--/--> | mpg | cyl | disp | PS | drat | wt | qsec | vs | am | gear | carb |\n",
       "|---|---|---|---|---|---|---|---|---|---|---|---|\n",
       "| Mazda RX4 | 21.0  | 6     | 160   | 110   | 3.90  | 2.620 | 16.46 | 0     | 1     | 4     | 4     |\n",
       "| Mazda RX4 Wag | 21.0  | 6     | 160   | 110   | 3.90  | 2.875 | 17.02 | 0     | 1     | 4     | 4     |\n",
       "| Datsun 710 | 22.8  | 4     | 108   |  93   | 3.85  | 2.320 | 18.61 | 1     | 1     | 4     | 1     |\n",
       "| Hornet 4 Drive | 21.4  | 6     | 258   | 110   | 3.08  | 3.215 | 19.44 | 1     | 0     | 3     | 1     |\n",
       "| Hornet Sportabout | 18.7  | 8     | 360   | 175   | 3.15  | 3.440 | 17.02 | 0     | 0     | 3     | 2     |\n",
       "| Valiant | 18.1  | 6     | 225   | 105   | 2.76  | 3.460 | 20.22 | 1     | 0     | 3     | 1     |\n",
       "\n"
      ],
      "text/plain": [
       "                  mpg  cyl disp PS  drat wt    qsec  vs am gear carb\n",
       "Mazda RX4         21.0 6   160  110 3.90 2.620 16.46 0  1  4    4   \n",
       "Mazda RX4 Wag     21.0 6   160  110 3.90 2.875 17.02 0  1  4    4   \n",
       "Datsun 710        22.8 4   108   93 3.85 2.320 18.61 1  1  4    1   \n",
       "Hornet 4 Drive    21.4 6   258  110 3.08 3.215 19.44 1  0  3    1   \n",
       "Hornet Sportabout 18.7 8   360  175 3.15 3.440 17.02 0  0  3    2   \n",
       "Valiant           18.1 6   225  105 2.76 3.460 20.22 1  0  3    1   "
      ]
     },
     "metadata": {},
     "output_type": "display_data"
    }
   ],
   "source": [
    "df <- mtcars\n",
    "#names(mtcars) <- c('mpg', 'cyl', 'disp', 'PS', 'drat', 'wt', 'qsec', 'vs', 'am', 'gear', 'carb')\n",
    "names(df)[4] <- \"PS\"\n",
    "head(df)"
   ]
  },
  {
   "cell_type": "code",
   "execution_count": null,
   "id": "f3ee3c6e",
   "metadata": {},
   "outputs": [],
   "source": [
    "mtcars %>% rename(\"PS\" = hp)"
   ]
  },
  {
   "cell_type": "code",
   "execution_count": 83,
   "id": "e50619a5",
   "metadata": {},
   "outputs": [
    {
     "data": {
      "text/html": [
       "<table>\n",
       "<thead><tr><th></th><th scope=col>mpg</th><th scope=col>cyl</th><th scope=col>disp</th><th scope=col>hp</th><th scope=col>drat</th><th scope=col>wt</th><th scope=col>qsec</th><th scope=col>vs</th><th scope=col>am</th><th scope=col>gear</th><th scope=col>carb</th><th scope=col>Gewicht</th><th scope=col>l/100km</th></tr></thead>\n",
       "<tbody>\n",
       "\t<tr><th scope=row>Mazda RX4</th><td>21.0    </td><td>6       </td><td>160     </td><td>110     </td><td>3.90    </td><td>2.620   </td><td>16.46   </td><td>0       </td><td>1       </td><td>4       </td><td>4       </td><td>1188.412</td><td>11.19048</td></tr>\n",
       "\t<tr><th scope=row>Mazda RX4 Wag</th><td>21.0    </td><td>6       </td><td>160     </td><td>110     </td><td>3.90    </td><td>2.875   </td><td>17.02   </td><td>0       </td><td>1       </td><td>4       </td><td>4       </td><td>1304.078</td><td>11.19048</td></tr>\n",
       "\t<tr><th scope=row>Datsun 710</th><td>22.8    </td><td>4       </td><td>108     </td><td> 93     </td><td>3.85    </td><td>2.320   </td><td>18.61   </td><td>1       </td><td>1       </td><td>4       </td><td>1       </td><td>1052.334</td><td>10.30702</td></tr>\n",
       "\t<tr><th scope=row>Hornet 4 Drive</th><td>21.4    </td><td>6       </td><td>258     </td><td>110     </td><td>3.08    </td><td>3.215   </td><td>19.44   </td><td>1       </td><td>0       </td><td>3       </td><td>1       </td><td>1458.299</td><td>10.98131</td></tr>\n",
       "\t<tr><th scope=row>Hornet Sportabout</th><td>18.7    </td><td>8       </td><td>360     </td><td>175     </td><td>3.15    </td><td>3.440   </td><td>17.02   </td><td>0       </td><td>0       </td><td>3       </td><td>2       </td><td>1560.358</td><td>12.56684</td></tr>\n",
       "\t<tr><th scope=row>Valiant</th><td>18.1    </td><td>6       </td><td>225     </td><td>105     </td><td>2.76    </td><td>3.460   </td><td>20.22   </td><td>1       </td><td>0       </td><td>3       </td><td>1       </td><td>1569.429</td><td>12.98343</td></tr>\n",
       "</tbody>\n",
       "</table>\n"
      ],
      "text/latex": [
       "\\begin{tabular}{r|lllllllllllll}\n",
       "  & mpg & cyl & disp & hp & drat & wt & qsec & vs & am & gear & carb & Gewicht & l/100km\\\\\n",
       "\\hline\n",
       "\tMazda RX4 & 21.0     & 6        & 160      & 110      & 3.90     & 2.620    & 16.46    & 0        & 1        & 4        & 4        & 1188.412 & 11.19048\\\\\n",
       "\tMazda RX4 Wag & 21.0     & 6        & 160      & 110      & 3.90     & 2.875    & 17.02    & 0        & 1        & 4        & 4        & 1304.078 & 11.19048\\\\\n",
       "\tDatsun 710 & 22.8     & 4        & 108      &  93      & 3.85     & 2.320    & 18.61    & 1        & 1        & 4        & 1        & 1052.334 & 10.30702\\\\\n",
       "\tHornet 4 Drive & 21.4     & 6        & 258      & 110      & 3.08     & 3.215    & 19.44    & 1        & 0        & 3        & 1        & 1458.299 & 10.98131\\\\\n",
       "\tHornet Sportabout & 18.7     & 8        & 360      & 175      & 3.15     & 3.440    & 17.02    & 0        & 0        & 3        & 2        & 1560.358 & 12.56684\\\\\n",
       "\tValiant & 18.1     & 6        & 225      & 105      & 2.76     & 3.460    & 20.22    & 1        & 0        & 3        & 1        & 1569.429 & 12.98343\\\\\n",
       "\\end{tabular}\n"
      ],
      "text/markdown": [
       "\n",
       "| <!--/--> | mpg | cyl | disp | hp | drat | wt | qsec | vs | am | gear | carb | Gewicht | l/100km |\n",
       "|---|---|---|---|---|---|---|---|---|---|---|---|---|---|\n",
       "| Mazda RX4 | 21.0     | 6        | 160      | 110      | 3.90     | 2.620    | 16.46    | 0        | 1        | 4        | 4        | 1188.412 | 11.19048 |\n",
       "| Mazda RX4 Wag | 21.0     | 6        | 160      | 110      | 3.90     | 2.875    | 17.02    | 0        | 1        | 4        | 4        | 1304.078 | 11.19048 |\n",
       "| Datsun 710 | 22.8     | 4        | 108      |  93      | 3.85     | 2.320    | 18.61    | 1        | 1        | 4        | 1        | 1052.334 | 10.30702 |\n",
       "| Hornet 4 Drive | 21.4     | 6        | 258      | 110      | 3.08     | 3.215    | 19.44    | 1        | 0        | 3        | 1        | 1458.299 | 10.98131 |\n",
       "| Hornet Sportabout | 18.7     | 8        | 360      | 175      | 3.15     | 3.440    | 17.02    | 0        | 0        | 3        | 2        | 1560.358 | 12.56684 |\n",
       "| Valiant | 18.1     | 6        | 225      | 105      | 2.76     | 3.460    | 20.22    | 1        | 0        | 3        | 1        | 1569.429 | 12.98343 |\n",
       "\n"
      ],
      "text/plain": [
       "                  mpg  cyl disp hp  drat wt    qsec  vs am gear carb Gewicht \n",
       "Mazda RX4         21.0 6   160  110 3.90 2.620 16.46 0  1  4    4    1188.412\n",
       "Mazda RX4 Wag     21.0 6   160  110 3.90 2.875 17.02 0  1  4    4    1304.078\n",
       "Datsun 710        22.8 4   108   93 3.85 2.320 18.61 1  1  4    1    1052.334\n",
       "Hornet 4 Drive    21.4 6   258  110 3.08 3.215 19.44 1  0  3    1    1458.299\n",
       "Hornet Sportabout 18.7 8   360  175 3.15 3.440 17.02 0  0  3    2    1560.358\n",
       "Valiant           18.1 6   225  105 2.76 3.460 20.22 1  0  3    1    1569.429\n",
       "                  l/100km \n",
       "Mazda RX4         11.19048\n",
       "Mazda RX4 Wag     11.19048\n",
       "Datsun 710        10.30702\n",
       "Hornet 4 Drive    10.98131\n",
       "Hornet Sportabout 12.56684\n",
       "Valiant           12.98343"
      ]
     },
     "metadata": {},
     "output_type": "display_data"
    }
   ],
   "source": [
    "#mutate\n",
    "df <- mtcars\n",
    "df[,\"Gewicht\"] <- df[,\"wt\"]* 1000 * 0.4535923\n",
    "df[,\"l/100km\"] <- 235/df[,\"mpg\"]\n",
    "head(df)"
   ]
  },
  {
   "cell_type": "code",
   "execution_count": 84,
   "id": "6827dcc1",
   "metadata": {},
   "outputs": [
    {
     "data": {
      "text/html": [
       "<table>\n",
       "<thead><tr><th scope=col>mpg</th><th scope=col>cyl</th><th scope=col>disp</th><th scope=col>hp</th><th scope=col>drat</th><th scope=col>wt</th><th scope=col>qsec</th><th scope=col>vs</th><th scope=col>am</th><th scope=col>gear</th><th scope=col>carb</th><th scope=col>Auto</th><th scope=col>Gewicht</th><th scope=col>l/100km</th></tr></thead>\n",
       "<tbody>\n",
       "\t<tr><td>21.0               </td><td>6                  </td><td>160.0              </td><td>110                </td><td>3.90               </td><td>2.620              </td><td>16.46              </td><td>0                  </td><td>1                  </td><td>4                  </td><td>4                  </td><td>Mazda RX4          </td><td>1188.43            </td><td>11.190476          </td></tr>\n",
       "\t<tr><td>21.0               </td><td>6                  </td><td>160.0              </td><td>110                </td><td>3.90               </td><td>2.875              </td><td>17.02              </td><td>0                  </td><td>1                  </td><td>4                  </td><td>4                  </td><td>Mazda RX4 Wag      </td><td>1304.10            </td><td>11.190476          </td></tr>\n",
       "\t<tr><td>22.8               </td><td>4                  </td><td>108.0              </td><td> 93                </td><td>3.85               </td><td>2.320              </td><td>18.61              </td><td>1                  </td><td>1                  </td><td>4                  </td><td>1                  </td><td>Datsun 710         </td><td>1052.35            </td><td>10.307018          </td></tr>\n",
       "\t<tr><td>21.4               </td><td>6                  </td><td>258.0              </td><td>110                </td><td>3.08               </td><td>3.215              </td><td>19.44              </td><td>1                  </td><td>0                  </td><td>3                  </td><td>1                  </td><td>Hornet 4 Drive     </td><td>1458.32            </td><td>10.981308          </td></tr>\n",
       "\t<tr><td>18.7               </td><td>8                  </td><td>360.0              </td><td>175                </td><td>3.15               </td><td>3.440              </td><td>17.02              </td><td>0                  </td><td>0                  </td><td>3                  </td><td>2                  </td><td>Hornet Sportabout  </td><td>1560.38            </td><td>12.566845          </td></tr>\n",
       "\t<tr><td>18.1               </td><td>6                  </td><td>225.0              </td><td>105                </td><td>2.76               </td><td>3.460              </td><td>20.22              </td><td>1                  </td><td>0                  </td><td>3                  </td><td>1                  </td><td>Valiant            </td><td>1569.46            </td><td>12.983425          </td></tr>\n",
       "\t<tr><td>14.3               </td><td>8                  </td><td>360.0              </td><td>245                </td><td>3.21               </td><td>3.570              </td><td>15.84              </td><td>0                  </td><td>0                  </td><td>3                  </td><td>4                  </td><td>Duster 360         </td><td>1619.35            </td><td>16.433566          </td></tr>\n",
       "\t<tr><td>24.4               </td><td>4                  </td><td>146.7              </td><td> 62                </td><td>3.69               </td><td>3.190              </td><td>20.00              </td><td>1                  </td><td>0                  </td><td>4                  </td><td>2                  </td><td>Merc 240D          </td><td>1446.98            </td><td> 9.631148          </td></tr>\n",
       "\t<tr><td>22.8               </td><td>4                  </td><td>140.8              </td><td> 95                </td><td>3.92               </td><td>3.150              </td><td>22.90              </td><td>1                  </td><td>0                  </td><td>4                  </td><td>2                  </td><td>Merc 230           </td><td>1428.84            </td><td>10.307018          </td></tr>\n",
       "\t<tr><td>19.2               </td><td>6                  </td><td>167.6              </td><td>123                </td><td>3.92               </td><td>3.440              </td><td>18.30              </td><td>1                  </td><td>0                  </td><td>4                  </td><td>4                  </td><td>Merc 280           </td><td>1560.38            </td><td>12.239583          </td></tr>\n",
       "\t<tr><td>17.8               </td><td>6                  </td><td>167.6              </td><td>123                </td><td>3.92               </td><td>3.440              </td><td>18.90              </td><td>1                  </td><td>0                  </td><td>4                  </td><td>4                  </td><td>Merc 280C          </td><td>1560.38            </td><td>13.202247          </td></tr>\n",
       "\t<tr><td>16.4               </td><td>8                  </td><td>275.8              </td><td>180                </td><td>3.07               </td><td>4.070              </td><td>17.40              </td><td>0                  </td><td>0                  </td><td>3                  </td><td>3                  </td><td>Merc 450SE         </td><td>1846.15            </td><td>14.329268          </td></tr>\n",
       "\t<tr><td>17.3               </td><td>8                  </td><td>275.8              </td><td>180                </td><td>3.07               </td><td>3.730              </td><td>17.60              </td><td>0                  </td><td>0                  </td><td>3                  </td><td>3                  </td><td>Merc 450SL         </td><td>1691.93            </td><td>13.583815          </td></tr>\n",
       "\t<tr><td>15.2               </td><td>8                  </td><td>275.8              </td><td>180                </td><td>3.07               </td><td>3.780              </td><td>18.00              </td><td>0                  </td><td>0                  </td><td>3                  </td><td>3                  </td><td>Merc 450SLC        </td><td>1714.61            </td><td>15.460526          </td></tr>\n",
       "\t<tr><td>10.4               </td><td>8                  </td><td>472.0              </td><td>205                </td><td>2.93               </td><td>5.250              </td><td>17.98              </td><td>0                  </td><td>0                  </td><td>3                  </td><td>4                  </td><td>Cadillac Fleetwood </td><td>2381.40            </td><td>22.596154          </td></tr>\n",
       "\t<tr><td>10.4               </td><td>8                  </td><td>460.0              </td><td>215                </td><td>3.00               </td><td>5.424              </td><td>17.82              </td><td>0                  </td><td>0                  </td><td>3                  </td><td>4                  </td><td>Lincoln Continental</td><td>2460.33            </td><td>22.596154          </td></tr>\n",
       "\t<tr><td>14.7               </td><td>8                  </td><td>440.0              </td><td>230                </td><td>3.23               </td><td>5.345              </td><td>17.42              </td><td>0                  </td><td>0                  </td><td>3                  </td><td>4                  </td><td>Chrysler Imperial  </td><td>2424.49            </td><td>15.986395          </td></tr>\n",
       "\t<tr><td>32.4               </td><td>4                  </td><td> 78.7              </td><td> 66                </td><td>4.08               </td><td>2.200              </td><td>19.47              </td><td>1                  </td><td>1                  </td><td>4                  </td><td>1                  </td><td>Fiat 128           </td><td> 997.92            </td><td> 7.253086          </td></tr>\n",
       "\t<tr><td>30.4               </td><td>4                  </td><td> 75.7              </td><td> 52                </td><td>4.93               </td><td>1.615              </td><td>18.52              </td><td>1                  </td><td>1                  </td><td>4                  </td><td>2                  </td><td>Honda Civic        </td><td> 732.56            </td><td> 7.730263          </td></tr>\n",
       "\t<tr><td>33.9               </td><td>4                  </td><td> 71.1              </td><td> 65                </td><td>4.22               </td><td>1.835              </td><td>19.90              </td><td>1                  </td><td>1                  </td><td>4                  </td><td>1                  </td><td>Toyota Corolla     </td><td> 832.36            </td><td> 6.932153          </td></tr>\n",
       "\t<tr><td>21.5               </td><td>4                  </td><td>120.1              </td><td> 97                </td><td>3.70               </td><td>2.465              </td><td>20.01              </td><td>1                  </td><td>0                  </td><td>3                  </td><td>1                  </td><td>Toyota Corona      </td><td>1118.12            </td><td>10.930233          </td></tr>\n",
       "\t<tr><td>15.5               </td><td>8                  </td><td>318.0              </td><td>150                </td><td>2.76               </td><td>3.520              </td><td>16.87              </td><td>0                  </td><td>0                  </td><td>3                  </td><td>2                  </td><td>Dodge Challenger   </td><td>1596.67            </td><td>15.161290          </td></tr>\n",
       "\t<tr><td>15.2               </td><td>8                  </td><td>304.0              </td><td>150                </td><td>3.15               </td><td>3.435              </td><td>17.30              </td><td>0                  </td><td>0                  </td><td>3                  </td><td>2                  </td><td>AMC Javelin        </td><td>1558.12            </td><td>15.460526          </td></tr>\n",
       "\t<tr><td>13.3               </td><td>8                  </td><td>350.0              </td><td>245                </td><td>3.73               </td><td>3.840              </td><td>15.41              </td><td>0                  </td><td>0                  </td><td>3                  </td><td>4                  </td><td>Camaro Z28         </td><td>1741.82            </td><td>17.669173          </td></tr>\n",
       "\t<tr><td>19.2               </td><td>8                  </td><td>400.0              </td><td>175                </td><td>3.08               </td><td>3.845              </td><td>17.05              </td><td>0                  </td><td>0                  </td><td>3                  </td><td>2                  </td><td>Pontiac Firebird   </td><td>1744.09            </td><td>12.239583          </td></tr>\n",
       "\t<tr><td>27.3               </td><td>4                  </td><td> 79.0              </td><td> 66                </td><td>4.08               </td><td>1.935              </td><td>18.90              </td><td>1                  </td><td>1                  </td><td>4                  </td><td>1                  </td><td>Fiat X1-9          </td><td> 877.72            </td><td> 8.608059          </td></tr>\n",
       "\t<tr><td>26.0               </td><td>4                  </td><td>120.3              </td><td> 91                </td><td>4.43               </td><td>2.140              </td><td>16.70              </td><td>0                  </td><td>1                  </td><td>5                  </td><td>2                  </td><td>Porsche 914-2      </td><td> 970.70            </td><td> 9.038462          </td></tr>\n",
       "\t<tr><td>30.4               </td><td>4                  </td><td> 95.1              </td><td>113                </td><td>3.77               </td><td>1.513              </td><td>16.90              </td><td>1                  </td><td>1                  </td><td>5                  </td><td>2                  </td><td>Lotus Europa       </td><td> 686.30            </td><td> 7.730263          </td></tr>\n",
       "\t<tr><td>15.8               </td><td>8                  </td><td>351.0              </td><td>264                </td><td>4.22               </td><td>3.170              </td><td>14.50              </td><td>0                  </td><td>1                  </td><td>5                  </td><td>4                  </td><td>Ford Pantera L     </td><td>1437.91            </td><td>14.873418          </td></tr>\n",
       "\t<tr><td>19.7               </td><td>6                  </td><td>145.0              </td><td>175                </td><td>3.62               </td><td>2.770              </td><td>15.50              </td><td>0                  </td><td>1                  </td><td>5                  </td><td>6                  </td><td>Ferrari Dino       </td><td>1256.47            </td><td>11.928934          </td></tr>\n",
       "\t<tr><td>15.0               </td><td>8                  </td><td>301.0              </td><td>335                </td><td>3.54               </td><td>3.570              </td><td>14.60              </td><td>0                  </td><td>1                  </td><td>5                  </td><td>8                  </td><td>Maserati Bora      </td><td>1619.35            </td><td>15.666667          </td></tr>\n",
       "\t<tr><td>21.4               </td><td>4                  </td><td>121.0              </td><td>109                </td><td>4.11               </td><td>2.780              </td><td>18.60              </td><td>1                  </td><td>1                  </td><td>4                  </td><td>2                  </td><td>Volvo 142E         </td><td>1261.01            </td><td>10.981308          </td></tr>\n",
       "</tbody>\n",
       "</table>\n"
      ],
      "text/latex": [
       "\\begin{tabular}{r|llllllllllllll}\n",
       " mpg & cyl & disp & hp & drat & wt & qsec & vs & am & gear & carb & Auto & Gewicht & l/100km\\\\\n",
       "\\hline\n",
       "\t 21.0                & 6                   & 160.0               & 110                 & 3.90                & 2.620               & 16.46               & 0                   & 1                   & 4                   & 4                   & Mazda RX4           & 1188.43             & 11.190476          \\\\\n",
       "\t 21.0                & 6                   & 160.0               & 110                 & 3.90                & 2.875               & 17.02               & 0                   & 1                   & 4                   & 4                   & Mazda RX4 Wag       & 1304.10             & 11.190476          \\\\\n",
       "\t 22.8                & 4                   & 108.0               &  93                 & 3.85                & 2.320               & 18.61               & 1                   & 1                   & 4                   & 1                   & Datsun 710          & 1052.35             & 10.307018          \\\\\n",
       "\t 21.4                & 6                   & 258.0               & 110                 & 3.08                & 3.215               & 19.44               & 1                   & 0                   & 3                   & 1                   & Hornet 4 Drive      & 1458.32             & 10.981308          \\\\\n",
       "\t 18.7                & 8                   & 360.0               & 175                 & 3.15                & 3.440               & 17.02               & 0                   & 0                   & 3                   & 2                   & Hornet Sportabout   & 1560.38             & 12.566845          \\\\\n",
       "\t 18.1                & 6                   & 225.0               & 105                 & 2.76                & 3.460               & 20.22               & 1                   & 0                   & 3                   & 1                   & Valiant             & 1569.46             & 12.983425          \\\\\n",
       "\t 14.3                & 8                   & 360.0               & 245                 & 3.21                & 3.570               & 15.84               & 0                   & 0                   & 3                   & 4                   & Duster 360          & 1619.35             & 16.433566          \\\\\n",
       "\t 24.4                & 4                   & 146.7               &  62                 & 3.69                & 3.190               & 20.00               & 1                   & 0                   & 4                   & 2                   & Merc 240D           & 1446.98             &  9.631148          \\\\\n",
       "\t 22.8                & 4                   & 140.8               &  95                 & 3.92                & 3.150               & 22.90               & 1                   & 0                   & 4                   & 2                   & Merc 230            & 1428.84             & 10.307018          \\\\\n",
       "\t 19.2                & 6                   & 167.6               & 123                 & 3.92                & 3.440               & 18.30               & 1                   & 0                   & 4                   & 4                   & Merc 280            & 1560.38             & 12.239583          \\\\\n",
       "\t 17.8                & 6                   & 167.6               & 123                 & 3.92                & 3.440               & 18.90               & 1                   & 0                   & 4                   & 4                   & Merc 280C           & 1560.38             & 13.202247          \\\\\n",
       "\t 16.4                & 8                   & 275.8               & 180                 & 3.07                & 4.070               & 17.40               & 0                   & 0                   & 3                   & 3                   & Merc 450SE          & 1846.15             & 14.329268          \\\\\n",
       "\t 17.3                & 8                   & 275.8               & 180                 & 3.07                & 3.730               & 17.60               & 0                   & 0                   & 3                   & 3                   & Merc 450SL          & 1691.93             & 13.583815          \\\\\n",
       "\t 15.2                & 8                   & 275.8               & 180                 & 3.07                & 3.780               & 18.00               & 0                   & 0                   & 3                   & 3                   & Merc 450SLC         & 1714.61             & 15.460526          \\\\\n",
       "\t 10.4                & 8                   & 472.0               & 205                 & 2.93                & 5.250               & 17.98               & 0                   & 0                   & 3                   & 4                   & Cadillac Fleetwood  & 2381.40             & 22.596154          \\\\\n",
       "\t 10.4                & 8                   & 460.0               & 215                 & 3.00                & 5.424               & 17.82               & 0                   & 0                   & 3                   & 4                   & Lincoln Continental & 2460.33             & 22.596154          \\\\\n",
       "\t 14.7                & 8                   & 440.0               & 230                 & 3.23                & 5.345               & 17.42               & 0                   & 0                   & 3                   & 4                   & Chrysler Imperial   & 2424.49             & 15.986395          \\\\\n",
       "\t 32.4                & 4                   &  78.7               &  66                 & 4.08                & 2.200               & 19.47               & 1                   & 1                   & 4                   & 1                   & Fiat 128            &  997.92             &  7.253086          \\\\\n",
       "\t 30.4                & 4                   &  75.7               &  52                 & 4.93                & 1.615               & 18.52               & 1                   & 1                   & 4                   & 2                   & Honda Civic         &  732.56             &  7.730263          \\\\\n",
       "\t 33.9                & 4                   &  71.1               &  65                 & 4.22                & 1.835               & 19.90               & 1                   & 1                   & 4                   & 1                   & Toyota Corolla      &  832.36             &  6.932153          \\\\\n",
       "\t 21.5                & 4                   & 120.1               &  97                 & 3.70                & 2.465               & 20.01               & 1                   & 0                   & 3                   & 1                   & Toyota Corona       & 1118.12             & 10.930233          \\\\\n",
       "\t 15.5                & 8                   & 318.0               & 150                 & 2.76                & 3.520               & 16.87               & 0                   & 0                   & 3                   & 2                   & Dodge Challenger    & 1596.67             & 15.161290          \\\\\n",
       "\t 15.2                & 8                   & 304.0               & 150                 & 3.15                & 3.435               & 17.30               & 0                   & 0                   & 3                   & 2                   & AMC Javelin         & 1558.12             & 15.460526          \\\\\n",
       "\t 13.3                & 8                   & 350.0               & 245                 & 3.73                & 3.840               & 15.41               & 0                   & 0                   & 3                   & 4                   & Camaro Z28          & 1741.82             & 17.669173          \\\\\n",
       "\t 19.2                & 8                   & 400.0               & 175                 & 3.08                & 3.845               & 17.05               & 0                   & 0                   & 3                   & 2                   & Pontiac Firebird    & 1744.09             & 12.239583          \\\\\n",
       "\t 27.3                & 4                   &  79.0               &  66                 & 4.08                & 1.935               & 18.90               & 1                   & 1                   & 4                   & 1                   & Fiat X1-9           &  877.72             &  8.608059          \\\\\n",
       "\t 26.0                & 4                   & 120.3               &  91                 & 4.43                & 2.140               & 16.70               & 0                   & 1                   & 5                   & 2                   & Porsche 914-2       &  970.70             &  9.038462          \\\\\n",
       "\t 30.4                & 4                   &  95.1               & 113                 & 3.77                & 1.513               & 16.90               & 1                   & 1                   & 5                   & 2                   & Lotus Europa        &  686.30             &  7.730263          \\\\\n",
       "\t 15.8                & 8                   & 351.0               & 264                 & 4.22                & 3.170               & 14.50               & 0                   & 1                   & 5                   & 4                   & Ford Pantera L      & 1437.91             & 14.873418          \\\\\n",
       "\t 19.7                & 6                   & 145.0               & 175                 & 3.62                & 2.770               & 15.50               & 0                   & 1                   & 5                   & 6                   & Ferrari Dino        & 1256.47             & 11.928934          \\\\\n",
       "\t 15.0                & 8                   & 301.0               & 335                 & 3.54                & 3.570               & 14.60               & 0                   & 1                   & 5                   & 8                   & Maserati Bora       & 1619.35             & 15.666667          \\\\\n",
       "\t 21.4                & 4                   & 121.0               & 109                 & 4.11                & 2.780               & 18.60               & 1                   & 1                   & 4                   & 2                   & Volvo 142E          & 1261.01             & 10.981308          \\\\\n",
       "\\end{tabular}\n"
      ],
      "text/markdown": [
       "\n",
       "| mpg | cyl | disp | hp | drat | wt | qsec | vs | am | gear | carb | Auto | Gewicht | l/100km |\n",
       "|---|---|---|---|---|---|---|---|---|---|---|---|---|---|\n",
       "| 21.0                | 6                   | 160.0               | 110                 | 3.90                | 2.620               | 16.46               | 0                   | 1                   | 4                   | 4                   | Mazda RX4           | 1188.43             | 11.190476           |\n",
       "| 21.0                | 6                   | 160.0               | 110                 | 3.90                | 2.875               | 17.02               | 0                   | 1                   | 4                   | 4                   | Mazda RX4 Wag       | 1304.10             | 11.190476           |\n",
       "| 22.8                | 4                   | 108.0               |  93                 | 3.85                | 2.320               | 18.61               | 1                   | 1                   | 4                   | 1                   | Datsun 710          | 1052.35             | 10.307018           |\n",
       "| 21.4                | 6                   | 258.0               | 110                 | 3.08                | 3.215               | 19.44               | 1                   | 0                   | 3                   | 1                   | Hornet 4 Drive      | 1458.32             | 10.981308           |\n",
       "| 18.7                | 8                   | 360.0               | 175                 | 3.15                | 3.440               | 17.02               | 0                   | 0                   | 3                   | 2                   | Hornet Sportabout   | 1560.38             | 12.566845           |\n",
       "| 18.1                | 6                   | 225.0               | 105                 | 2.76                | 3.460               | 20.22               | 1                   | 0                   | 3                   | 1                   | Valiant             | 1569.46             | 12.983425           |\n",
       "| 14.3                | 8                   | 360.0               | 245                 | 3.21                | 3.570               | 15.84               | 0                   | 0                   | 3                   | 4                   | Duster 360          | 1619.35             | 16.433566           |\n",
       "| 24.4                | 4                   | 146.7               |  62                 | 3.69                | 3.190               | 20.00               | 1                   | 0                   | 4                   | 2                   | Merc 240D           | 1446.98             |  9.631148           |\n",
       "| 22.8                | 4                   | 140.8               |  95                 | 3.92                | 3.150               | 22.90               | 1                   | 0                   | 4                   | 2                   | Merc 230            | 1428.84             | 10.307018           |\n",
       "| 19.2                | 6                   | 167.6               | 123                 | 3.92                | 3.440               | 18.30               | 1                   | 0                   | 4                   | 4                   | Merc 280            | 1560.38             | 12.239583           |\n",
       "| 17.8                | 6                   | 167.6               | 123                 | 3.92                | 3.440               | 18.90               | 1                   | 0                   | 4                   | 4                   | Merc 280C           | 1560.38             | 13.202247           |\n",
       "| 16.4                | 8                   | 275.8               | 180                 | 3.07                | 4.070               | 17.40               | 0                   | 0                   | 3                   | 3                   | Merc 450SE          | 1846.15             | 14.329268           |\n",
       "| 17.3                | 8                   | 275.8               | 180                 | 3.07                | 3.730               | 17.60               | 0                   | 0                   | 3                   | 3                   | Merc 450SL          | 1691.93             | 13.583815           |\n",
       "| 15.2                | 8                   | 275.8               | 180                 | 3.07                | 3.780               | 18.00               | 0                   | 0                   | 3                   | 3                   | Merc 450SLC         | 1714.61             | 15.460526           |\n",
       "| 10.4                | 8                   | 472.0               | 205                 | 2.93                | 5.250               | 17.98               | 0                   | 0                   | 3                   | 4                   | Cadillac Fleetwood  | 2381.40             | 22.596154           |\n",
       "| 10.4                | 8                   | 460.0               | 215                 | 3.00                | 5.424               | 17.82               | 0                   | 0                   | 3                   | 4                   | Lincoln Continental | 2460.33             | 22.596154           |\n",
       "| 14.7                | 8                   | 440.0               | 230                 | 3.23                | 5.345               | 17.42               | 0                   | 0                   | 3                   | 4                   | Chrysler Imperial   | 2424.49             | 15.986395           |\n",
       "| 32.4                | 4                   |  78.7               |  66                 | 4.08                | 2.200               | 19.47               | 1                   | 1                   | 4                   | 1                   | Fiat 128            |  997.92             |  7.253086           |\n",
       "| 30.4                | 4                   |  75.7               |  52                 | 4.93                | 1.615               | 18.52               | 1                   | 1                   | 4                   | 2                   | Honda Civic         |  732.56             |  7.730263           |\n",
       "| 33.9                | 4                   |  71.1               |  65                 | 4.22                | 1.835               | 19.90               | 1                   | 1                   | 4                   | 1                   | Toyota Corolla      |  832.36             |  6.932153           |\n",
       "| 21.5                | 4                   | 120.1               |  97                 | 3.70                | 2.465               | 20.01               | 1                   | 0                   | 3                   | 1                   | Toyota Corona       | 1118.12             | 10.930233           |\n",
       "| 15.5                | 8                   | 318.0               | 150                 | 2.76                | 3.520               | 16.87               | 0                   | 0                   | 3                   | 2                   | Dodge Challenger    | 1596.67             | 15.161290           |\n",
       "| 15.2                | 8                   | 304.0               | 150                 | 3.15                | 3.435               | 17.30               | 0                   | 0                   | 3                   | 2                   | AMC Javelin         | 1558.12             | 15.460526           |\n",
       "| 13.3                | 8                   | 350.0               | 245                 | 3.73                | 3.840               | 15.41               | 0                   | 0                   | 3                   | 4                   | Camaro Z28          | 1741.82             | 17.669173           |\n",
       "| 19.2                | 8                   | 400.0               | 175                 | 3.08                | 3.845               | 17.05               | 0                   | 0                   | 3                   | 2                   | Pontiac Firebird    | 1744.09             | 12.239583           |\n",
       "| 27.3                | 4                   |  79.0               |  66                 | 4.08                | 1.935               | 18.90               | 1                   | 1                   | 4                   | 1                   | Fiat X1-9           |  877.72             |  8.608059           |\n",
       "| 26.0                | 4                   | 120.3               |  91                 | 4.43                | 2.140               | 16.70               | 0                   | 1                   | 5                   | 2                   | Porsche 914-2       |  970.70             |  9.038462           |\n",
       "| 30.4                | 4                   |  95.1               | 113                 | 3.77                | 1.513               | 16.90               | 1                   | 1                   | 5                   | 2                   | Lotus Europa        |  686.30             |  7.730263           |\n",
       "| 15.8                | 8                   | 351.0               | 264                 | 4.22                | 3.170               | 14.50               | 0                   | 1                   | 5                   | 4                   | Ford Pantera L      | 1437.91             | 14.873418           |\n",
       "| 19.7                | 6                   | 145.0               | 175                 | 3.62                | 2.770               | 15.50               | 0                   | 1                   | 5                   | 6                   | Ferrari Dino        | 1256.47             | 11.928934           |\n",
       "| 15.0                | 8                   | 301.0               | 335                 | 3.54                | 3.570               | 14.60               | 0                   | 1                   | 5                   | 8                   | Maserati Bora       | 1619.35             | 15.666667           |\n",
       "| 21.4                | 4                   | 121.0               | 109                 | 4.11                | 2.780               | 18.60               | 1                   | 1                   | 4                   | 2                   | Volvo 142E          | 1261.01             | 10.981308           |\n",
       "\n"
      ],
      "text/plain": [
       "   mpg  cyl disp  hp  drat wt    qsec  vs am gear carb Auto               \n",
       "1  21.0 6   160.0 110 3.90 2.620 16.46 0  1  4    4    Mazda RX4          \n",
       "2  21.0 6   160.0 110 3.90 2.875 17.02 0  1  4    4    Mazda RX4 Wag      \n",
       "3  22.8 4   108.0  93 3.85 2.320 18.61 1  1  4    1    Datsun 710         \n",
       "4  21.4 6   258.0 110 3.08 3.215 19.44 1  0  3    1    Hornet 4 Drive     \n",
       "5  18.7 8   360.0 175 3.15 3.440 17.02 0  0  3    2    Hornet Sportabout  \n",
       "6  18.1 6   225.0 105 2.76 3.460 20.22 1  0  3    1    Valiant            \n",
       "7  14.3 8   360.0 245 3.21 3.570 15.84 0  0  3    4    Duster 360         \n",
       "8  24.4 4   146.7  62 3.69 3.190 20.00 1  0  4    2    Merc 240D          \n",
       "9  22.8 4   140.8  95 3.92 3.150 22.90 1  0  4    2    Merc 230           \n",
       "10 19.2 6   167.6 123 3.92 3.440 18.30 1  0  4    4    Merc 280           \n",
       "11 17.8 6   167.6 123 3.92 3.440 18.90 1  0  4    4    Merc 280C          \n",
       "12 16.4 8   275.8 180 3.07 4.070 17.40 0  0  3    3    Merc 450SE         \n",
       "13 17.3 8   275.8 180 3.07 3.730 17.60 0  0  3    3    Merc 450SL         \n",
       "14 15.2 8   275.8 180 3.07 3.780 18.00 0  0  3    3    Merc 450SLC        \n",
       "15 10.4 8   472.0 205 2.93 5.250 17.98 0  0  3    4    Cadillac Fleetwood \n",
       "16 10.4 8   460.0 215 3.00 5.424 17.82 0  0  3    4    Lincoln Continental\n",
       "17 14.7 8   440.0 230 3.23 5.345 17.42 0  0  3    4    Chrysler Imperial  \n",
       "18 32.4 4    78.7  66 4.08 2.200 19.47 1  1  4    1    Fiat 128           \n",
       "19 30.4 4    75.7  52 4.93 1.615 18.52 1  1  4    2    Honda Civic        \n",
       "20 33.9 4    71.1  65 4.22 1.835 19.90 1  1  4    1    Toyota Corolla     \n",
       "21 21.5 4   120.1  97 3.70 2.465 20.01 1  0  3    1    Toyota Corona      \n",
       "22 15.5 8   318.0 150 2.76 3.520 16.87 0  0  3    2    Dodge Challenger   \n",
       "23 15.2 8   304.0 150 3.15 3.435 17.30 0  0  3    2    AMC Javelin        \n",
       "24 13.3 8   350.0 245 3.73 3.840 15.41 0  0  3    4    Camaro Z28         \n",
       "25 19.2 8   400.0 175 3.08 3.845 17.05 0  0  3    2    Pontiac Firebird   \n",
       "26 27.3 4    79.0  66 4.08 1.935 18.90 1  1  4    1    Fiat X1-9          \n",
       "27 26.0 4   120.3  91 4.43 2.140 16.70 0  1  5    2    Porsche 914-2      \n",
       "28 30.4 4    95.1 113 3.77 1.513 16.90 1  1  5    2    Lotus Europa       \n",
       "29 15.8 8   351.0 264 4.22 3.170 14.50 0  1  5    4    Ford Pantera L     \n",
       "30 19.7 6   145.0 175 3.62 2.770 15.50 0  1  5    6    Ferrari Dino       \n",
       "31 15.0 8   301.0 335 3.54 3.570 14.60 0  1  5    8    Maserati Bora      \n",
       "32 21.4 4   121.0 109 4.11 2.780 18.60 1  1  4    2    Volvo 142E         \n",
       "   Gewicht l/100km  \n",
       "1  1188.43 11.190476\n",
       "2  1304.10 11.190476\n",
       "3  1052.35 10.307018\n",
       "4  1458.32 10.981308\n",
       "5  1560.38 12.566845\n",
       "6  1569.46 12.983425\n",
       "7  1619.35 16.433566\n",
       "8  1446.98  9.631148\n",
       "9  1428.84 10.307018\n",
       "10 1560.38 12.239583\n",
       "11 1560.38 13.202247\n",
       "12 1846.15 14.329268\n",
       "13 1691.93 13.583815\n",
       "14 1714.61 15.460526\n",
       "15 2381.40 22.596154\n",
       "16 2460.33 22.596154\n",
       "17 2424.49 15.986395\n",
       "18  997.92  7.253086\n",
       "19  732.56  7.730263\n",
       "20  832.36  6.932153\n",
       "21 1118.12 10.930233\n",
       "22 1596.67 15.161290\n",
       "23 1558.12 15.460526\n",
       "24 1741.82 17.669173\n",
       "25 1744.09 12.239583\n",
       "26  877.72  8.608059\n",
       "27  970.70  9.038462\n",
       "28  686.30  7.730263\n",
       "29 1437.91 14.873418\n",
       "30 1256.47 11.928934\n",
       "31 1619.35 15.666667\n",
       "32 1261.01 10.981308"
      ]
     },
     "metadata": {},
     "output_type": "display_data"
    }
   ],
   "source": [
    "mtcars %>% mutate(Auto=rownames(mtcars),\n",
    "    Gewicht = round(wt *1000 * 0.4536,2),             \n",
    "    \"l/100km\" =  235/mtcars[,\"mpg\"])"
   ]
  },
  {
   "cell_type": "code",
   "execution_count": 92,
   "id": "86f9773b",
   "metadata": {},
   "outputs": [
    {
     "data": {
      "text/html": [
       "<table>\n",
       "<thead><tr><th></th><th scope=col>hp</th><th scope=col>mpg</th><th scope=col>cyl</th><th scope=col>disp</th><th scope=col>drat</th><th scope=col>wt</th><th scope=col>qsec</th><th scope=col>vs</th><th scope=col>am</th><th scope=col>gear</th><th scope=col>carb</th></tr></thead>\n",
       "<tbody>\n",
       "\t<tr><th scope=row>Mazda RX4</th><td>110  </td><td>21.0 </td><td>6    </td><td>160  </td><td>3.90 </td><td>2.620</td><td>16.46</td><td>0    </td><td>1    </td><td>4    </td><td>4    </td></tr>\n",
       "\t<tr><th scope=row>Mazda RX4 Wag</th><td>110  </td><td>21.0 </td><td>6    </td><td>160  </td><td>3.90 </td><td>2.875</td><td>17.02</td><td>0    </td><td>1    </td><td>4    </td><td>4    </td></tr>\n",
       "\t<tr><th scope=row>Datsun 710</th><td> 93  </td><td>22.8 </td><td>4    </td><td>108  </td><td>3.85 </td><td>2.320</td><td>18.61</td><td>1    </td><td>1    </td><td>4    </td><td>1    </td></tr>\n",
       "\t<tr><th scope=row>Hornet 4 Drive</th><td>110  </td><td>21.4 </td><td>6    </td><td>258  </td><td>3.08 </td><td>3.215</td><td>19.44</td><td>1    </td><td>0    </td><td>3    </td><td>1    </td></tr>\n",
       "\t<tr><th scope=row>Hornet Sportabout</th><td>175  </td><td>18.7 </td><td>8    </td><td>360  </td><td>3.15 </td><td>3.440</td><td>17.02</td><td>0    </td><td>0    </td><td>3    </td><td>2    </td></tr>\n",
       "\t<tr><th scope=row>Valiant</th><td>105  </td><td>18.1 </td><td>6    </td><td>225  </td><td>2.76 </td><td>3.460</td><td>20.22</td><td>1    </td><td>0    </td><td>3    </td><td>1    </td></tr>\n",
       "</tbody>\n",
       "</table>\n"
      ],
      "text/latex": [
       "\\begin{tabular}{r|lllllllllll}\n",
       "  & hp & mpg & cyl & disp & drat & wt & qsec & vs & am & gear & carb\\\\\n",
       "\\hline\n",
       "\tMazda RX4 & 110   & 21.0  & 6     & 160   & 3.90  & 2.620 & 16.46 & 0     & 1     & 4     & 4    \\\\\n",
       "\tMazda RX4 Wag & 110   & 21.0  & 6     & 160   & 3.90  & 2.875 & 17.02 & 0     & 1     & 4     & 4    \\\\\n",
       "\tDatsun 710 &  93   & 22.8  & 4     & 108   & 3.85  & 2.320 & 18.61 & 1     & 1     & 4     & 1    \\\\\n",
       "\tHornet 4 Drive & 110   & 21.4  & 6     & 258   & 3.08  & 3.215 & 19.44 & 1     & 0     & 3     & 1    \\\\\n",
       "\tHornet Sportabout & 175   & 18.7  & 8     & 360   & 3.15  & 3.440 & 17.02 & 0     & 0     & 3     & 2    \\\\\n",
       "\tValiant & 105   & 18.1  & 6     & 225   & 2.76  & 3.460 & 20.22 & 1     & 0     & 3     & 1    \\\\\n",
       "\\end{tabular}\n"
      ],
      "text/markdown": [
       "\n",
       "| <!--/--> | hp | mpg | cyl | disp | drat | wt | qsec | vs | am | gear | carb |\n",
       "|---|---|---|---|---|---|---|---|---|---|---|---|\n",
       "| Mazda RX4 | 110   | 21.0  | 6     | 160   | 3.90  | 2.620 | 16.46 | 0     | 1     | 4     | 4     |\n",
       "| Mazda RX4 Wag | 110   | 21.0  | 6     | 160   | 3.90  | 2.875 | 17.02 | 0     | 1     | 4     | 4     |\n",
       "| Datsun 710 |  93   | 22.8  | 4     | 108   | 3.85  | 2.320 | 18.61 | 1     | 1     | 4     | 1     |\n",
       "| Hornet 4 Drive | 110   | 21.4  | 6     | 258   | 3.08  | 3.215 | 19.44 | 1     | 0     | 3     | 1     |\n",
       "| Hornet Sportabout | 175   | 18.7  | 8     | 360   | 3.15  | 3.440 | 17.02 | 0     | 0     | 3     | 2     |\n",
       "| Valiant | 105   | 18.1  | 6     | 225   | 2.76  | 3.460 | 20.22 | 1     | 0     | 3     | 1     |\n",
       "\n"
      ],
      "text/plain": [
       "                  hp  mpg  cyl disp drat wt    qsec  vs am gear carb\n",
       "Mazda RX4         110 21.0 6   160  3.90 2.620 16.46 0  1  4    4   \n",
       "Mazda RX4 Wag     110 21.0 6   160  3.90 2.875 17.02 0  1  4    4   \n",
       "Datsun 710         93 22.8 4   108  3.85 2.320 18.61 1  1  4    1   \n",
       "Hornet 4 Drive    110 21.4 6   258  3.08 3.215 19.44 1  0  3    1   \n",
       "Hornet Sportabout 175 18.7 8   360  3.15 3.440 17.02 0  0  3    2   \n",
       "Valiant           105 18.1 6   225  2.76 3.460 20.22 1  0  3    1   "
      ]
     },
     "metadata": {},
     "output_type": "display_data"
    },
    {
     "ename": "ERROR",
     "evalue": "Error in relocate(., hp): konnte Funktion \"relocate\" nicht finden\n",
     "output_type": "error",
     "traceback": [
      "Error in relocate(., hp): konnte Funktion \"relocate\" nicht finden\nTraceback:\n",
      "1. mtcars %>% relocate(hp)"
     ]
    }
   ],
   "source": [
    "#relocate\n",
    "head(mtcars[,c(4,1,2,3,5,6,7,8,9,10,11)])\n",
    "mtcars %>% relocate(hp)"
   ]
  },
  {
   "cell_type": "markdown",
   "id": "1e2937a2",
   "metadata": {},
   "source": [
    "##### Row-based-functions\n",
    "\n",
    "* slice für Indexierung\n",
    "* filter für Filtering von Reihen\n",
    "* arrange für Sortierung"
   ]
  },
  {
   "cell_type": "code",
   "execution_count": 41,
   "id": "c4384b6b",
   "metadata": {},
   "outputs": [
    {
     "data": {
      "text/html": [
       "<table>\n",
       "<thead><tr><th></th><th scope=col>mpg</th><th scope=col>cyl</th><th scope=col>disp</th><th scope=col>hp</th><th scope=col>drat</th><th scope=col>wt</th><th scope=col>qsec</th><th scope=col>vs</th><th scope=col>am</th><th scope=col>gear</th><th scope=col>carb</th></tr></thead>\n",
       "<tbody>\n",
       "\t<tr><th scope=row>Merc 280</th><td>19.2 </td><td>6    </td><td>167.6</td><td>123  </td><td>3.92 </td><td>3.44 </td><td>18.30</td><td>1    </td><td>0    </td><td>4    </td><td>4    </td></tr>\n",
       "\t<tr><th scope=row>Merc 280C</th><td>17.8 </td><td>6    </td><td>167.6</td><td>123  </td><td>3.92 </td><td>3.44 </td><td>18.90</td><td>1    </td><td>0    </td><td>4    </td><td>4    </td></tr>\n",
       "\t<tr><th scope=row>Merc 450SE</th><td>16.4 </td><td>8    </td><td>275.8</td><td>180  </td><td>3.07 </td><td>4.07 </td><td>17.40</td><td>0    </td><td>0    </td><td>3    </td><td>3    </td></tr>\n",
       "\t<tr><th scope=row>Merc 450SL</th><td>17.3 </td><td>8    </td><td>275.8</td><td>180  </td><td>3.07 </td><td>3.73 </td><td>17.60</td><td>0    </td><td>0    </td><td>3    </td><td>3    </td></tr>\n",
       "\t<tr><th scope=row>Merc 450SLC</th><td>15.2 </td><td>8    </td><td>275.8</td><td>180  </td><td>3.07 </td><td>3.78 </td><td>18.00</td><td>0    </td><td>0    </td><td>3    </td><td>3    </td></tr>\n",
       "\t<tr><th scope=row>Cadillac Fleetwood</th><td>10.4 </td><td>8    </td><td>472.0</td><td>205  </td><td>2.93 </td><td>5.25 </td><td>17.98</td><td>0    </td><td>0    </td><td>3    </td><td>4    </td></tr>\n",
       "</tbody>\n",
       "</table>\n"
      ],
      "text/latex": [
       "\\begin{tabular}{r|lllllllllll}\n",
       "  & mpg & cyl & disp & hp & drat & wt & qsec & vs & am & gear & carb\\\\\n",
       "\\hline\n",
       "\tMerc 280 & 19.2  & 6     & 167.6 & 123   & 3.92  & 3.44  & 18.30 & 1     & 0     & 4     & 4    \\\\\n",
       "\tMerc 280C & 17.8  & 6     & 167.6 & 123   & 3.92  & 3.44  & 18.90 & 1     & 0     & 4     & 4    \\\\\n",
       "\tMerc 450SE & 16.4  & 8     & 275.8 & 180   & 3.07  & 4.07  & 17.40 & 0     & 0     & 3     & 3    \\\\\n",
       "\tMerc 450SL & 17.3  & 8     & 275.8 & 180   & 3.07  & 3.73  & 17.60 & 0     & 0     & 3     & 3    \\\\\n",
       "\tMerc 450SLC & 15.2  & 8     & 275.8 & 180   & 3.07  & 3.78  & 18.00 & 0     & 0     & 3     & 3    \\\\\n",
       "\tCadillac Fleetwood & 10.4  & 8     & 472.0 & 205   & 2.93  & 5.25  & 17.98 & 0     & 0     & 3     & 4    \\\\\n",
       "\\end{tabular}\n"
      ],
      "text/markdown": [
       "\n",
       "| <!--/--> | mpg | cyl | disp | hp | drat | wt | qsec | vs | am | gear | carb |\n",
       "|---|---|---|---|---|---|---|---|---|---|---|---|\n",
       "| Merc 280 | 19.2  | 6     | 167.6 | 123   | 3.92  | 3.44  | 18.30 | 1     | 0     | 4     | 4     |\n",
       "| Merc 280C | 17.8  | 6     | 167.6 | 123   | 3.92  | 3.44  | 18.90 | 1     | 0     | 4     | 4     |\n",
       "| Merc 450SE | 16.4  | 8     | 275.8 | 180   | 3.07  | 4.07  | 17.40 | 0     | 0     | 3     | 3     |\n",
       "| Merc 450SL | 17.3  | 8     | 275.8 | 180   | 3.07  | 3.73  | 17.60 | 0     | 0     | 3     | 3     |\n",
       "| Merc 450SLC | 15.2  | 8     | 275.8 | 180   | 3.07  | 3.78  | 18.00 | 0     | 0     | 3     | 3     |\n",
       "| Cadillac Fleetwood | 10.4  | 8     | 472.0 | 205   | 2.93  | 5.25  | 17.98 | 0     | 0     | 3     | 4     |\n",
       "\n"
      ],
      "text/plain": [
       "                   mpg  cyl disp  hp  drat wt   qsec  vs am gear carb\n",
       "Merc 280           19.2 6   167.6 123 3.92 3.44 18.30 1  0  4    4   \n",
       "Merc 280C          17.8 6   167.6 123 3.92 3.44 18.90 1  0  4    4   \n",
       "Merc 450SE         16.4 8   275.8 180 3.07 4.07 17.40 0  0  3    3   \n",
       "Merc 450SL         17.3 8   275.8 180 3.07 3.73 17.60 0  0  3    3   \n",
       "Merc 450SLC        15.2 8   275.8 180 3.07 3.78 18.00 0  0  3    3   \n",
       "Cadillac Fleetwood 10.4 8   472.0 205 2.93 5.25 17.98 0  0  3    4   "
      ]
     },
     "metadata": {},
     "output_type": "display_data"
    },
    {
     "data": {
      "text/html": [
       "<table>\n",
       "<thead><tr><th scope=col>mpg</th><th scope=col>cyl</th><th scope=col>disp</th><th scope=col>hp</th><th scope=col>drat</th><th scope=col>wt</th><th scope=col>qsec</th><th scope=col>vs</th><th scope=col>am</th><th scope=col>gear</th><th scope=col>carb</th></tr></thead>\n",
       "<tbody>\n",
       "\t<tr><td>19.2 </td><td>6    </td><td>167.6</td><td>123  </td><td>3.92 </td><td>3.44 </td><td>18.30</td><td>1    </td><td>0    </td><td>4    </td><td>4    </td></tr>\n",
       "\t<tr><td>17.8 </td><td>6    </td><td>167.6</td><td>123  </td><td>3.92 </td><td>3.44 </td><td>18.90</td><td>1    </td><td>0    </td><td>4    </td><td>4    </td></tr>\n",
       "\t<tr><td>16.4 </td><td>8    </td><td>275.8</td><td>180  </td><td>3.07 </td><td>4.07 </td><td>17.40</td><td>0    </td><td>0    </td><td>3    </td><td>3    </td></tr>\n",
       "\t<tr><td>17.3 </td><td>8    </td><td>275.8</td><td>180  </td><td>3.07 </td><td>3.73 </td><td>17.60</td><td>0    </td><td>0    </td><td>3    </td><td>3    </td></tr>\n",
       "\t<tr><td>15.2 </td><td>8    </td><td>275.8</td><td>180  </td><td>3.07 </td><td>3.78 </td><td>18.00</td><td>0    </td><td>0    </td><td>3    </td><td>3    </td></tr>\n",
       "\t<tr><td>10.4 </td><td>8    </td><td>472.0</td><td>205  </td><td>2.93 </td><td>5.25 </td><td>17.98</td><td>0    </td><td>0    </td><td>3    </td><td>4    </td></tr>\n",
       "</tbody>\n",
       "</table>\n"
      ],
      "text/latex": [
       "\\begin{tabular}{r|lllllllllll}\n",
       " mpg & cyl & disp & hp & drat & wt & qsec & vs & am & gear & carb\\\\\n",
       "\\hline\n",
       "\t 19.2  & 6     & 167.6 & 123   & 3.92  & 3.44  & 18.30 & 1     & 0     & 4     & 4    \\\\\n",
       "\t 17.8  & 6     & 167.6 & 123   & 3.92  & 3.44  & 18.90 & 1     & 0     & 4     & 4    \\\\\n",
       "\t 16.4  & 8     & 275.8 & 180   & 3.07  & 4.07  & 17.40 & 0     & 0     & 3     & 3    \\\\\n",
       "\t 17.3  & 8     & 275.8 & 180   & 3.07  & 3.73  & 17.60 & 0     & 0     & 3     & 3    \\\\\n",
       "\t 15.2  & 8     & 275.8 & 180   & 3.07  & 3.78  & 18.00 & 0     & 0     & 3     & 3    \\\\\n",
       "\t 10.4  & 8     & 472.0 & 205   & 2.93  & 5.25  & 17.98 & 0     & 0     & 3     & 4    \\\\\n",
       "\\end{tabular}\n"
      ],
      "text/markdown": [
       "\n",
       "| mpg | cyl | disp | hp | drat | wt | qsec | vs | am | gear | carb |\n",
       "|---|---|---|---|---|---|---|---|---|---|---|\n",
       "| 19.2  | 6     | 167.6 | 123   | 3.92  | 3.44  | 18.30 | 1     | 0     | 4     | 4     |\n",
       "| 17.8  | 6     | 167.6 | 123   | 3.92  | 3.44  | 18.90 | 1     | 0     | 4     | 4     |\n",
       "| 16.4  | 8     | 275.8 | 180   | 3.07  | 4.07  | 17.40 | 0     | 0     | 3     | 3     |\n",
       "| 17.3  | 8     | 275.8 | 180   | 3.07  | 3.73  | 17.60 | 0     | 0     | 3     | 3     |\n",
       "| 15.2  | 8     | 275.8 | 180   | 3.07  | 3.78  | 18.00 | 0     | 0     | 3     | 3     |\n",
       "| 10.4  | 8     | 472.0 | 205   | 2.93  | 5.25  | 17.98 | 0     | 0     | 3     | 4     |\n",
       "\n"
      ],
      "text/plain": [
       "  mpg  cyl disp  hp  drat wt   qsec  vs am gear carb\n",
       "1 19.2 6   167.6 123 3.92 3.44 18.30 1  0  4    4   \n",
       "2 17.8 6   167.6 123 3.92 3.44 18.90 1  0  4    4   \n",
       "3 16.4 8   275.8 180 3.07 4.07 17.40 0  0  3    3   \n",
       "4 17.3 8   275.8 180 3.07 3.73 17.60 0  0  3    3   \n",
       "5 15.2 8   275.8 180 3.07 3.78 18.00 0  0  3    3   \n",
       "6 10.4 8   472.0 205 2.93 5.25 17.98 0  0  3    4   "
      ]
     },
     "metadata": {},
     "output_type": "display_data"
    }
   ],
   "source": [
    "mtcars[10:15,]\n",
    "mtcars %>% slice(10:15)"
   ]
  },
  {
   "cell_type": "code",
   "execution_count": 93,
   "id": "05df52ed",
   "metadata": {},
   "outputs": [
    {
     "data": {
      "text/html": [
       "<table>\n",
       "<thead><tr><th></th><th scope=col>mpg</th><th scope=col>cyl</th><th scope=col>disp</th><th scope=col>hp</th><th scope=col>drat</th><th scope=col>wt</th><th scope=col>qsec</th><th scope=col>vs</th><th scope=col>am</th><th scope=col>gear</th><th scope=col>carb</th></tr></thead>\n",
       "<tbody>\n",
       "\t<tr><th scope=row>Duster 360</th><td>14.3 </td><td>8    </td><td>360  </td><td>245  </td><td>3.21 </td><td>3.570</td><td>15.84</td><td>0    </td><td>0    </td><td>3    </td><td>4    </td></tr>\n",
       "\t<tr><th scope=row>Cadillac Fleetwood</th><td>10.4 </td><td>8    </td><td>472  </td><td>205  </td><td>2.93 </td><td>5.250</td><td>17.98</td><td>0    </td><td>0    </td><td>3    </td><td>4    </td></tr>\n",
       "\t<tr><th scope=row>Lincoln Continental</th><td>10.4 </td><td>8    </td><td>460  </td><td>215  </td><td>3.00 </td><td>5.424</td><td>17.82</td><td>0    </td><td>0    </td><td>3    </td><td>4    </td></tr>\n",
       "\t<tr><th scope=row>Chrysler Imperial</th><td>14.7 </td><td>8    </td><td>440  </td><td>230  </td><td>3.23 </td><td>5.345</td><td>17.42</td><td>0    </td><td>0    </td><td>3    </td><td>4    </td></tr>\n",
       "\t<tr><th scope=row>Camaro Z28</th><td>13.3 </td><td>8    </td><td>350  </td><td>245  </td><td>3.73 </td><td>3.840</td><td>15.41</td><td>0    </td><td>0    </td><td>3    </td><td>4    </td></tr>\n",
       "\t<tr><th scope=row>Ford Pantera L</th><td>15.8 </td><td>8    </td><td>351  </td><td>264  </td><td>4.22 </td><td>3.170</td><td>14.50</td><td>0    </td><td>1    </td><td>5    </td><td>4    </td></tr>\n",
       "\t<tr><th scope=row>Maserati Bora</th><td>15.0 </td><td>8    </td><td>301  </td><td>335  </td><td>3.54 </td><td>3.570</td><td>14.60</td><td>0    </td><td>1    </td><td>5    </td><td>8    </td></tr>\n",
       "</tbody>\n",
       "</table>\n"
      ],
      "text/latex": [
       "\\begin{tabular}{r|lllllllllll}\n",
       "  & mpg & cyl & disp & hp & drat & wt & qsec & vs & am & gear & carb\\\\\n",
       "\\hline\n",
       "\tDuster 360 & 14.3  & 8     & 360   & 245   & 3.21  & 3.570 & 15.84 & 0     & 0     & 3     & 4    \\\\\n",
       "\tCadillac Fleetwood & 10.4  & 8     & 472   & 205   & 2.93  & 5.250 & 17.98 & 0     & 0     & 3     & 4    \\\\\n",
       "\tLincoln Continental & 10.4  & 8     & 460   & 215   & 3.00  & 5.424 & 17.82 & 0     & 0     & 3     & 4    \\\\\n",
       "\tChrysler Imperial & 14.7  & 8     & 440   & 230   & 3.23  & 5.345 & 17.42 & 0     & 0     & 3     & 4    \\\\\n",
       "\tCamaro Z28 & 13.3  & 8     & 350   & 245   & 3.73  & 3.840 & 15.41 & 0     & 0     & 3     & 4    \\\\\n",
       "\tFord Pantera L & 15.8  & 8     & 351   & 264   & 4.22  & 3.170 & 14.50 & 0     & 1     & 5     & 4    \\\\\n",
       "\tMaserati Bora & 15.0  & 8     & 301   & 335   & 3.54  & 3.570 & 14.60 & 0     & 1     & 5     & 8    \\\\\n",
       "\\end{tabular}\n"
      ],
      "text/markdown": [
       "\n",
       "| <!--/--> | mpg | cyl | disp | hp | drat | wt | qsec | vs | am | gear | carb |\n",
       "|---|---|---|---|---|---|---|---|---|---|---|---|\n",
       "| Duster 360 | 14.3  | 8     | 360   | 245   | 3.21  | 3.570 | 15.84 | 0     | 0     | 3     | 4     |\n",
       "| Cadillac Fleetwood | 10.4  | 8     | 472   | 205   | 2.93  | 5.250 | 17.98 | 0     | 0     | 3     | 4     |\n",
       "| Lincoln Continental | 10.4  | 8     | 460   | 215   | 3.00  | 5.424 | 17.82 | 0     | 0     | 3     | 4     |\n",
       "| Chrysler Imperial | 14.7  | 8     | 440   | 230   | 3.23  | 5.345 | 17.42 | 0     | 0     | 3     | 4     |\n",
       "| Camaro Z28 | 13.3  | 8     | 350   | 245   | 3.73  | 3.840 | 15.41 | 0     | 0     | 3     | 4     |\n",
       "| Ford Pantera L | 15.8  | 8     | 351   | 264   | 4.22  | 3.170 | 14.50 | 0     | 1     | 5     | 4     |\n",
       "| Maserati Bora | 15.0  | 8     | 301   | 335   | 3.54  | 3.570 | 14.60 | 0     | 1     | 5     | 8     |\n",
       "\n"
      ],
      "text/plain": [
       "                    mpg  cyl disp hp  drat wt    qsec  vs am gear carb\n",
       "Duster 360          14.3 8   360  245 3.21 3.570 15.84 0  0  3    4   \n",
       "Cadillac Fleetwood  10.4 8   472  205 2.93 5.250 17.98 0  0  3    4   \n",
       "Lincoln Continental 10.4 8   460  215 3.00 5.424 17.82 0  0  3    4   \n",
       "Chrysler Imperial   14.7 8   440  230 3.23 5.345 17.42 0  0  3    4   \n",
       "Camaro Z28          13.3 8   350  245 3.73 3.840 15.41 0  0  3    4   \n",
       "Ford Pantera L      15.8 8   351  264 4.22 3.170 14.50 0  1  5    4   \n",
       "Maserati Bora       15.0 8   301  335 3.54 3.570 14.60 0  1  5    8   "
      ]
     },
     "metadata": {},
     "output_type": "display_data"
    },
    {
     "data": {
      "text/html": [
       "<table>\n",
       "<thead><tr><th scope=col>mpg</th><th scope=col>cyl</th><th scope=col>disp</th><th scope=col>hp</th><th scope=col>drat</th><th scope=col>wt</th><th scope=col>qsec</th><th scope=col>vs</th><th scope=col>am</th><th scope=col>gear</th><th scope=col>carb</th></tr></thead>\n",
       "<tbody>\n",
       "\t<tr><td>14.3 </td><td>8    </td><td>360  </td><td>245  </td><td>3.21 </td><td>3.570</td><td>15.84</td><td>0    </td><td>0    </td><td>3    </td><td>4    </td></tr>\n",
       "\t<tr><td>10.4 </td><td>8    </td><td>472  </td><td>205  </td><td>2.93 </td><td>5.250</td><td>17.98</td><td>0    </td><td>0    </td><td>3    </td><td>4    </td></tr>\n",
       "\t<tr><td>10.4 </td><td>8    </td><td>460  </td><td>215  </td><td>3.00 </td><td>5.424</td><td>17.82</td><td>0    </td><td>0    </td><td>3    </td><td>4    </td></tr>\n",
       "\t<tr><td>14.7 </td><td>8    </td><td>440  </td><td>230  </td><td>3.23 </td><td>5.345</td><td>17.42</td><td>0    </td><td>0    </td><td>3    </td><td>4    </td></tr>\n",
       "\t<tr><td>13.3 </td><td>8    </td><td>350  </td><td>245  </td><td>3.73 </td><td>3.840</td><td>15.41</td><td>0    </td><td>0    </td><td>3    </td><td>4    </td></tr>\n",
       "\t<tr><td>15.8 </td><td>8    </td><td>351  </td><td>264  </td><td>4.22 </td><td>3.170</td><td>14.50</td><td>0    </td><td>1    </td><td>5    </td><td>4    </td></tr>\n",
       "\t<tr><td>15.0 </td><td>8    </td><td>301  </td><td>335  </td><td>3.54 </td><td>3.570</td><td>14.60</td><td>0    </td><td>1    </td><td>5    </td><td>8    </td></tr>\n",
       "</tbody>\n",
       "</table>\n"
      ],
      "text/latex": [
       "\\begin{tabular}{r|lllllllllll}\n",
       " mpg & cyl & disp & hp & drat & wt & qsec & vs & am & gear & carb\\\\\n",
       "\\hline\n",
       "\t 14.3  & 8     & 360   & 245   & 3.21  & 3.570 & 15.84 & 0     & 0     & 3     & 4    \\\\\n",
       "\t 10.4  & 8     & 472   & 205   & 2.93  & 5.250 & 17.98 & 0     & 0     & 3     & 4    \\\\\n",
       "\t 10.4  & 8     & 460   & 215   & 3.00  & 5.424 & 17.82 & 0     & 0     & 3     & 4    \\\\\n",
       "\t 14.7  & 8     & 440   & 230   & 3.23  & 5.345 & 17.42 & 0     & 0     & 3     & 4    \\\\\n",
       "\t 13.3  & 8     & 350   & 245   & 3.73  & 3.840 & 15.41 & 0     & 0     & 3     & 4    \\\\\n",
       "\t 15.8  & 8     & 351   & 264   & 4.22  & 3.170 & 14.50 & 0     & 1     & 5     & 4    \\\\\n",
       "\t 15.0  & 8     & 301   & 335   & 3.54  & 3.570 & 14.60 & 0     & 1     & 5     & 8    \\\\\n",
       "\\end{tabular}\n"
      ],
      "text/markdown": [
       "\n",
       "| mpg | cyl | disp | hp | drat | wt | qsec | vs | am | gear | carb |\n",
       "|---|---|---|---|---|---|---|---|---|---|---|\n",
       "| 14.3  | 8     | 360   | 245   | 3.21  | 3.570 | 15.84 | 0     | 0     | 3     | 4     |\n",
       "| 10.4  | 8     | 472   | 205   | 2.93  | 5.250 | 17.98 | 0     | 0     | 3     | 4     |\n",
       "| 10.4  | 8     | 460   | 215   | 3.00  | 5.424 | 17.82 | 0     | 0     | 3     | 4     |\n",
       "| 14.7  | 8     | 440   | 230   | 3.23  | 5.345 | 17.42 | 0     | 0     | 3     | 4     |\n",
       "| 13.3  | 8     | 350   | 245   | 3.73  | 3.840 | 15.41 | 0     | 0     | 3     | 4     |\n",
       "| 15.8  | 8     | 351   | 264   | 4.22  | 3.170 | 14.50 | 0     | 1     | 5     | 4     |\n",
       "| 15.0  | 8     | 301   | 335   | 3.54  | 3.570 | 14.60 | 0     | 1     | 5     | 8     |\n",
       "\n"
      ],
      "text/plain": [
       "  mpg  cyl disp hp  drat wt    qsec  vs am gear carb\n",
       "1 14.3 8   360  245 3.21 3.570 15.84 0  0  3    4   \n",
       "2 10.4 8   472  205 2.93 5.250 17.98 0  0  3    4   \n",
       "3 10.4 8   460  215 3.00 5.424 17.82 0  0  3    4   \n",
       "4 14.7 8   440  230 3.23 5.345 17.42 0  0  3    4   \n",
       "5 13.3 8   350  245 3.73 3.840 15.41 0  0  3    4   \n",
       "6 15.8 8   351  264 4.22 3.170 14.50 0  1  5    4   \n",
       "7 15.0 8   301  335 3.54 3.570 14.60 0  1  5    8   "
      ]
     },
     "metadata": {},
     "output_type": "display_data"
    }
   ],
   "source": [
    "# filter\n",
    "mtcars[mtcars$hp>200,]\n",
    "mtcars %>% filter(hp>200)"
   ]
  },
  {
   "cell_type": "code",
   "execution_count": 47,
   "id": "2ee5d594",
   "metadata": {},
   "outputs": [
    {
     "data": {
      "text/html": [
       "<table>\n",
       "<thead><tr><th scope=col>mpg</th><th scope=col>cyl</th><th scope=col>disp</th><th scope=col>hp</th><th scope=col>drat</th><th scope=col>wt</th><th scope=col>qsec</th><th scope=col>vs</th><th scope=col>am</th><th scope=col>gear</th><th scope=col>carb</th></tr></thead>\n",
       "<tbody>\n",
       "\t<tr><td>15.8</td><td>8   </td><td>351 </td><td>264 </td><td>4.22</td><td>3.17</td><td>14.5</td><td>0   </td><td>1   </td><td>5   </td><td>4   </td></tr>\n",
       "</tbody>\n",
       "</table>\n"
      ],
      "text/latex": [
       "\\begin{tabular}{r|lllllllllll}\n",
       " mpg & cyl & disp & hp & drat & wt & qsec & vs & am & gear & carb\\\\\n",
       "\\hline\n",
       "\t 15.8 & 8    & 351  & 264  & 4.22 & 3.17 & 14.5 & 0    & 1    & 5    & 4   \\\\\n",
       "\\end{tabular}\n"
      ],
      "text/markdown": [
       "\n",
       "| mpg | cyl | disp | hp | drat | wt | qsec | vs | am | gear | carb |\n",
       "|---|---|---|---|---|---|---|---|---|---|---|\n",
       "| 15.8 | 8    | 351  | 264  | 4.22 | 3.17 | 14.5 | 0    | 1    | 5    | 4    |\n",
       "\n"
      ],
      "text/plain": [
       "  mpg  cyl disp hp  drat wt   qsec vs am gear carb\n",
       "1 15.8 8   351  264 4.22 3.17 14.5 0  1  5    4   "
      ]
     },
     "metadata": {},
     "output_type": "display_data"
    }
   ],
   "source": [
    "mtcars %>% filter(hp>200 & wt<3.5)"
   ]
  },
  {
   "cell_type": "code",
   "execution_count": 102,
   "id": "5a445875",
   "metadata": {},
   "outputs": [],
   "source": [
    "#arrange\n",
    "sorted1 <- mtcars[order(mtcars$hp),]\n",
    "sorted2 <- mtcars %>% arrange(hp)"
   ]
  },
  {
   "cell_type": "code",
   "execution_count": 103,
   "id": "b886ccc8",
   "metadata": {},
   "outputs": [
    {
     "data": {
      "text/html": [
       "<table>\n",
       "<thead><tr><th></th><th scope=col>mpg</th><th scope=col>cyl</th><th scope=col>disp</th><th scope=col>hp</th><th scope=col>drat</th><th scope=col>wt</th><th scope=col>qsec</th><th scope=col>vs</th><th scope=col>am</th><th scope=col>gear</th><th scope=col>carb</th></tr></thead>\n",
       "<tbody>\n",
       "\t<tr><th scope=row>Honda Civic</th><td>30.4 </td><td>4    </td><td> 75.7</td><td>52   </td><td>4.93 </td><td>1.615</td><td>18.52</td><td>1    </td><td>1    </td><td>4    </td><td>2    </td></tr>\n",
       "\t<tr><th scope=row>Merc 240D</th><td>24.4 </td><td>4    </td><td>146.7</td><td>62   </td><td>3.69 </td><td>3.190</td><td>20.00</td><td>1    </td><td>0    </td><td>4    </td><td>2    </td></tr>\n",
       "\t<tr><th scope=row>Toyota Corolla</th><td>33.9 </td><td>4    </td><td> 71.1</td><td>65   </td><td>4.22 </td><td>1.835</td><td>19.90</td><td>1    </td><td>1    </td><td>4    </td><td>1    </td></tr>\n",
       "\t<tr><th scope=row>Fiat 128</th><td>32.4 </td><td>4    </td><td> 78.7</td><td>66   </td><td>4.08 </td><td>2.200</td><td>19.47</td><td>1    </td><td>1    </td><td>4    </td><td>1    </td></tr>\n",
       "\t<tr><th scope=row>Fiat X1-9</th><td>27.3 </td><td>4    </td><td> 79.0</td><td>66   </td><td>4.08 </td><td>1.935</td><td>18.90</td><td>1    </td><td>1    </td><td>4    </td><td>1    </td></tr>\n",
       "\t<tr><th scope=row>Porsche 914-2</th><td>26.0 </td><td>4    </td><td>120.3</td><td>91   </td><td>4.43 </td><td>2.140</td><td>16.70</td><td>0    </td><td>1    </td><td>5    </td><td>2    </td></tr>\n",
       "</tbody>\n",
       "</table>\n"
      ],
      "text/latex": [
       "\\begin{tabular}{r|lllllllllll}\n",
       "  & mpg & cyl & disp & hp & drat & wt & qsec & vs & am & gear & carb\\\\\n",
       "\\hline\n",
       "\tHonda Civic & 30.4  & 4     &  75.7 & 52    & 4.93  & 1.615 & 18.52 & 1     & 1     & 4     & 2    \\\\\n",
       "\tMerc 240D & 24.4  & 4     & 146.7 & 62    & 3.69  & 3.190 & 20.00 & 1     & 0     & 4     & 2    \\\\\n",
       "\tToyota Corolla & 33.9  & 4     &  71.1 & 65    & 4.22  & 1.835 & 19.90 & 1     & 1     & 4     & 1    \\\\\n",
       "\tFiat 128 & 32.4  & 4     &  78.7 & 66    & 4.08  & 2.200 & 19.47 & 1     & 1     & 4     & 1    \\\\\n",
       "\tFiat X1-9 & 27.3  & 4     &  79.0 & 66    & 4.08  & 1.935 & 18.90 & 1     & 1     & 4     & 1    \\\\\n",
       "\tPorsche 914-2 & 26.0  & 4     & 120.3 & 91    & 4.43  & 2.140 & 16.70 & 0     & 1     & 5     & 2    \\\\\n",
       "\\end{tabular}\n"
      ],
      "text/markdown": [
       "\n",
       "| <!--/--> | mpg | cyl | disp | hp | drat | wt | qsec | vs | am | gear | carb |\n",
       "|---|---|---|---|---|---|---|---|---|---|---|---|\n",
       "| Honda Civic | 30.4  | 4     |  75.7 | 52    | 4.93  | 1.615 | 18.52 | 1     | 1     | 4     | 2     |\n",
       "| Merc 240D | 24.4  | 4     | 146.7 | 62    | 3.69  | 3.190 | 20.00 | 1     | 0     | 4     | 2     |\n",
       "| Toyota Corolla | 33.9  | 4     |  71.1 | 65    | 4.22  | 1.835 | 19.90 | 1     | 1     | 4     | 1     |\n",
       "| Fiat 128 | 32.4  | 4     |  78.7 | 66    | 4.08  | 2.200 | 19.47 | 1     | 1     | 4     | 1     |\n",
       "| Fiat X1-9 | 27.3  | 4     |  79.0 | 66    | 4.08  | 1.935 | 18.90 | 1     | 1     | 4     | 1     |\n",
       "| Porsche 914-2 | 26.0  | 4     | 120.3 | 91    | 4.43  | 2.140 | 16.70 | 0     | 1     | 5     | 2     |\n",
       "\n"
      ],
      "text/plain": [
       "               mpg  cyl disp  hp drat wt    qsec  vs am gear carb\n",
       "Honda Civic    30.4 4    75.7 52 4.93 1.615 18.52 1  1  4    2   \n",
       "Merc 240D      24.4 4   146.7 62 3.69 3.190 20.00 1  0  4    2   \n",
       "Toyota Corolla 33.9 4    71.1 65 4.22 1.835 19.90 1  1  4    1   \n",
       "Fiat 128       32.4 4    78.7 66 4.08 2.200 19.47 1  1  4    1   \n",
       "Fiat X1-9      27.3 4    79.0 66 4.08 1.935 18.90 1  1  4    1   \n",
       "Porsche 914-2  26.0 4   120.3 91 4.43 2.140 16.70 0  1  5    2   "
      ]
     },
     "metadata": {},
     "output_type": "display_data"
    },
    {
     "data": {
      "text/html": [
       "<table>\n",
       "<thead><tr><th scope=col>mpg</th><th scope=col>cyl</th><th scope=col>disp</th><th scope=col>hp</th><th scope=col>drat</th><th scope=col>wt</th><th scope=col>qsec</th><th scope=col>vs</th><th scope=col>am</th><th scope=col>gear</th><th scope=col>carb</th></tr></thead>\n",
       "<tbody>\n",
       "\t<tr><td>30.4 </td><td>4    </td><td> 75.7</td><td>52   </td><td>4.93 </td><td>1.615</td><td>18.52</td><td>1    </td><td>1    </td><td>4    </td><td>2    </td></tr>\n",
       "\t<tr><td>24.4 </td><td>4    </td><td>146.7</td><td>62   </td><td>3.69 </td><td>3.190</td><td>20.00</td><td>1    </td><td>0    </td><td>4    </td><td>2    </td></tr>\n",
       "\t<tr><td>33.9 </td><td>4    </td><td> 71.1</td><td>65   </td><td>4.22 </td><td>1.835</td><td>19.90</td><td>1    </td><td>1    </td><td>4    </td><td>1    </td></tr>\n",
       "\t<tr><td>32.4 </td><td>4    </td><td> 78.7</td><td>66   </td><td>4.08 </td><td>2.200</td><td>19.47</td><td>1    </td><td>1    </td><td>4    </td><td>1    </td></tr>\n",
       "\t<tr><td>27.3 </td><td>4    </td><td> 79.0</td><td>66   </td><td>4.08 </td><td>1.935</td><td>18.90</td><td>1    </td><td>1    </td><td>4    </td><td>1    </td></tr>\n",
       "\t<tr><td>26.0 </td><td>4    </td><td>120.3</td><td>91   </td><td>4.43 </td><td>2.140</td><td>16.70</td><td>0    </td><td>1    </td><td>5    </td><td>2    </td></tr>\n",
       "</tbody>\n",
       "</table>\n"
      ],
      "text/latex": [
       "\\begin{tabular}{r|lllllllllll}\n",
       " mpg & cyl & disp & hp & drat & wt & qsec & vs & am & gear & carb\\\\\n",
       "\\hline\n",
       "\t 30.4  & 4     &  75.7 & 52    & 4.93  & 1.615 & 18.52 & 1     & 1     & 4     & 2    \\\\\n",
       "\t 24.4  & 4     & 146.7 & 62    & 3.69  & 3.190 & 20.00 & 1     & 0     & 4     & 2    \\\\\n",
       "\t 33.9  & 4     &  71.1 & 65    & 4.22  & 1.835 & 19.90 & 1     & 1     & 4     & 1    \\\\\n",
       "\t 32.4  & 4     &  78.7 & 66    & 4.08  & 2.200 & 19.47 & 1     & 1     & 4     & 1    \\\\\n",
       "\t 27.3  & 4     &  79.0 & 66    & 4.08  & 1.935 & 18.90 & 1     & 1     & 4     & 1    \\\\\n",
       "\t 26.0  & 4     & 120.3 & 91    & 4.43  & 2.140 & 16.70 & 0     & 1     & 5     & 2    \\\\\n",
       "\\end{tabular}\n"
      ],
      "text/markdown": [
       "\n",
       "| mpg | cyl | disp | hp | drat | wt | qsec | vs | am | gear | carb |\n",
       "|---|---|---|---|---|---|---|---|---|---|---|\n",
       "| 30.4  | 4     |  75.7 | 52    | 4.93  | 1.615 | 18.52 | 1     | 1     | 4     | 2     |\n",
       "| 24.4  | 4     | 146.7 | 62    | 3.69  | 3.190 | 20.00 | 1     | 0     | 4     | 2     |\n",
       "| 33.9  | 4     |  71.1 | 65    | 4.22  | 1.835 | 19.90 | 1     | 1     | 4     | 1     |\n",
       "| 32.4  | 4     |  78.7 | 66    | 4.08  | 2.200 | 19.47 | 1     | 1     | 4     | 1     |\n",
       "| 27.3  | 4     |  79.0 | 66    | 4.08  | 1.935 | 18.90 | 1     | 1     | 4     | 1     |\n",
       "| 26.0  | 4     | 120.3 | 91    | 4.43  | 2.140 | 16.70 | 0     | 1     | 5     | 2     |\n",
       "\n"
      ],
      "text/plain": [
       "  mpg  cyl disp  hp drat wt    qsec  vs am gear carb\n",
       "1 30.4 4    75.7 52 4.93 1.615 18.52 1  1  4    2   \n",
       "2 24.4 4   146.7 62 3.69 3.190 20.00 1  0  4    2   \n",
       "3 33.9 4    71.1 65 4.22 1.835 19.90 1  1  4    1   \n",
       "4 32.4 4    78.7 66 4.08 2.200 19.47 1  1  4    1   \n",
       "5 27.3 4    79.0 66 4.08 1.935 18.90 1  1  4    1   \n",
       "6 26.0 4   120.3 91 4.43 2.140 16.70 0  1  5    2   "
      ]
     },
     "metadata": {},
     "output_type": "display_data"
    }
   ],
   "source": [
    "head(sorted1)\n",
    "head(sorted2)"
   ]
  },
  {
   "cell_type": "code",
   "execution_count": 109,
   "id": "922b3e21",
   "metadata": {},
   "outputs": [],
   "source": [
    "sorted3 <- mtcars[order(mtcars$cyl,-mtcars$hp),]\n",
    "sorted4 <- mtcars %>% arrange(cyl,-hp)"
   ]
  },
  {
   "cell_type": "code",
   "execution_count": 110,
   "id": "ee336dbe",
   "metadata": {},
   "outputs": [
    {
     "data": {
      "text/html": [
       "<table>\n",
       "<thead><tr><th></th><th scope=col>mpg</th><th scope=col>cyl</th><th scope=col>disp</th><th scope=col>hp</th><th scope=col>drat</th><th scope=col>wt</th><th scope=col>qsec</th><th scope=col>vs</th><th scope=col>am</th><th scope=col>gear</th><th scope=col>carb</th></tr></thead>\n",
       "<tbody>\n",
       "\t<tr><th scope=row>Lotus Europa</th><td>30.4 </td><td>4    </td><td> 95.1</td><td>113  </td><td>3.77 </td><td>1.513</td><td>16.90</td><td>1    </td><td>1    </td><td>5    </td><td>2    </td></tr>\n",
       "\t<tr><th scope=row>Volvo 142E</th><td>21.4 </td><td>4    </td><td>121.0</td><td>109  </td><td>4.11 </td><td>2.780</td><td>18.60</td><td>1    </td><td>1    </td><td>4    </td><td>2    </td></tr>\n",
       "\t<tr><th scope=row>Toyota Corona</th><td>21.5 </td><td>4    </td><td>120.1</td><td> 97  </td><td>3.70 </td><td>2.465</td><td>20.01</td><td>1    </td><td>0    </td><td>3    </td><td>1    </td></tr>\n",
       "\t<tr><th scope=row>Merc 230</th><td>22.8 </td><td>4    </td><td>140.8</td><td> 95  </td><td>3.92 </td><td>3.150</td><td>22.90</td><td>1    </td><td>0    </td><td>4    </td><td>2    </td></tr>\n",
       "\t<tr><th scope=row>Datsun 710</th><td>22.8 </td><td>4    </td><td>108.0</td><td> 93  </td><td>3.85 </td><td>2.320</td><td>18.61</td><td>1    </td><td>1    </td><td>4    </td><td>1    </td></tr>\n",
       "\t<tr><th scope=row>Porsche 914-2</th><td>26.0 </td><td>4    </td><td>120.3</td><td> 91  </td><td>4.43 </td><td>2.140</td><td>16.70</td><td>0    </td><td>1    </td><td>5    </td><td>2    </td></tr>\n",
       "</tbody>\n",
       "</table>\n"
      ],
      "text/latex": [
       "\\begin{tabular}{r|lllllllllll}\n",
       "  & mpg & cyl & disp & hp & drat & wt & qsec & vs & am & gear & carb\\\\\n",
       "\\hline\n",
       "\tLotus Europa & 30.4  & 4     &  95.1 & 113   & 3.77  & 1.513 & 16.90 & 1     & 1     & 5     & 2    \\\\\n",
       "\tVolvo 142E & 21.4  & 4     & 121.0 & 109   & 4.11  & 2.780 & 18.60 & 1     & 1     & 4     & 2    \\\\\n",
       "\tToyota Corona & 21.5  & 4     & 120.1 &  97   & 3.70  & 2.465 & 20.01 & 1     & 0     & 3     & 1    \\\\\n",
       "\tMerc 230 & 22.8  & 4     & 140.8 &  95   & 3.92  & 3.150 & 22.90 & 1     & 0     & 4     & 2    \\\\\n",
       "\tDatsun 710 & 22.8  & 4     & 108.0 &  93   & 3.85  & 2.320 & 18.61 & 1     & 1     & 4     & 1    \\\\\n",
       "\tPorsche 914-2 & 26.0  & 4     & 120.3 &  91   & 4.43  & 2.140 & 16.70 & 0     & 1     & 5     & 2    \\\\\n",
       "\\end{tabular}\n"
      ],
      "text/markdown": [
       "\n",
       "| <!--/--> | mpg | cyl | disp | hp | drat | wt | qsec | vs | am | gear | carb |\n",
       "|---|---|---|---|---|---|---|---|---|---|---|---|\n",
       "| Lotus Europa | 30.4  | 4     |  95.1 | 113   | 3.77  | 1.513 | 16.90 | 1     | 1     | 5     | 2     |\n",
       "| Volvo 142E | 21.4  | 4     | 121.0 | 109   | 4.11  | 2.780 | 18.60 | 1     | 1     | 4     | 2     |\n",
       "| Toyota Corona | 21.5  | 4     | 120.1 |  97   | 3.70  | 2.465 | 20.01 | 1     | 0     | 3     | 1     |\n",
       "| Merc 230 | 22.8  | 4     | 140.8 |  95   | 3.92  | 3.150 | 22.90 | 1     | 0     | 4     | 2     |\n",
       "| Datsun 710 | 22.8  | 4     | 108.0 |  93   | 3.85  | 2.320 | 18.61 | 1     | 1     | 4     | 1     |\n",
       "| Porsche 914-2 | 26.0  | 4     | 120.3 |  91   | 4.43  | 2.140 | 16.70 | 0     | 1     | 5     | 2     |\n",
       "\n"
      ],
      "text/plain": [
       "              mpg  cyl disp  hp  drat wt    qsec  vs am gear carb\n",
       "Lotus Europa  30.4 4    95.1 113 3.77 1.513 16.90 1  1  5    2   \n",
       "Volvo 142E    21.4 4   121.0 109 4.11 2.780 18.60 1  1  4    2   \n",
       "Toyota Corona 21.5 4   120.1  97 3.70 2.465 20.01 1  0  3    1   \n",
       "Merc 230      22.8 4   140.8  95 3.92 3.150 22.90 1  0  4    2   \n",
       "Datsun 710    22.8 4   108.0  93 3.85 2.320 18.61 1  1  4    1   \n",
       "Porsche 914-2 26.0 4   120.3  91 4.43 2.140 16.70 0  1  5    2   "
      ]
     },
     "metadata": {},
     "output_type": "display_data"
    },
    {
     "data": {
      "text/html": [
       "<table>\n",
       "<thead><tr><th scope=col>mpg</th><th scope=col>cyl</th><th scope=col>disp</th><th scope=col>hp</th><th scope=col>drat</th><th scope=col>wt</th><th scope=col>qsec</th><th scope=col>vs</th><th scope=col>am</th><th scope=col>gear</th><th scope=col>carb</th></tr></thead>\n",
       "<tbody>\n",
       "\t<tr><td>30.4 </td><td>4    </td><td> 95.1</td><td>113  </td><td>3.77 </td><td>1.513</td><td>16.90</td><td>1    </td><td>1    </td><td>5    </td><td>2    </td></tr>\n",
       "\t<tr><td>21.4 </td><td>4    </td><td>121.0</td><td>109  </td><td>4.11 </td><td>2.780</td><td>18.60</td><td>1    </td><td>1    </td><td>4    </td><td>2    </td></tr>\n",
       "\t<tr><td>21.5 </td><td>4    </td><td>120.1</td><td> 97  </td><td>3.70 </td><td>2.465</td><td>20.01</td><td>1    </td><td>0    </td><td>3    </td><td>1    </td></tr>\n",
       "\t<tr><td>22.8 </td><td>4    </td><td>140.8</td><td> 95  </td><td>3.92 </td><td>3.150</td><td>22.90</td><td>1    </td><td>0    </td><td>4    </td><td>2    </td></tr>\n",
       "\t<tr><td>22.8 </td><td>4    </td><td>108.0</td><td> 93  </td><td>3.85 </td><td>2.320</td><td>18.61</td><td>1    </td><td>1    </td><td>4    </td><td>1    </td></tr>\n",
       "\t<tr><td>26.0 </td><td>4    </td><td>120.3</td><td> 91  </td><td>4.43 </td><td>2.140</td><td>16.70</td><td>0    </td><td>1    </td><td>5    </td><td>2    </td></tr>\n",
       "</tbody>\n",
       "</table>\n"
      ],
      "text/latex": [
       "\\begin{tabular}{r|lllllllllll}\n",
       " mpg & cyl & disp & hp & drat & wt & qsec & vs & am & gear & carb\\\\\n",
       "\\hline\n",
       "\t 30.4  & 4     &  95.1 & 113   & 3.77  & 1.513 & 16.90 & 1     & 1     & 5     & 2    \\\\\n",
       "\t 21.4  & 4     & 121.0 & 109   & 4.11  & 2.780 & 18.60 & 1     & 1     & 4     & 2    \\\\\n",
       "\t 21.5  & 4     & 120.1 &  97   & 3.70  & 2.465 & 20.01 & 1     & 0     & 3     & 1    \\\\\n",
       "\t 22.8  & 4     & 140.8 &  95   & 3.92  & 3.150 & 22.90 & 1     & 0     & 4     & 2    \\\\\n",
       "\t 22.8  & 4     & 108.0 &  93   & 3.85  & 2.320 & 18.61 & 1     & 1     & 4     & 1    \\\\\n",
       "\t 26.0  & 4     & 120.3 &  91   & 4.43  & 2.140 & 16.70 & 0     & 1     & 5     & 2    \\\\\n",
       "\\end{tabular}\n"
      ],
      "text/markdown": [
       "\n",
       "| mpg | cyl | disp | hp | drat | wt | qsec | vs | am | gear | carb |\n",
       "|---|---|---|---|---|---|---|---|---|---|---|\n",
       "| 30.4  | 4     |  95.1 | 113   | 3.77  | 1.513 | 16.90 | 1     | 1     | 5     | 2     |\n",
       "| 21.4  | 4     | 121.0 | 109   | 4.11  | 2.780 | 18.60 | 1     | 1     | 4     | 2     |\n",
       "| 21.5  | 4     | 120.1 |  97   | 3.70  | 2.465 | 20.01 | 1     | 0     | 3     | 1     |\n",
       "| 22.8  | 4     | 140.8 |  95   | 3.92  | 3.150 | 22.90 | 1     | 0     | 4     | 2     |\n",
       "| 22.8  | 4     | 108.0 |  93   | 3.85  | 2.320 | 18.61 | 1     | 1     | 4     | 1     |\n",
       "| 26.0  | 4     | 120.3 |  91   | 4.43  | 2.140 | 16.70 | 0     | 1     | 5     | 2     |\n",
       "\n"
      ],
      "text/plain": [
       "  mpg  cyl disp  hp  drat wt    qsec  vs am gear carb\n",
       "1 30.4 4    95.1 113 3.77 1.513 16.90 1  1  5    2   \n",
       "2 21.4 4   121.0 109 4.11 2.780 18.60 1  1  4    2   \n",
       "3 21.5 4   120.1  97 3.70 2.465 20.01 1  0  3    1   \n",
       "4 22.8 4   140.8  95 3.92 3.150 22.90 1  0  4    2   \n",
       "5 22.8 4   108.0  93 3.85 2.320 18.61 1  1  4    1   \n",
       "6 26.0 4   120.3  91 4.43 2.140 16.70 0  1  5    2   "
      ]
     },
     "metadata": {},
     "output_type": "display_data"
    }
   ],
   "source": [
    "head(sorted3)\n",
    "head(sorted4)"
   ]
  },
  {
   "cell_type": "markdown",
   "id": "5605a8f9",
   "metadata": {},
   "source": [
    "#### Kombination von mehreren Operatoren\n",
    "\n",
    "\n",
    "* Sortieren nach hp absteigend und nur Top 5 Ergebnisse\n",
    "* Berechnung von Auto und Gewicht, Filtern auf Autos < 1000 kg und relocate von Auto an Stelle 1"
   ]
  },
  {
   "cell_type": "code",
   "execution_count": 112,
   "id": "9e32a6a5",
   "metadata": {},
   "outputs": [
    {
     "data": {
      "text/html": [
       "<table>\n",
       "<thead><tr><th scope=col>mpg</th><th scope=col>cyl</th><th scope=col>disp</th><th scope=col>hp</th><th scope=col>drat</th><th scope=col>wt</th><th scope=col>qsec</th><th scope=col>vs</th><th scope=col>am</th><th scope=col>gear</th><th scope=col>carb</th></tr></thead>\n",
       "<tbody>\n",
       "\t<tr><td>30.4 </td><td>4    </td><td> 75.7</td><td>52   </td><td>4.93 </td><td>1.615</td><td>18.52</td><td>1    </td><td>1    </td><td>4    </td><td>2    </td></tr>\n",
       "\t<tr><td>24.4 </td><td>4    </td><td>146.7</td><td>62   </td><td>3.69 </td><td>3.190</td><td>20.00</td><td>1    </td><td>0    </td><td>4    </td><td>2    </td></tr>\n",
       "\t<tr><td>33.9 </td><td>4    </td><td> 71.1</td><td>65   </td><td>4.22 </td><td>1.835</td><td>19.90</td><td>1    </td><td>1    </td><td>4    </td><td>1    </td></tr>\n",
       "\t<tr><td>32.4 </td><td>4    </td><td> 78.7</td><td>66   </td><td>4.08 </td><td>2.200</td><td>19.47</td><td>1    </td><td>1    </td><td>4    </td><td>1    </td></tr>\n",
       "\t<tr><td>27.3 </td><td>4    </td><td> 79.0</td><td>66   </td><td>4.08 </td><td>1.935</td><td>18.90</td><td>1    </td><td>1    </td><td>4    </td><td>1    </td></tr>\n",
       "</tbody>\n",
       "</table>\n"
      ],
      "text/latex": [
       "\\begin{tabular}{r|lllllllllll}\n",
       " mpg & cyl & disp & hp & drat & wt & qsec & vs & am & gear & carb\\\\\n",
       "\\hline\n",
       "\t 30.4  & 4     &  75.7 & 52    & 4.93  & 1.615 & 18.52 & 1     & 1     & 4     & 2    \\\\\n",
       "\t 24.4  & 4     & 146.7 & 62    & 3.69  & 3.190 & 20.00 & 1     & 0     & 4     & 2    \\\\\n",
       "\t 33.9  & 4     &  71.1 & 65    & 4.22  & 1.835 & 19.90 & 1     & 1     & 4     & 1    \\\\\n",
       "\t 32.4  & 4     &  78.7 & 66    & 4.08  & 2.200 & 19.47 & 1     & 1     & 4     & 1    \\\\\n",
       "\t 27.3  & 4     &  79.0 & 66    & 4.08  & 1.935 & 18.90 & 1     & 1     & 4     & 1    \\\\\n",
       "\\end{tabular}\n"
      ],
      "text/markdown": [
       "\n",
       "| mpg | cyl | disp | hp | drat | wt | qsec | vs | am | gear | carb |\n",
       "|---|---|---|---|---|---|---|---|---|---|---|\n",
       "| 30.4  | 4     |  75.7 | 52    | 4.93  | 1.615 | 18.52 | 1     | 1     | 4     | 2     |\n",
       "| 24.4  | 4     | 146.7 | 62    | 3.69  | 3.190 | 20.00 | 1     | 0     | 4     | 2     |\n",
       "| 33.9  | 4     |  71.1 | 65    | 4.22  | 1.835 | 19.90 | 1     | 1     | 4     | 1     |\n",
       "| 32.4  | 4     |  78.7 | 66    | 4.08  | 2.200 | 19.47 | 1     | 1     | 4     | 1     |\n",
       "| 27.3  | 4     |  79.0 | 66    | 4.08  | 1.935 | 18.90 | 1     | 1     | 4     | 1     |\n",
       "\n"
      ],
      "text/plain": [
       "  mpg  cyl disp  hp drat wt    qsec  vs am gear carb\n",
       "1 30.4 4    75.7 52 4.93 1.615 18.52 1  1  4    2   \n",
       "2 24.4 4   146.7 62 3.69 3.190 20.00 1  0  4    2   \n",
       "3 33.9 4    71.1 65 4.22 1.835 19.90 1  1  4    1   \n",
       "4 32.4 4    78.7 66 4.08 2.200 19.47 1  1  4    1   \n",
       "5 27.3 4    79.0 66 4.08 1.935 18.90 1  1  4    1   "
      ]
     },
     "metadata": {},
     "output_type": "display_data"
    }
   ],
   "source": [
    "mtcars %>% arrange(hp) %>% slice(1:5)"
   ]
  },
  {
   "cell_type": "code",
   "execution_count": 113,
   "id": "dd33dd53",
   "metadata": {},
   "outputs": [
    {
     "ename": "ERROR",
     "evalue": "Error in relocate(., Auto): konnte Funktion \"relocate\" nicht finden\n",
     "output_type": "error",
     "traceback": [
      "Error in relocate(., Auto): konnte Funktion \"relocate\" nicht finden\nTraceback:\n",
      "1. mtcars %>% mutate(Auto = rownames(mtcars), Gewicht = round(wt * \n .     1000 * 0.4536, 2)) %>% filter(Gewicht < 1000) %>% relocate(Auto)"
     ]
    }
   ],
   "source": [
    "mtcars %>% mutate(Auto=rownames(mtcars),\n",
    "    Gewicht = round(wt *1000 * 0.4536,2)) %>%\n",
    "    filter(Gewicht < 1000) %>%\n",
    "    relocate(Auto)"
   ]
  },
  {
   "cell_type": "code",
   "execution_count": null,
   "id": "2dabc97a",
   "metadata": {},
   "outputs": [],
   "source": []
  }
 ],
 "metadata": {
  "kernelspec": {
   "display_name": "R",
   "language": "R",
   "name": "ir"
  },
  "language_info": {
   "codemirror_mode": "r",
   "file_extension": ".r",
   "mimetype": "text/x-r-source",
   "name": "R",
   "pygments_lexer": "r",
   "version": "3.6.1"
  }
 },
 "nbformat": 4,
 "nbformat_minor": 5
}
