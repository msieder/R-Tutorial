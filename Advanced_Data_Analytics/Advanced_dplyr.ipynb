{
 "cells": [
  {
   "cell_type": "markdown",
   "id": "54610b2c",
   "metadata": {},
   "source": [
    "# Advanced Data Analytics\n",
    "\n",
    "## Part 1 - Data Manipulation\n",
    "\n",
    "\n",
    "Um dieses Notebook auszuführen wähle die jeweilige \"Line of Code\" und drücke **CTRL+ENTER**. Mit **SHIFT+ENTER** führst du eine Zeile aus und springst automatisch zur nächsten \n",
    "\n",
    "In diesem Notebook beschäftigen wir uns mit dem Paket tidyverse bzw. im speziellen mit dem Paket dplyr. Dplyr zeichnet sich durch einfache Syntax sowie dem Verknüpfen von Operationen mit dem \"Pipe\" Operator aus. Ziel ist es, Data Manipulation zu vereinfachen.\n",
    "\n",
    "Eingesetzt wird dplyr und Data Manipulation vor allem zur Aufbereitung bereits vorhandener Daten. Es geht dabei darum, die Daten für weitere Analyse, Visualisierungen und auch Modelle vorzubereiten."
   ]
  },
  {
   "cell_type": "markdown",
   "id": "57cb81ac",
   "metadata": {},
   "source": [
    "### Installing Packages\n",
    "\n",
    "Ein großer Grund, warum sich R großer Beliebtheit erfreut ist die große Menge und Diversität an verfügbaren Paketen. Viele Pakete sind via CRAN (https://cran.r-project.org/) verfügbar und können intuitiv in R mit der Funktion install.packages() installiert werden. Alternativ bietet RStudio auch eine graphische Maske für das Installieren und Laden von Paketen\n",
    "\n",
    "Die Pakete/Libraries werden dann lokal (auf dem PC des Users) gespeichert. Um die Pakete und ihre Funktionen auch nutzen zu können müssen die Libraries vor jeder Session neu importiert.\n",
    "\n",
    "Die Pakete \"tidyverse\" und \"ggplot2\" wurden bereits vorab installiert auf den Binder Maschinen installiert.\n",
    "\n",
    "Weitere Nützliche Pakete: \n",
    "https://support.posit.co/hc/en-us/articles/201057987-Quick-list-of-useful-R-packages\n",
    "\n",
    "Quelle Tidyverse: https://joss.theoj.org/papers/10.21105/joss.01686\n"
   ]
  },
  {
   "cell_type": "code",
   "execution_count": null,
   "id": "7ab2575b",
   "metadata": {},
   "outputs": [],
   "source": [
    "#install.packages(\"tidyverse\") #already installed\n",
    "\n",
    "install.packages(c(\"DBI\")) #Beispiel Paket zur Verküpfung mit SQL Datenbanken "
   ]
  },
  {
   "cell_type": "code",
   "execution_count": null,
   "id": "bee75d2b",
   "metadata": {},
   "outputs": [],
   "source": [
    "#?DBI::dbConnect"
   ]
  },
  {
   "cell_type": "code",
   "execution_count": null,
   "id": "f33863df",
   "metadata": {},
   "outputs": [],
   "source": [
    "library(DBI)\n",
    "#?dbConnect"
   ]
  },
  {
   "cell_type": "code",
   "execution_count": null,
   "id": "72c7fb56",
   "metadata": {},
   "outputs": [],
   "source": [
    "library(dplyr)"
   ]
  },
  {
   "cell_type": "markdown",
   "id": "7293b0d3",
   "metadata": {},
   "source": [
    "### Die \"Pipe\" %>%\n",
    "\n",
    "Das dplyr Paket ist auf die Arbeit mit DataFrames (bzw. tibble) ausgerichtet. Alle Funktionen nehmen als ersten Input ein Dataframe.\n",
    "\n",
    "Sobald mehr als ein Schritt ausgeführt werden soll wird der Code unübersichtlich oder es müssen mehrere Zwischentabellen verwendet werden. Mit dem Piping Operator können Funktionen sequenziell ausgeführt werden und die Daten werden \"übergeben\"\n",
    "\n",
    "Syntax:\n",
    "my_df %>% summary()"
   ]
  },
  {
   "cell_type": "code",
   "execution_count": null,
   "id": "1186b679",
   "metadata": {},
   "outputs": [],
   "source": [
    "data(mtcars)"
   ]
  },
  {
   "cell_type": "code",
   "execution_count": null,
   "id": "aebfdd50",
   "metadata": {},
   "outputs": [],
   "source": [
    "#summary(mtcars)\n",
    "mtcars %>% summary()"
   ]
  },
  {
   "cell_type": "code",
   "execution_count": null,
   "id": "46be3e82",
   "metadata": {},
   "outputs": [],
   "source": [
    "mtcars %>% head()\n",
    "head(mtcars)"
   ]
  },
  {
   "cell_type": "markdown",
   "id": "2bc484f2",
   "metadata": {},
   "source": [
    "### Single Table Verbs\n",
    "\n",
    "\n",
    "Das Ziel von dplyr ist es, einfache und sprechende Funktionen für Data Manipulation zur Verfügung zu stellen. \n",
    "\n",
    "Row-based functions:\n",
    "* slice\n",
    "* filter\n",
    "* arrange\n",
    "\n",
    "Column-based functions:\n",
    "* select\n",
    "* rename\n",
    "* relocate\n",
    "* mutate"
   ]
  },
  {
   "cell_type": "markdown",
   "id": "3df1f0bf",
   "metadata": {},
   "source": [
    "#### Column-based-functions\n",
    "\n",
    "* select für Selektierung von Spalten\n",
    "* rename für Umbenennung von Spalten\n",
    "* mutate zur Veränderung von Spalten und Erstellung von neuen Spalten\n",
    "* relocate um die Reihenfolge von Spalten zu Verändern"
   ]
  },
  {
   "cell_type": "code",
   "execution_count": null,
   "id": "97e6ae59",
   "metadata": {},
   "outputs": [],
   "source": [
    "#select\n",
    "head(mtcars[,c(\"hp\",\"wt\")])\n",
    "head(mtcars %>% select(c(\"hp\",\"wt\")))"
   ]
  },
  {
   "cell_type": "code",
   "execution_count": null,
   "id": "910847af",
   "metadata": {},
   "outputs": [],
   "source": [
    "#rename\n",
    "df <- mtcars\n",
    "df[,\"PS\"] <- df[,\"hp\"] #neue Spalte erstellen\n",
    "df[,\"hp\"] <- NULL #Alte Spalte löschen\n",
    "head(df)"
   ]
  },
  {
   "cell_type": "code",
   "execution_count": null,
   "id": "02ad15c6",
   "metadata": {},
   "outputs": [],
   "source": [
    "df <- mtcars\n",
    "#names(mtcars) <- c('mpg', 'cyl', 'disp', 'PS', 'drat', 'wt', 'qsec', 'vs', 'am', 'gear', 'carb')\n",
    "names(df)[4] <- \"PS\"\n",
    "head(df)"
   ]
  },
  {
   "cell_type": "code",
   "execution_count": null,
   "id": "f3ee3c6e",
   "metadata": {},
   "outputs": [],
   "source": [
    "mtcars %>% rename(\"PS\" = hp)"
   ]
  },
  {
   "cell_type": "code",
   "execution_count": null,
   "id": "e50619a5",
   "metadata": {},
   "outputs": [],
   "source": [
    "#mutate\n",
    "df <- mtcars\n",
    "df[,\"Gewicht\"] <- df[,\"wt\"]* 1000 * 0.4535923\n",
    "df[,\"l/100km\"] <- 235/df[,\"mpg\"]\n",
    "head(df)"
   ]
  },
  {
   "cell_type": "code",
   "execution_count": null,
   "id": "6827dcc1",
   "metadata": {},
   "outputs": [],
   "source": [
    "df <- mtcars %>% mutate(Auto=rownames(mtcars),\n",
    "    Gewicht = round(wt *1000 * 0.4536,2),             \n",
    "    \"l/100km\" =  235/mtcars[,\"mpg\"])\n",
    "head(df)"
   ]
  },
  {
   "cell_type": "code",
   "execution_count": null,
   "id": "86f9773b",
   "metadata": {},
   "outputs": [],
   "source": [
    "#relocate\n",
    "head(mtcars[,c(4,1,2,3,5,6,7,8,9,10,11)])\n",
    "head(mtcars %>% relocate(hp))"
   ]
  },
  {
   "cell_type": "markdown",
   "id": "1e2937a2",
   "metadata": {},
   "source": [
    "#### Row-based-functions\n",
    "\n",
    "* slice für Indexierung\n",
    "* arrange für Sortierung\n",
    "* filter für Filtering von Reihen"
   ]
  },
  {
   "cell_type": "code",
   "execution_count": null,
   "id": "c4384b6b",
   "metadata": {},
   "outputs": [],
   "source": [
    "mtcars[10:15,]\n",
    "mtcars %>% slice(10:15)"
   ]
  },
  {
   "cell_type": "code",
   "execution_count": null,
   "id": "5a445875",
   "metadata": {},
   "outputs": [],
   "source": [
    "#arrange\n",
    "sorted1 <- mtcars[order(mtcars$hp),]\n",
    "sorted2 <- mtcars %>% arrange(hp)"
   ]
  },
  {
   "cell_type": "code",
   "execution_count": null,
   "id": "b886ccc8",
   "metadata": {},
   "outputs": [],
   "source": [
    "head(sorted1)\n",
    "head(sorted2)"
   ]
  },
  {
   "cell_type": "code",
   "execution_count": null,
   "id": "922b3e21",
   "metadata": {},
   "outputs": [],
   "source": [
    "sorted3 <- mtcars[order(mtcars$cyl,-mtcars$hp),]\n",
    "sorted4 <- mtcars %>% arrange(cyl,-hp)"
   ]
  },
  {
   "cell_type": "code",
   "execution_count": null,
   "id": "ee336dbe",
   "metadata": {
    "scrolled": true
   },
   "outputs": [],
   "source": [
    "head(sorted3)\n",
    "head(sorted4)"
   ]
  },
  {
   "cell_type": "code",
   "execution_count": null,
   "id": "46a8a7ca",
   "metadata": {},
   "outputs": [],
   "source": [
    "# filter\n",
    "mtcars[mtcars$hp>200,]\n",
    "mtcars %>% filter(hp>200)"
   ]
  },
  {
   "cell_type": "code",
   "execution_count": null,
   "id": "bdf8f6ac",
   "metadata": {},
   "outputs": [],
   "source": [
    "mtcars %>% filter(hp>200 & wt<3.5)"
   ]
  },
  {
   "cell_type": "markdown",
   "id": "5605a8f9",
   "metadata": {},
   "source": [
    "### Kombination von mehreren Operatoren\n",
    "\n",
    "* Filtern von Autos mit mit Namen \"Ford\"\n",
    "* Sortieren nach hp absteigend und nur Top 5 Ergebnisse\n",
    "* Berechnung von Auto und Gewicht, Filtern auf Autos < 1000 kg und relocate von Auto an Stelle 1\n",
    "* Berechnung von Auto, Gewicht, l/100km und Automatik, Übersetzung von cyl, gear, qsec und Select nur neue Spalten"
   ]
  },
  {
   "cell_type": "code",
   "execution_count": null,
   "id": "81fd9352",
   "metadata": {},
   "outputs": [],
   "source": [
    "library(data.table)\n",
    "mtcars %>% mutate(Auto=rownames(mtcars)) %>% filter(Auto %like% \"Ford\")"
   ]
  },
  {
   "cell_type": "code",
   "execution_count": null,
   "id": "9e32a6a5",
   "metadata": {},
   "outputs": [],
   "source": [
    "mtcars %>% arrange(hp) %>% slice(1:5)"
   ]
  },
  {
   "cell_type": "code",
   "execution_count": null,
   "id": "dd33dd53",
   "metadata": {},
   "outputs": [],
   "source": [
    "mtcars %>% mutate(Auto=rownames(mtcars),\n",
    "    Gewicht = round(wt *1000 * 0.4536,2)) %>%\n",
    "    filter(Gewicht < 1000) %>%\n",
    "    relocate(Auto)"
   ]
  },
  {
   "cell_type": "code",
   "execution_count": null,
   "id": "6d26fdeb",
   "metadata": {},
   "outputs": [],
   "source": [
    "autos <- mtcars %>% \n",
    "    mutate(Auto=rownames(mtcars),\n",
    "            Gewicht = round(wt *1000 * 0.4536,2),\n",
    "            \"l/100km\" =  235/mtcars[,\"mpg\"],\n",
    "            Typ = ifelse(am==0,\"Automatik\",\"Manuell\")\n",
    "            ) %>%\n",
    "    rename(\"Zylinder\" = cyl,\n",
    "           \"Gang\" = gear,\n",
    "           \"Viertelmeile\" = qsec) %>%\n",
    "    select(\"Auto\":\"Viertelmeile\")"
   ]
  },
  {
   "cell_type": "markdown",
   "id": "a74af9d8",
   "metadata": {},
   "source": [
    "### Summarize and Grouping\n",
    "\n",
    "* summarize für Generalisierungen (fasst Informationen in einer Zeile zusammen)\n",
    "* group_by für Gruppierungen\n",
    "\n",
    "Achtung: group_by hat nur eine Wirkung in Kombination mit summarize\n",
    "\n",
    "* Minimum für HP, Durchschnitt für HP und QSEC über alle Records\n",
    "* Durchschnitt von MPG und QSEC sowie count über Zylinder\n",
    "* Filter für Autos, die schneller als der Durchschnitt der Autos mit selber Zylinderanzahl sind."
   ]
  },
  {
   "cell_type": "code",
   "execution_count": null,
   "id": "306699cd",
   "metadata": {},
   "outputs": [],
   "source": [
    "mtcars %>% summarize(hp_avg=mean(hp),\n",
    "                     hp_min=min(hp),\n",
    "                     qsec_avg=mean(qsec))"
   ]
  },
  {
   "cell_type": "code",
   "execution_count": null,
   "id": "353c3960",
   "metadata": {},
   "outputs": [],
   "source": [
    "mtcars %>% \n",
    "    group_by(cyl) %>% \n",
    "    summarize(mpg_avg = mean(mpg),\n",
    "              qsec_avg = mean(qsec),\n",
    "              n=n())"
   ]
  },
  {
   "cell_type": "code",
   "execution_count": null,
   "id": "8fa58cea",
   "metadata": {},
   "outputs": [],
   "source": [
    "autos %>% \n",
    "    left_join(autos %>% \n",
    "                  group_by(Zylinder) %>%\n",
    "                  summarize(vm_avg = mean(Viertelmeile)),\n",
    "             by=\"Zylinder\") %>%\n",
    "    filter(Viertelmeile < vm_avg) %>%\n",
    "    arrange(Zylinder)"
   ]
  },
  {
   "cell_type": "code",
   "execution_count": null,
   "id": "9362287e",
   "metadata": {},
   "outputs": [],
   "source": []
  }
 ],
 "metadata": {
  "kernelspec": {
   "display_name": "R",
   "language": "R",
   "name": "ir"
  },
  "language_info": {
   "codemirror_mode": "r",
   "file_extension": ".r",
   "mimetype": "text/x-r-source",
   "name": "R",
   "pygments_lexer": "r",
   "version": "3.6.1"
  }
 },
 "nbformat": 4,
 "nbformat_minor": 5
}
