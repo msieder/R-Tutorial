{
 "cells": [
  {
   "cell_type": "markdown",
   "id": "1d75ccb8-47fa-4d09-b9d3-76ed6c90cf78",
   "metadata": {},
   "source": [
    "# Advanced Data Analytics\n",
    "\n",
    "Part 2 - Data Visualization"
   ]
  },
  {
   "cell_type": "markdown",
   "id": "83402e4b-ab63-4e43-8ffb-91cfe94e0f86",
   "metadata": {},
   "source": [
    "## Wieso sind Visualisierungen so wichtig?\n",
    "\n",
    "\n"
   ]
  },
  {
   "cell_type": "code",
   "execution_count": 1,
   "id": "48a5d68b-2e10-41f7-8353-9bf8578ae88d",
   "metadata": {},
   "outputs": [
    {
     "name": "stderr",
     "output_type": "stream",
     "text": [
      "\n",
      "Attaching package: ‘dplyr’\n",
      "\n",
      "\n",
      "The following objects are masked from ‘package:stats’:\n",
      "\n",
      "    filter, lag\n",
      "\n",
      "\n",
      "The following objects are masked from ‘package:base’:\n",
      "\n",
      "    intersect, setdiff, setequal, union\n",
      "\n",
      "\n"
     ]
    }
   ],
   "source": [
    "library(dplyr)\n",
    "data(anscombe)"
   ]
  },
  {
   "cell_type": "code",
   "execution_count": 2,
   "id": "27dfea37-33be-45b6-a088-073451cb9ca9",
   "metadata": {},
   "outputs": [
    {
     "data": {
      "text/html": [
       "<table class=\"dataframe\">\n",
       "<caption>A data.frame: 1 × 8</caption>\n",
       "<thead>\n",
       "\t<tr><th scope=col>x1</th><th scope=col>x2</th><th scope=col>x3</th><th scope=col>x4</th><th scope=col>y1</th><th scope=col>y2</th><th scope=col>y3</th><th scope=col>y4</th></tr>\n",
       "\t<tr><th scope=col>&lt;dbl&gt;</th><th scope=col>&lt;dbl&gt;</th><th scope=col>&lt;dbl&gt;</th><th scope=col>&lt;dbl&gt;</th><th scope=col>&lt;dbl&gt;</th><th scope=col>&lt;dbl&gt;</th><th scope=col>&lt;dbl&gt;</th><th scope=col>&lt;dbl&gt;</th></tr>\n",
       "</thead>\n",
       "<tbody>\n",
       "\t<tr><td>9</td><td>9</td><td>9</td><td>9</td><td>7.500909</td><td>7.500909</td><td>7.5</td><td>7.500909</td></tr>\n",
       "</tbody>\n",
       "</table>\n"
      ],
      "text/latex": [
       "A data.frame: 1 × 8\n",
       "\\begin{tabular}{llllllll}\n",
       " x1 & x2 & x3 & x4 & y1 & y2 & y3 & y4\\\\\n",
       " <dbl> & <dbl> & <dbl> & <dbl> & <dbl> & <dbl> & <dbl> & <dbl>\\\\\n",
       "\\hline\n",
       "\t 9 & 9 & 9 & 9 & 7.500909 & 7.500909 & 7.5 & 7.500909\\\\\n",
       "\\end{tabular}\n"
      ],
      "text/markdown": [
       "\n",
       "A data.frame: 1 × 8\n",
       "\n",
       "| x1 &lt;dbl&gt; | x2 &lt;dbl&gt; | x3 &lt;dbl&gt; | x4 &lt;dbl&gt; | y1 &lt;dbl&gt; | y2 &lt;dbl&gt; | y3 &lt;dbl&gt; | y4 &lt;dbl&gt; |\n",
       "|---|---|---|---|---|---|---|---|\n",
       "| 9 | 9 | 9 | 9 | 7.500909 | 7.500909 | 7.5 | 7.500909 |\n",
       "\n"
      ],
      "text/plain": [
       "  x1 x2 x3 x4 y1       y2       y3  y4      \n",
       "1 9  9  9  9  7.500909 7.500909 7.5 7.500909"
      ]
     },
     "metadata": {},
     "output_type": "display_data"
    }
   ],
   "source": [
    "anscombe %>% summarise(across(x1:y4, mean))"
   ]
  },
  {
   "cell_type": "code",
   "execution_count": 3,
   "id": "8f620be8-17d1-423b-adf4-70872ff3daf9",
   "metadata": {},
   "outputs": [
    {
     "data": {
      "text/html": [
       "<table class=\"dataframe\">\n",
       "<caption>A data.frame: 1 × 8</caption>\n",
       "<thead>\n",
       "\t<tr><th scope=col>x1</th><th scope=col>x2</th><th scope=col>x3</th><th scope=col>x4</th><th scope=col>y1</th><th scope=col>y2</th><th scope=col>y3</th><th scope=col>y4</th></tr>\n",
       "\t<tr><th scope=col>&lt;dbl&gt;</th><th scope=col>&lt;dbl&gt;</th><th scope=col>&lt;dbl&gt;</th><th scope=col>&lt;dbl&gt;</th><th scope=col>&lt;dbl&gt;</th><th scope=col>&lt;dbl&gt;</th><th scope=col>&lt;dbl&gt;</th><th scope=col>&lt;dbl&gt;</th></tr>\n",
       "</thead>\n",
       "<tbody>\n",
       "\t<tr><td>11</td><td>11</td><td>11</td><td>11</td><td>4.127269</td><td>4.127629</td><td>4.12262</td><td>4.123249</td></tr>\n",
       "</tbody>\n",
       "</table>\n"
      ],
      "text/latex": [
       "A data.frame: 1 × 8\n",
       "\\begin{tabular}{llllllll}\n",
       " x1 & x2 & x3 & x4 & y1 & y2 & y3 & y4\\\\\n",
       " <dbl> & <dbl> & <dbl> & <dbl> & <dbl> & <dbl> & <dbl> & <dbl>\\\\\n",
       "\\hline\n",
       "\t 11 & 11 & 11 & 11 & 4.127269 & 4.127629 & 4.12262 & 4.123249\\\\\n",
       "\\end{tabular}\n"
      ],
      "text/markdown": [
       "\n",
       "A data.frame: 1 × 8\n",
       "\n",
       "| x1 &lt;dbl&gt; | x2 &lt;dbl&gt; | x3 &lt;dbl&gt; | x4 &lt;dbl&gt; | y1 &lt;dbl&gt; | y2 &lt;dbl&gt; | y3 &lt;dbl&gt; | y4 &lt;dbl&gt; |\n",
       "|---|---|---|---|---|---|---|---|\n",
       "| 11 | 11 | 11 | 11 | 4.127269 | 4.127629 | 4.12262 | 4.123249 |\n",
       "\n"
      ],
      "text/plain": [
       "  x1 x2 x3 x4 y1       y2       y3      y4      \n",
       "1 11 11 11 11 4.127269 4.127629 4.12262 4.123249"
      ]
     },
     "metadata": {},
     "output_type": "display_data"
    }
   ],
   "source": [
    "anscombe %>% summarise(across(x1:y4, var))"
   ]
  },
  {
   "cell_type": "code",
   "execution_count": 4,
   "id": "7724399b-e4cb-4052-b76f-1e4be7cac469",
   "metadata": {},
   "outputs": [
    {
     "data": {
      "image/png": "[encoded data removed]",
      "text/plain": [
       "plot without title"
      ]
     },
     "metadata": {
      "image/png": {
       "height": 420,
       "width": 420
      }
     },
     "output_type": "display_data"
    }
   ],
   "source": [
    "par(mfrow = c(2,2)) #zeigt plots in 2x2 Fenster an\n",
    "plot(anscombe$x1,anscombe$y1)\n",
    "plot(anscombe$x2,anscombe$y2)\n",
    "plot(anscombe$x3,anscombe$y3)\n",
    "plot(anscombe$x4,anscombe$y4)"
   ]
  },
  {
   "cell_type": "markdown",
   "id": "e5d02f82-cb9a-474d-8b3f-aea5df33b71c",
   "metadata": {},
   "source": [
    "## R base plots\n",
    "\n",
    "R bietet bereits viele schnelle Möglichkeiten um einfache Visualisierungen zu gestalten.\n",
    "* plot()\n",
    "* hist()\n",
    "* boxplot()\n",
    "* barplot()\n",
    "\n",
    "Graphical Parameters\n",
    "* pch: Anpassung des Symbols (Default=Kreis)\n",
    "* col: Die Farbe spezifieziert als Nummer, String oder hex-code (all possible colours() funktion)\n",
    "* xlab: character string for the x-axis label\n",
    "* ylab: character string for the y-axis label\n",
    "\n",
    "Titel und Legenden können nur statisch gesetzt werden\n",
    "* title()\n",
    "* legend()\n"
   ]
  },
  {
   "cell_type": "code",
   "execution_count": 5,
   "id": "27a423a6-6fb9-42ae-b8c4-25c69d2eccab",
   "metadata": {},
   "outputs": [
    {
     "data": {
      "text/html": [
       "<table class=\"dataframe\">\n",
       "<caption>A data.frame: 6 × 11</caption>\n",
       "<thead>\n",
       "\t<tr><th></th><th scope=col>mpg</th><th scope=col>cyl</th><th scope=col>disp</th><th scope=col>hp</th><th scope=col>drat</th><th scope=col>wt</th><th scope=col>qsec</th><th scope=col>vs</th><th scope=col>am</th><th scope=col>gear</th><th scope=col>carb</th></tr>\n",
       "\t<tr><th></th><th scope=col>&lt;dbl&gt;</th><th scope=col>&lt;dbl&gt;</th><th scope=col>&lt;dbl&gt;</th><th scope=col>&lt;dbl&gt;</th><th scope=col>&lt;dbl&gt;</th><th scope=col>&lt;dbl&gt;</th><th scope=col>&lt;dbl&gt;</th><th scope=col>&lt;dbl&gt;</th><th scope=col>&lt;dbl&gt;</th><th scope=col>&lt;dbl&gt;</th><th scope=col>&lt;dbl&gt;</th></tr>\n",
       "</thead>\n",
       "<tbody>\n",
       "\t<tr><th scope=row>Mazda RX4</th><td>21.0</td><td>6</td><td>160</td><td>110</td><td>3.90</td><td>2.620</td><td>16.46</td><td>0</td><td>1</td><td>4</td><td>4</td></tr>\n",
       "\t<tr><th scope=row>Mazda RX4 Wag</th><td>21.0</td><td>6</td><td>160</td><td>110</td><td>3.90</td><td>2.875</td><td>17.02</td><td>0</td><td>1</td><td>4</td><td>4</td></tr>\n",
       "\t<tr><th scope=row>Datsun 710</th><td>22.8</td><td>4</td><td>108</td><td> 93</td><td>3.85</td><td>2.320</td><td>18.61</td><td>1</td><td>1</td><td>4</td><td>1</td></tr>\n",
       "\t<tr><th scope=row>Hornet 4 Drive</th><td>21.4</td><td>6</td><td>258</td><td>110</td><td>3.08</td><td>3.215</td><td>19.44</td><td>1</td><td>0</td><td>3</td><td>1</td></tr>\n",
       "\t<tr><th scope=row>Hornet Sportabout</th><td>18.7</td><td>8</td><td>360</td><td>175</td><td>3.15</td><td>3.440</td><td>17.02</td><td>0</td><td>0</td><td>3</td><td>2</td></tr>\n",
       "\t<tr><th scope=row>Valiant</th><td>18.1</td><td>6</td><td>225</td><td>105</td><td>2.76</td><td>3.460</td><td>20.22</td><td>1</td><td>0</td><td>3</td><td>1</td></tr>\n",
       "</tbody>\n",
       "</table>\n"
      ],
      "text/latex": [
       "A data.frame: 6 × 11\n",
       "\\begin{tabular}{r|lllllllllll}\n",
       "  & mpg & cyl & disp & hp & drat & wt & qsec & vs & am & gear & carb\\\\\n",
       "  & <dbl> & <dbl> & <dbl> & <dbl> & <dbl> & <dbl> & <dbl> & <dbl> & <dbl> & <dbl> & <dbl>\\\\\n",
       "\\hline\n",
       "\tMazda RX4 & 21.0 & 6 & 160 & 110 & 3.90 & 2.620 & 16.46 & 0 & 1 & 4 & 4\\\\\n",
       "\tMazda RX4 Wag & 21.0 & 6 & 160 & 110 & 3.90 & 2.875 & 17.02 & 0 & 1 & 4 & 4\\\\\n",
       "\tDatsun 710 & 22.8 & 4 & 108 &  93 & 3.85 & 2.320 & 18.61 & 1 & 1 & 4 & 1\\\\\n",
       "\tHornet 4 Drive & 21.4 & 6 & 258 & 110 & 3.08 & 3.215 & 19.44 & 1 & 0 & 3 & 1\\\\\n",
       "\tHornet Sportabout & 18.7 & 8 & 360 & 175 & 3.15 & 3.440 & 17.02 & 0 & 0 & 3 & 2\\\\\n",
       "\tValiant & 18.1 & 6 & 225 & 105 & 2.76 & 3.460 & 20.22 & 1 & 0 & 3 & 1\\\\\n",
       "\\end{tabular}\n"
      ],
      "text/markdown": [
       "\n",
       "A data.frame: 6 × 11\n",
       "\n",
       "| <!--/--> | mpg &lt;dbl&gt; | cyl &lt;dbl&gt; | disp &lt;dbl&gt; | hp &lt;dbl&gt; | drat &lt;dbl&gt; | wt &lt;dbl&gt; | qsec &lt;dbl&gt; | vs &lt;dbl&gt; | am &lt;dbl&gt; | gear &lt;dbl&gt; | carb &lt;dbl&gt; |\n",
       "|---|---|---|---|---|---|---|---|---|---|---|---|\n",
       "| Mazda RX4 | 21.0 | 6 | 160 | 110 | 3.90 | 2.620 | 16.46 | 0 | 1 | 4 | 4 |\n",
       "| Mazda RX4 Wag | 21.0 | 6 | 160 | 110 | 3.90 | 2.875 | 17.02 | 0 | 1 | 4 | 4 |\n",
       "| Datsun 710 | 22.8 | 4 | 108 |  93 | 3.85 | 2.320 | 18.61 | 1 | 1 | 4 | 1 |\n",
       "| Hornet 4 Drive | 21.4 | 6 | 258 | 110 | 3.08 | 3.215 | 19.44 | 1 | 0 | 3 | 1 |\n",
       "| Hornet Sportabout | 18.7 | 8 | 360 | 175 | 3.15 | 3.440 | 17.02 | 0 | 0 | 3 | 2 |\n",
       "| Valiant | 18.1 | 6 | 225 | 105 | 2.76 | 3.460 | 20.22 | 1 | 0 | 3 | 1 |\n",
       "\n"
      ],
      "text/plain": [
       "                  mpg  cyl disp hp  drat wt    qsec  vs am gear carb\n",
       "Mazda RX4         21.0 6   160  110 3.90 2.620 16.46 0  1  4    4   \n",
       "Mazda RX4 Wag     21.0 6   160  110 3.90 2.875 17.02 0  1  4    4   \n",
       "Datsun 710        22.8 4   108   93 3.85 2.320 18.61 1  1  4    1   \n",
       "Hornet 4 Drive    21.4 6   258  110 3.08 3.215 19.44 1  0  3    1   \n",
       "Hornet Sportabout 18.7 8   360  175 3.15 3.440 17.02 0  0  3    2   \n",
       "Valiant           18.1 6   225  105 2.76 3.460 20.22 1  0  3    1   "
      ]
     },
     "metadata": {},
     "output_type": "display_data"
    }
   ],
   "source": [
    "data(mtcars)\n",
    "head(mtcars)"
   ]
  },
  {
   "cell_type": "code",
   "execution_count": null,
   "id": "934515a7-1b69-41ac-a0ef-feb72c14f436",
   "metadata": {},
   "outputs": [],
   "source": [
    "plot(x=mtcars$hp,y=mtcars$mpg)"
   ]
  },
  {
   "cell_type": "code",
   "execution_count": null,
   "id": "0ca4a71d-d966-41b2-bdc5-c02ade6fee40",
   "metadata": {},
   "outputs": [],
   "source": [
    "plot(x=mtcars$hp,y=mtcars$mpg,pch=mtcars$cyl,col=mtcars$cyl)"
   ]
  },
  {
   "cell_type": "code",
   "execution_count": null,
   "id": "37ff13a1-bcd3-4e46-9e1d-6163b9b718c0",
   "metadata": {},
   "outputs": [],
   "source": [
    "plot(x=mtcars$hp,y=mtcars$mpg,pch=mtcars$cyl,col=mtcars$cyl, xlab=\"Verbrauch (mpg)\", ylab=\"Pferdestärke\")"
   ]
  },
  {
   "cell_type": "code",
   "execution_count": null,
   "id": "383123f2-f2f9-43dc-8966-1f966070ac75",
   "metadata": {},
   "outputs": [],
   "source": [
    "plot(x=mtcars$hp,y=mtcars$mpg,pch=mtcars$cyl,col=mtcars$cyl, xlab=\"Pferdestärke\", ylab=\"Reichweite (mpg)\")\n",
    "title(\"Pferdestärke vs. Reichweite (mpg)\")\n",
    "legend(\"topright\", pch = c(4,6,8), col = c(4,6,8), legend = c(\"4 Zylinder\",\"6 Zyinder\", \"8 Zylinder\"))"
   ]
  },
  {
   "cell_type": "code",
   "execution_count": null,
   "id": "3f5a1622-f7df-4435-84f0-a12898abe975",
   "metadata": {},
   "outputs": [],
   "source": [
    "options(repr.plot.width=12, repr.plot.height=12)"
   ]
  },
  {
   "cell_type": "code",
   "execution_count": null,
   "id": "1b704ea6-04e4-4708-b9b7-04d792f4c9e9",
   "metadata": {},
   "outputs": [],
   "source": [
    "par(mfrow=c(2,2))\n",
    "hist(mtcars$hp)\n",
    "boxplot(mtcars$hp)\n",
    "barplot(table(mtcars$cyl))"
   ]
  },
  {
   "cell_type": "markdown",
   "id": "73b4ac00-351e-42dd-825f-0adecfb58f9e",
   "metadata": {},
   "source": [
    "## Visualisierungen mit ggplot2\n",
    "Während mit RBase relativ schnell und einfach Graphiken erstellt werden können, fehlt es an Customizing und Flexibilität. Um Customizing und Flexibilität zu erreichen und dabei noch möglichst einfach und strukturiert arbeiten zu können wurde das Paket ggplot2 von Hadley Wickham entwickelt (https://ggplot2-book.org/)\n",
    "\n",
    "ggplot2 cheat sheet: https://posit.co/wp-content/uploads/2022/10/data-visualization-1.pdf\n",
    "\n",
    "### Grammar of Graphics\n",
    "Für Visualisierung gibt essenzielle Elemente die benötigt werden. \n",
    "1. Data Layer - Das Dataset\n",
    "2. Aesthetics Layer - Skalas, auf die wir unsere Daten Mappen möchten (zB x,y,col,fill,group)\n",
    "3. Geometries Layer - Die visuellen Elemente die wir benutzen wollen\n",
    "\n",
    "Zusätzlich gibt es noch 4 weitere, optionale Elemente\n",
    "\n",
    "4. Facets - Facetten, kleine subplots die jeweils Subsets des Datensatzes behandeln\n",
    "5. Statistics - Zusätzliche Statistiken die helfen, die Daten besser zu verstehen (zB lineare Modelle)\n",
    "6. Coordinaten - Der Raum, den wir anzeigen möchten\n",
    "7. Theme - Visuelle Eemente die nichts mit den Ursprünglichen Daten zu tun haben"
   ]
  },
  {
   "cell_type": "code",
   "execution_count": null,
   "id": "86ba1c60-f25d-42d3-b6e2-02bc947f925d",
   "metadata": {},
   "outputs": [],
   "source": [
    "options(repr.plot.width=8, repr.plot.height=8)"
   ]
  },
  {
   "cell_type": "code",
   "execution_count": null,
   "id": "d880e5e4-ed83-4f36-8536-3b603a25aa7c",
   "metadata": {},
   "outputs": [],
   "source": [
    "library(ggplot2)"
   ]
  },
  {
   "cell_type": "code",
   "execution_count": null,
   "id": "4283165b-6065-4972-af4a-386e0313cdd7",
   "metadata": {},
   "outputs": [],
   "source": [
    "ggplot(mtcars, #data layer\n",
    "      aes(x=mpg,y=hp)) + #aesthetics layer\n",
    "    geom_point() #geometries layer"
   ]
  },
  {
   "cell_type": "markdown",
   "id": "4bf37e96-0710-4475-9f61-2a1a04caeba5",
   "metadata": {},
   "source": [
    "### Aesthetics Layer\n",
    "Typische Aesthetics sind:\n",
    "* col und fill\n",
    "* size\n",
    "* shape\n",
    "* linetype\n",
    "* alpha (Deckkraft/Durchsichtigkeit)\n",
    "* group\n",
    "* weight"
   ]
  },
  {
   "cell_type": "code",
   "execution_count": null,
   "id": "cbff5a93-c4fc-4e2a-8b4e-d9e8ee9fd539",
   "metadata": {},
   "outputs": [],
   "source": [
    "ggplot(mtcars, #data layer\n",
    "      aes(x=mpg,y=hp,col=as.factor(cyl),shape=as.factor(cyl))) + #aesthetics layer\n",
    "    geom_point() #geometries layer"
   ]
  },
  {
   "cell_type": "markdown",
   "id": "a101d82b-3fd4-437b-ad7f-952dde2112af",
   "metadata": {},
   "source": [
    "### Geometrics Layer\n",
    "\n",
    "Viele mögliche Geometric Layers. Die Häufigsten:\n",
    "* geom_histogram (1 continuous variable)\n",
    "* geom_point (2 coninuous variablen)\n",
    "* geom_col = Bar-Plots (1 continuous variable + optional discrete Variable)\n",
    "* geom_boxplot (1 continuous variable + optional discrete Variable)\n",
    "\n",
    "Weitere interessante Geometrics:\n",
    "* geom_smooth (fitted ein lineares Modell anhand der Daten)\n",
    "* geom_jitter (quasi geom_point aber für discrete Variablen)\n",
    "* geom_violin (Violinen - Plot. Werden wir in der Übung nutzen)\n",
    "\n",
    "Cheat Sheet mit allen möglichen Geometrics https://posit.co/wp-content/uploads/2022/10/data-visualization-1.pdf"
   ]
  },
  {
   "cell_type": "code",
   "execution_count": null,
   "id": "6c0d3c9d-5584-41ef-9a9c-8e8acbf3bb0b",
   "metadata": {},
   "outputs": [],
   "source": [
    "ggplot(mtcars, #data layer\n",
    "      aes(x=hp)) + #aesthetics layer\n",
    "    geom_histogram(bins=10, fill=\"antiquewhite3\",col=\"black\") #geometries layer"
   ]
  },
  {
   "cell_type": "code",
   "execution_count": null,
   "id": "070a0f1d-13f2-4f01-90a6-315c11301605",
   "metadata": {},
   "outputs": [],
   "source": [
    "ggplot(mtcars, #data layer\n",
    "      aes(x=cyl,y=1,fill=as.factor(cyl))) + #aesthetics layer\n",
    "    geom_col() #geometries layer"
   ]
  },
  {
   "cell_type": "code",
   "execution_count": null,
   "id": "bb2c4f38-aba0-42f9-b8f5-f1c12dc023b6",
   "metadata": {},
   "outputs": [],
   "source": [
    "ggplot(mtcars, #data layer\n",
    "      aes(x=as.factor(cyl),y=hp,group=as.factor(cyl),fill=as.factor(cyl))) + #aesthetics layer\n",
    "    geom_boxplot() #geometries layer"
   ]
  },
  {
   "cell_type": "markdown",
   "id": "a86b107b-ac25-4e7d-a925-74853bc175b5",
   "metadata": {},
   "source": [
    "### Facets"
   ]
  },
  {
   "cell_type": "code",
   "execution_count": null,
   "id": "2ad2fc3e-dbbe-4242-805c-b6ce5facd6a3",
   "metadata": {},
   "outputs": [],
   "source": [
    "ggplot(mtcars, #data layer\n",
    "      aes(x=mpg,y=hp,col=as.factor(cyl),shape=as.factor(cyl))) + #aesthetics layer\n",
    "    geom_point() + #geometries layer\n",
    "    facet_wrap(.~cyl)"
   ]
  },
  {
   "cell_type": "markdown",
   "id": "f0b1a7a9-c05a-4c7e-bbdc-3bc86943cb86",
   "metadata": {},
   "source": [
    "### Statistics\n",
    "Beispiel: geom_smooth mit linearem Modell"
   ]
  },
  {
   "cell_type": "code",
   "execution_count": null,
   "id": "9b700212-c868-4776-98c4-270637dfdb46",
   "metadata": {},
   "outputs": [],
   "source": [
    "ggplot(mtcars, aes(x=mpg,y=hp)) +\n",
    "  geom_point() +\n",
    "  stat_smooth(method = \"lm\", se = FALSE)"
   ]
  },
  {
   "cell_type": "code",
   "execution_count": null,
   "id": "3739270e-9672-4e10-a12f-e1fe1d8b7fe1",
   "metadata": {},
   "outputs": [],
   "source": [
    "ggplot(mtcars, aes(x=mpg,y=hp,col=as.factor(cyl),shape=as.factor(cyl))) + #aesthetics layer + data layer\n",
    "    geom_point() + #geometries layer\n",
    "    facet_wrap(.~cyl) + #facet\n",
    "    stat_smooth(method = \"lm\", se = FALSE) #statistic"
   ]
  },
  {
   "cell_type": "markdown",
   "id": "3d94e07c-35d0-4f1a-acb6-f333c52da2bd",
   "metadata": {},
   "source": [
    "### Coordinates\n",
    "typischerweise genutzt für Zooming-In und -Out"
   ]
  },
  {
   "cell_type": "code",
   "execution_count": null,
   "id": "6cc34309-cd8f-456b-97f4-ad18df613405",
   "metadata": {},
   "outputs": [],
   "source": [
    "ggplot(mtcars, aes(x=mpg,y=hp)) +\n",
    "    geom_point() +\n",
    "    stat_smooth(method = \"lm\", se = FALSE) +\n",
    "    coord_cartesian(xlim = c(0, 35), ylim = c(0, 300))"
   ]
  },
  {
   "cell_type": "markdown",
   "id": "4aa05586-4ab4-42e0-8fad-b2a1ed408564",
   "metadata": {},
   "source": [
    "### Themes\n",
    "Mit Themes kann man alles, was nicht direkt mit den Daten zusammenhängt verändern. So zum Beispiel Beschriftungen und Titel. Aber auch Hintergründe und Achsenlinien. \n",
    "\n",
    "Häufigste Themes:\n",
    "* theme_gray() ist der default\n",
    "* theme_bw() (schwarz-weiß)\n",
    "* theme_classic()\n",
    "* theme_minimal\n",
    "\n",
    "Mehr Infos: https://posit.co/wp-content/uploads/2022/10/data-visualization-1.pdf"
   ]
  },
  {
   "cell_type": "code",
   "execution_count": null,
   "id": "3fb4a8cf-540c-4338-ad2f-00cce2090bcf",
   "metadata": {},
   "outputs": [],
   "source": [
    "\n",
    "p1 <- ggplot(mtcars, aes(x=mpg,y=hp)) +\n",
    "    geom_point() +\n",
    "    stat_smooth(method = \"lm\", se = FALSE) +\n",
    "    coord_cartesian(xlim = c(0, 35), ylim = c(0, 300))\n",
    "require(gridExtra)\n",
    "\n",
    "\n",
    "\n",
    "grid.arrange(p1 + theme_gray(), \n",
    "             p1 + theme_bw(),\n",
    "             p1 + theme_classic(),\n",
    "             p1 + theme_minimal(),\n",
    "             ncol=2)\n"
   ]
  },
  {
   "cell_type": "code",
   "execution_count": null,
   "id": "6160491b-5d99-4229-8a2c-b9340fe90be7",
   "metadata": {},
   "outputs": [],
   "source": [
    "ggplot(mtcars, aes(x=mpg,y=hp,col=as.factor(cyl),shape=as.factor(cyl)))  +\n",
    "    geom_point() +\n",
    "    stat_smooth(method = \"lm\", se = FALSE) +\n",
    "    coord_cartesian(xlim = c(0, 35), ylim = c(0, 300))+\n",
    "    theme_minimal()+\n",
    "    labs(x=\"Reichweite\",y=\"Pferdestärke\",title=\"Pferdestärke vs Reichweite\", subtitle=\"Reichweite gemessen in Miles per Gallon (mpg)\")+\n",
    "    theme(legend.position=\"bottom\") +\n",
    "    guides(col=guide_legend(title=\"Zylinder\"),shape=guide_legend(title=\"Zylinder\"))+\n",
    "    annotate(geom=\"Text\",label=\"Das ist ein lineares Modell \\n für die Relation PS/mpg\", 30,200)"
   ]
  },
  {
   "cell_type": "markdown",
   "id": "914af566-eace-47f4-9a77-c52b8933989d",
   "metadata": {},
   "source": [
    "### Kombination mit dplyr\n",
    "\n",
    "So wie in dplyr Daten durch die Pipe %>% weitergereicht werden können, so können die Daten auch mit der pipe an ggplot übergeben werden."
   ]
  },
  {
   "cell_type": "code",
   "execution_count": null,
   "id": "ce57fb8e-a822-463c-b3e9-03b21c15d018",
   "metadata": {},
   "outputs": [],
   "source": [
    "mtcars %>% \n",
    "    mutate(Auto=rownames(mtcars),\n",
    "            Gewicht = round(wt *1000 * 0.4536,2),\n",
    "            \"l100km\" =  235/mtcars[,\"mpg\"],\n",
    "            Typ = ifelse(am==0,\"Automatik\",\"Manuell\")\n",
    "            ) %>%\n",
    "    rename(\"Viertelmeile\" = qsec, \"Pferdestärke\" = hp) %>%\n",
    "    ggplot(aes(x=Gewicht, y= l100km)) +\n",
    "        geom_point()\n"
   ]
  },
  {
   "cell_type": "code",
   "execution_count": null,
   "id": "7e040c6f-00e6-4e1b-b072-bc9ac256525a",
   "metadata": {},
   "outputs": [],
   "source": []
  }
 ],
 "metadata": {
  "environment": {
   "name": "r-cpu.4-0.m80",
   "type": "gcloud",
   "uri": "gcr.io/deeplearning-platform-release/r-cpu.4-0:m80"
  },
  "kernelspec": {
   "display_name": "R",
   "language": "R",
   "name": "ir"
  },
  "language_info": {
   "codemirror_mode": "r",
   "file_extension": ".r",
   "mimetype": "text/x-r-source",
   "name": "R",
   "pygments_lexer": "r",
   "version": "4.1.2"
  }
 },
 "nbformat": 4,
 "nbformat_minor": 5
}
