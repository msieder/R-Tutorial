{
 "cells": [
  {
   "cell_type": "markdown",
   "id": "01d0e2f4",
   "metadata": {},
   "source": [
    "# Advanced Data Analytics\n",
    "\n",
    "## Part 2 - Data Visualization\n",
    "\n",
    "\n",
    "focus on ggplot - base datasets etc\n",
    "comparison with normal plot\n",
    "\n",
    "boxplot (premiums)\n",
    "geom_point / line / bar\n",
    "historam (age)\n",
    "\n",
    "\n",
    "further aesthetics, double groupings etc."
   ]
  },
  {
   "cell_type": "code",
   "execution_count": null,
   "id": "fc9d411c",
   "metadata": {},
   "outputs": [],
   "source": []
  }
 ],
 "metadata": {
  "kernelspec": {
   "display_name": "R",
   "language": "R",
   "name": "ir"
  },
  "language_info": {
   "codemirror_mode": "r",
   "file_extension": ".r",
   "mimetype": "text/x-r-source",
   "name": "R",
   "pygments_lexer": "r",
   "version": "3.6.1"
  }
 },
 "nbformat": 4,
 "nbformat_minor": 5
}
