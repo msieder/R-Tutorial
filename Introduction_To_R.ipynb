{
 "cells": [
  {
   "cell_type": "markdown",
   "id": "c26c5a8a",
   "metadata": {},
   "source": [
    "# R for Beginners - Introduction to R\n",
    "R ist eine funktionale Programmiersprache mit Fokus auf mathematische und statistische Operationen. Dabei versucht R möglichst intuitiv für den Nutzer zu sein.\n",
    "\n",
    "Im Ersten Teil der Introduction beschäftigen wir uns mit den R Basics:\n",
    "* Zuweisung von Variablen\n",
    "* Vektoren\n",
    "* Basic Operations\n",
    "* Data Frames\n",
    "\n",
    "Um dieses Notebook auszuführen wähle die jeweilige \"Line of Code\" und drücke **CTRL+ENTER**. Mit **SHIFT+ENTER** führst du eine Zeile aus und springst automatisch zur nächsten "
   ]
  },
  {
   "cell_type": "markdown",
   "id": "8e6ee104",
   "metadata": {},
   "source": [
    "### Zuweisung von Variablen\n",
    "Im Grunde genommen funktioniert die Basis von R wie ein Taschenrechner. Wir können Berechnungen durchführen und die Ergebnisse Variablen zuweisen. Mit diesen Variablen können wir weitere Berechnungen durchführen:\n",
    "\n",
    "Grundsätzlich sind sowohl \"=\" als auch \"<-\" möglich für die Zuweisung von Variablen möglich. Worin genau sich die beiden Operatoren unterscheiden kannst du hier nachlesen: \n",
    "#https://stackoverflow.com/questions/1741820/what-are-the-differences-between-and-assignment-operators"
   ]
  },
  {
   "cell_type": "code",
   "execution_count": 1,
   "id": "296c0fc5",
   "metadata": {},
   "outputs": [
    {
     "data": {
      "text/html": [
       "2"
      ],
      "text/latex": [
       "2"
      ],
      "text/markdown": [
       "2"
      ],
      "text/plain": [
       "[1] 2"
      ]
     },
     "metadata": {},
     "output_type": "display_data"
    }
   ],
   "source": [
    "#Einfache Taschenrechnerfunktion\n",
    "1+1"
   ]
  },
  {
   "cell_type": "code",
   "execution_count": 2,
   "id": "f8fe408f",
   "metadata": {},
   "outputs": [
    {
     "name": "stdout",
     "output_type": "stream",
     "text": [
      "[1] 4\n"
     ]
    }
   ],
   "source": [
    "#Zuweisung von Variablen. \n",
    "a <- 1\n",
    "b = 3\n",
    "c <- a+b\n",
    "print(c)"
   ]
  },
  {
   "cell_type": "markdown",
   "id": "d633f1c5",
   "metadata": {},
   "source": [
    "* Addition +\n",
    "* Subtraktion -\n",
    "* Multiplikation *\n",
    "* Division /\n",
    "* Modulo %%\n",
    "* Potenz ^"
   ]
  },
  {
   "cell_type": "code",
   "execution_count": null,
   "id": "7be4fd11",
   "metadata": {},
   "outputs": [],
   "source": [
    "#Logische Variablen\n",
    "richtig <- TRUE\n",
    "falsch <- FALSE"
   ]
  },
  {
   "cell_type": "code",
   "execution_count": 10,
   "id": "afd17431",
   "metadata": {},
   "outputs": [
    {
     "data": {
      "text/html": [
       "FALSE"
      ],
      "text/latex": [
       "FALSE"
      ],
      "text/markdown": [
       "FALSE"
      ],
      "text/plain": [
       "[1] FALSE"
      ]
     },
     "metadata": {},
     "output_type": "display_data"
    },
    {
     "data": {
      "text/html": [
       "TRUE"
      ],
      "text/latex": [
       "TRUE"
      ],
      "text/markdown": [
       "TRUE"
      ],
      "text/plain": [
       "[1] TRUE"
      ]
     },
     "metadata": {},
     "output_type": "display_data"
    }
   ],
   "source": [
    "#Relationale Operatoren\n",
    "richtig==falsch\n",
    "3 <= c"
   ]
  },
  {
   "cell_type": "markdown",
   "id": "ee69437e",
   "metadata": {},
   "source": [
    "* Größer als > (bzw kleiner als <)\n",
    "* Größer gleich >= (bzw kleiner gleich <=)\n",
    "* Gleichheit ==\n",
    "* Ungleichheit !="
   ]
  },
  {
   "cell_type": "code",
   "execution_count": 3,
   "id": "6f8b6b27",
   "metadata": {},
   "outputs": [],
   "source": [
    "#Auch Strings können assigned werden.\n",
    "hi <- \"Hello World\""
   ]
  },
  {
   "cell_type": "code",
   "execution_count": 4,
   "id": "6bd2b160",
   "metadata": {},
   "outputs": [
    {
     "name": "stdout",
     "output_type": "stream",
     "text": [
      "[1] \"Hello World\"\n"
     ]
    },
    {
     "data": {
      "text/html": [
       "'Hello World'"
      ],
      "text/latex": [
       "'Hello World'"
      ],
      "text/markdown": [
       "'Hello World'"
      ],
      "text/plain": [
       "[1] \"Hello World\""
      ]
     },
     "metadata": {},
     "output_type": "display_data"
    }
   ],
   "source": [
    "#Ein Print wird nicht zwingend für die Ausgabe benötigt:\n",
    "print(hi)\n",
    "hi"
   ]
  },
  {
   "cell_type": "markdown",
   "id": "0e51a7dd",
   "metadata": {},
   "source": [
    "### Vektoren\n",
    "Vektor sind das Herzstück der Datenverarbeitung mit R. Mit Vektoren können einer einzigen Variable eine Vielzahl an Werten bzw. Parametern übergeben werden. Für die Zuweisung nutzen wir die Funktion c() - sie kombiniert (combine) Werte zu einem Vektor. "
   ]
  },
  {
   "cell_type": "code",
   "execution_count": 39,
   "id": "f45cfe6e",
   "metadata": {},
   "outputs": [
    {
     "name": "stdout",
     "output_type": "stream",
     "text": [
      "[1] 1 2 3\n"
     ]
    }
   ],
   "source": [
    "a <- c(1,2,3) #Variable a kann ohne Probleme neu zugewiesen werden\n",
    "print(a)"
   ]
  },
  {
   "cell_type": "code",
   "execution_count": 40,
   "id": "02c59ecc",
   "metadata": {},
   "outputs": [
    {
     "name": "stdout",
     "output_type": "stream",
     "text": [
      " [1]  1  2  3  4  5  6  7  8  9 10\n",
      " [1]  10  20  30  40  50  60  70  80  90 100\n",
      " [1] 0.1 0.2 0.3 0.4 0.5 0.6 0.7 0.8 0.9 1.0\n"
     ]
    }
   ],
   "source": [
    "a <- 1:10 #Vereinfachte Möglichkeit eine Reihenfolge natürlicher Daten darzustellen\n",
    "b <- seq(from=10,to=100,by=10) #Sequenz für Reihenfolge von reellen Zahlen\n",
    "c <- seq(from=0.1,to=1,by=0.1)\n",
    "print(a)\n",
    "print(b)\n",
    "print(c)"
   ]
  },
  {
   "cell_type": "code",
   "execution_count": 41,
   "id": "f868b898",
   "metadata": {},
   "outputs": [
    {
     "name": "stdout",
     "output_type": "stream",
     "text": [
      " [1]   1.0   2.0   3.0   4.0   5.0   6.0   7.0   8.0   9.0  10.0  10.0  20.0\n",
      "[13]  30.0  40.0  50.0  60.0  70.0  80.0  90.0 100.0   0.1   0.2   0.3   0.4\n",
      "[25]   0.5   0.6   0.7   0.8   0.9   1.0\n"
     ]
    }
   ],
   "source": [
    "long_vector <- c(a,b,c)\n",
    "print(long_vector)"
   ]
  },
  {
   "cell_type": "code",
   "execution_count": 44,
   "id": "8a58b63f",
   "metadata": {},
   "outputs": [
    {
     "data": {
      "text/html": [
       "30"
      ],
      "text/latex": [
       "30"
      ],
      "text/markdown": [
       "30"
      ],
      "text/plain": [
       "[1] 30"
      ]
     },
     "metadata": {},
     "output_type": "display_data"
    }
   ],
   "source": [
    "#Indexbasierte Abfrage\n",
    "long_vector[13]"
   ]
  },
  {
   "cell_type": "markdown",
   "id": "8c16e5a5",
   "metadata": {},
   "source": [
    "### Grundlegende mathematische Funktionen\n",
    "Die folgenden Operationen können sowohl mit einzelnen Werten als auch mit Vektoren durchgeführt werden:\n",
    "* Addition und Multiplikation von Variablen + Vektoren\n",
    "* Polynome (^)\n",
    "* Modulo (%%)\n",
    "* Sinus sin() und Cosinus() sowie pi\n",
    "* Logarithmus + Exponentialfunktionen"
   ]
  },
  {
   "cell_type": "code",
   "execution_count": 62,
   "id": "3356be54",
   "metadata": {},
   "outputs": [
    {
     "name": "stdout",
     "output_type": "stream",
     "text": [
      " [1]   10   40   90  160  250  360  490  640  810 1000\n",
      " [1]    1    8   27   64  125  216  343  512  729 1000\n",
      " [1] 1 2 0 1 2 0 1 2 0 1\n"
     ]
    }
   ],
   "source": [
    "print(a*b)\n",
    "print(a^3)   #Potenzen\n",
    "print(a%%3)  #Modulo"
   ]
  },
  {
   "cell_type": "code",
   "execution_count": 63,
   "id": "7cb722eb",
   "metadata": {
    "scrolled": true
   },
   "outputs": [
    {
     "name": "stdout",
     "output_type": "stream",
     "text": [
      "[1] 0.001592653\n",
      "[1] -1\n"
     ]
    }
   ],
   "source": [
    "print(sin(3.14))\n",
    "print(cos(pi))"
   ]
  },
  {
   "cell_type": "code",
   "execution_count": 64,
   "id": "1e76590e",
   "metadata": {},
   "outputs": [
    {
     "data": {
      "text/html": [
       "2.71828182845905"
      ],
      "text/latex": [
       "2.71828182845905"
      ],
      "text/markdown": [
       "2.71828182845905"
      ],
      "text/plain": [
       "[1] 2.718282"
      ]
     },
     "metadata": {},
     "output_type": "display_data"
    }
   ],
   "source": [
    "exp(1) # Eulers Zahl"
   ]
  },
  {
   "cell_type": "code",
   "execution_count": 65,
   "id": "14e6fe48",
   "metadata": {},
   "outputs": [
    {
     "name": "stdout",
     "output_type": "stream",
     "text": [
      "[1] 2.079442\n",
      "[1] 3\n"
     ]
    }
   ],
   "source": [
    "print(log(8)) #Logarithums, default base = Eulers Zahl\n",
    "print(log(8,base=2)) #Logarithmus, custom base"
   ]
  },
  {
   "cell_type": "markdown",
   "id": "fdd388aa",
   "metadata": {},
   "source": [
    "### Matrizen\n",
    "Matrizen sind zweidimensioale Objekte in denen Daten des **selben** Datentyps gespeichert werden. Die Datenpunkte sind in rechteckiger Form (n x m) angeordnet. Auch wenn man theoretisch logische oder character Datentypen verwenden kann ist das Hauptziel von Matrizen das speichern und rechnen mit numerischen Werten\n",
    "\n"
   ]
  },
  {
   "cell_type": "code",
   "execution_count": 28,
   "id": "62197da8",
   "metadata": {},
   "outputs": [
    {
     "name": "stdout",
     "output_type": "stream",
     "text": [
      "     [,1] [,2] [,3]\n",
      "[1,]    3    7   11\n",
      "[2,]    4    8   12\n",
      "[3,]    5    9   13\n",
      "[4,]    6   10   14\n"
     ]
    }
   ],
   "source": [
    "M <- matrix(c(3:14), nrow = 4, byrow = FALSE)\n",
    "print(M)"
   ]
  },
  {
   "cell_type": "code",
   "execution_count": 30,
   "id": "f9380fa1",
   "metadata": {},
   "outputs": [],
   "source": [
    "rownames <- c(\"Kunde1\", \"Kunde2\", \"Kunde3\", \"Kunde4\")\n",
    "colnames <- c(\"Produkt1\", \"Produkt2\", \"Produkt3\")"
   ]
  },
  {
   "cell_type": "code",
   "execution_count": 33,
   "id": "c2b7a94d",
   "metadata": {
    "scrolled": true
   },
   "outputs": [
    {
     "name": "stdout",
     "output_type": "stream",
     "text": [
      "       Produkt1 Produkt2 Produkt3\n",
      "Kunde1        3        7       11\n",
      "Kunde2        4        8       12\n",
      "Kunde3        5        9       13\n",
      "Kunde4        6       10       14\n"
     ]
    }
   ],
   "source": [
    "Produkte <- matrix(c(3:14), nrow = 4, byrow = FALSE, dimnames = list(rownames, colnames))\n",
    "print(Produkte)"
   ]
  },
  {
   "cell_type": "markdown",
   "id": "7f1fb277",
   "metadata": {},
   "source": [
    "##### Subselektionen\n",
    "Über den **Spalten- und Zeilenindex** können einzelne Elemente gezielt abgefragt werden\n",
    "\n",
    "* Wie oft hat Kunde 1 das Produkt 3 gekauft?\n",
    "* Wie viele Einheiten von Produkt 1 and die jeweiligen Kunden verkauft?\n",
    "* Welche und wie viele Einheiten von Produkten hat Kunde 3 gekauft"
   ]
  },
  {
   "cell_type": "code",
   "execution_count": 54,
   "id": "96c24733",
   "metadata": {},
   "outputs": [
    {
     "data": {
      "text/html": [
       "11"
      ],
      "text/latex": [
       "11"
      ],
      "text/markdown": [
       "11"
      ],
      "text/plain": [
       "[1] 11"
      ]
     },
     "metadata": {},
     "output_type": "display_data"
    }
   ],
   "source": [
    "Produkte[1,3] #Zuerst der Reihenindex, danach der Spaltenindex"
   ]
  },
  {
   "cell_type": "code",
   "execution_count": 57,
   "id": "98459378",
   "metadata": {
    "scrolled": true
   },
   "outputs": [
    {
     "name": "stdout",
     "output_type": "stream",
     "text": [
      "       Produkt1\n",
      "Kunde1        3\n",
      "Kunde2        4\n",
      "Kunde3        5\n",
      "Kunde4        6\n"
     ]
    }
   ],
   "source": [
    "Produkt1 <- Produkte[,1,drop=FALSE]\n",
    "print(Produkt1)"
   ]
  },
  {
   "cell_type": "code",
   "execution_count": 67,
   "id": "123b6611",
   "metadata": {
    "scrolled": true
   },
   "outputs": [
    {
     "data": {
      "text/html": [
       "<table>\n",
       "<thead><tr><th></th><th scope=col>Produkt1</th><th scope=col>Produkt2</th><th scope=col>Produkt3</th></tr></thead>\n",
       "<tbody>\n",
       "\t<tr><th scope=row>Kunde3</th><td>5 </td><td>9 </td><td>13</td></tr>\n",
       "</tbody>\n",
       "</table>\n"
      ],
      "text/latex": [
       "\\begin{tabular}{r|lll}\n",
       "  & Produkt1 & Produkt2 & Produkt3\\\\\n",
       "\\hline\n",
       "\tKunde3 & 5  & 9  & 13\\\\\n",
       "\\end{tabular}\n"
      ],
      "text/markdown": [
       "\n",
       "| <!--/--> | Produkt1 | Produkt2 | Produkt3 |\n",
       "|---|---|---|---|\n",
       "| Kunde3 | 5  | 9  | 13 |\n",
       "\n"
      ],
      "text/plain": [
       "       Produkt1 Produkt2 Produkt3\n",
       "Kunde3 5        9        13      "
      ]
     },
     "metadata": {},
     "output_type": "display_data"
    }
   ],
   "source": [
    "Kunde3 <- Produkte[3, ,drop=FALSE]\n",
    "Kunde3"
   ]
  },
  {
   "cell_type": "markdown",
   "id": "df130a33",
   "metadata": {},
   "source": [
    "##### Frage:\n",
    "Abfragen über einen numerischen Index sind etwas unintuitiv. Kann es dafür eine andere Lösung geben?"
   ]
  },
  {
   "cell_type": "code",
   "execution_count": 70,
   "id": "bc45b87b",
   "metadata": {},
   "outputs": [
    {
     "data": {
      "text/html": [
       "<table>\n",
       "<thead><tr><th></th><th scope=col>Produkt1</th><th scope=col>Produkt2</th><th scope=col>Produkt3</th></tr></thead>\n",
       "<tbody>\n",
       "\t<tr><th scope=row>Kunde1</th><td>3 </td><td> 7</td><td>11</td></tr>\n",
       "\t<tr><th scope=row>Kunde2</th><td>4 </td><td> 8</td><td>12</td></tr>\n",
       "\t<tr><th scope=row>Kunde3</th><td>5 </td><td> 9</td><td>13</td></tr>\n",
       "\t<tr><th scope=row>Kunde4</th><td>6 </td><td>10</td><td>14</td></tr>\n",
       "</tbody>\n",
       "</table>\n"
      ],
      "text/latex": [
       "\\begin{tabular}{r|lll}\n",
       "  & Produkt1 & Produkt2 & Produkt3\\\\\n",
       "\\hline\n",
       "\tKunde1 & 3  &  7 & 11\\\\\n",
       "\tKunde2 & 4  &  8 & 12\\\\\n",
       "\tKunde3 & 5  &  9 & 13\\\\\n",
       "\tKunde4 & 6  & 10 & 14\\\\\n",
       "\\end{tabular}\n"
      ],
      "text/markdown": [
       "\n",
       "| <!--/--> | Produkt1 | Produkt2 | Produkt3 |\n",
       "|---|---|---|---|\n",
       "| Kunde1 | 3  |  7 | 11 |\n",
       "| Kunde2 | 4  |  8 | 12 |\n",
       "| Kunde3 | 5  |  9 | 13 |\n",
       "| Kunde4 | 6  | 10 | 14 |\n",
       "\n"
      ],
      "text/plain": [
       "       Produkt1 Produkt2 Produkt3\n",
       "Kunde1 3         7       11      \n",
       "Kunde2 4         8       12      \n",
       "Kunde3 5         9       13      \n",
       "Kunde4 6        10       14      "
      ]
     },
     "metadata": {},
     "output_type": "display_data"
    }
   ],
   "source": [
    "Kunde3 <- Produkte[, ,drop=FALSE] #Tipp: wenn wir rownames setzen, können wir diese auch als index nutzen\n",
    "Kunde3"
   ]
  },
  {
   "cell_type": "markdown",
   "id": "116658bb",
   "metadata": {},
   "source": [
    "### Dataframes\n",
    "Data Frames organisieren Daten in einer zweidimensionalen Struktur von Rows und Columns. (-> Ähnlichkeiten zu Spreadsheets).\n",
    "Sie sind die häufigste Datenstruktur für moderne Data Analytics, vor Allem, weil sie besonders flexibel und intuitiv sind."
   ]
  },
  {
   "cell_type": "code",
   "execution_count": null,
   "id": "34219892",
   "metadata": {},
   "outputs": [],
   "source": []
  }
 ],
 "metadata": {
  "kernelspec": {
   "display_name": "R",
   "language": "R",
   "name": "ir"
  },
  "language_info": {
   "codemirror_mode": "r",
   "file_extension": ".r",
   "mimetype": "text/x-r-source",
   "name": "R",
   "pygments_lexer": "r",
   "version": "3.6.1"
  }
 },
 "nbformat": 4,
 "nbformat_minor": 5
}
