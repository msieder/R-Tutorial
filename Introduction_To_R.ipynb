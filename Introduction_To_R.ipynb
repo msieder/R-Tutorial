{
 "cells": [
  {
   "cell_type": "markdown",
   "id": "c26c5a8a",
   "metadata": {},
   "source": [
    "# R for Beginners - Introduction to R\n",
    "R ist eine funktionale Programmiersprache mit Fokus auf mathematische und statistische Operationen. Dabei versucht R möglichst intuitiv für den Nutzer zu sein.\n",
    "\n",
    "Im Ersten Teil der Introduction beschäftigen wir uns mit den R Basics:\n",
    "* Zuweisung von Variablen\n",
    "* Vektoren\n",
    "* Basic Operations\n",
    "* Data Frames\n",
    "\n",
    "Um dieses Notebook auszuführen wähle die jeweilige \"Line of Code\" und drücke **CTRL+ENTER**. Mit **SHIFT+ENTER** führst du eine Zeile aus und springst automatisch zur nächsten "
   ]
  },
  {
   "cell_type": "markdown",
   "id": "8e6ee104",
   "metadata": {},
   "source": [
    "### Zuweisung von Variablen\n",
    "Im Grunde genommen funktioniert die Basis von R wie ein Taschenrechner. Wir können Berechnungen durchführen und die Ergebnisse Variablen zuweisen. Mit diesen Variablen können wir weitere Berechnungen durchführen:\n",
    "\n",
    "Grundsätzlich sind sowohl \"=\" als auch \"<-\" möglich für die Zuweisung von Variablen möglich. Worin genau sich die beiden Operatoren unterscheiden kannst du hier nachlesen: \n",
    "#https://stackoverflow.com/questions/1741820/what-are-the-differences-between-and-assignment-operators"
   ]
  },
  {
   "cell_type": "code",
   "execution_count": 1,
   "id": "296c0fc5",
   "metadata": {},
   "outputs": [
    {
     "data": {
      "text/html": [
       "2"
      ],
      "text/latex": [
       "2"
      ],
      "text/markdown": [
       "2"
      ],
      "text/plain": [
       "[1] 2"
      ]
     },
     "metadata": {},
     "output_type": "display_data"
    }
   ],
   "source": [
    "#Einfache Taschenrechnerfunktion\n",
    "1+1"
   ]
  },
  {
   "cell_type": "code",
   "execution_count": 2,
   "id": "f8fe408f",
   "metadata": {},
   "outputs": [
    {
     "name": "stdout",
     "output_type": "stream",
     "text": [
      "[1] 4\n"
     ]
    }
   ],
   "source": [
    "#Zuweisung von Variablen. \n",
    "a <- 1\n",
    "b = 3\n",
    "c <- a+b\n",
    "print(c)"
   ]
  },
  {
   "cell_type": "markdown",
   "id": "d633f1c5",
   "metadata": {},
   "source": [
    "* Addition +\n",
    "* Subtraktion -\n",
    "* Multiplikation *\n",
    "* Division /\n",
    "* Modulo %%\n",
    "* Potenz ^"
   ]
  },
  {
   "cell_type": "code",
   "execution_count": null,
   "id": "7be4fd11",
   "metadata": {},
   "outputs": [],
   "source": [
    "#Logische Variablen\n",
    "richtig <- TRUE\n",
    "falsch <- FALSE"
   ]
  },
  {
   "cell_type": "code",
   "execution_count": 10,
   "id": "afd17431",
   "metadata": {},
   "outputs": [
    {
     "data": {
      "text/html": [
       "FALSE"
      ],
      "text/latex": [
       "FALSE"
      ],
      "text/markdown": [
       "FALSE"
      ],
      "text/plain": [
       "[1] FALSE"
      ]
     },
     "metadata": {},
     "output_type": "display_data"
    },
    {
     "data": {
      "text/html": [
       "TRUE"
      ],
      "text/latex": [
       "TRUE"
      ],
      "text/markdown": [
       "TRUE"
      ],
      "text/plain": [
       "[1] TRUE"
      ]
     },
     "metadata": {},
     "output_type": "display_data"
    }
   ],
   "source": [
    "#Relationale Operatoren\n",
    "richtig==falsch\n",
    "3 <= c"
   ]
  },
  {
   "cell_type": "markdown",
   "id": "ee69437e",
   "metadata": {},
   "source": [
    "* Größer als > (bzw kleiner als <)\n",
    "* Größer gleich >= (bzw kleiner gleich <=)\n",
    "* Gleichheit ==\n",
    "* Ungleichheit !="
   ]
  },
  {
   "cell_type": "code",
   "execution_count": 132,
   "id": "6f8b6b27",
   "metadata": {},
   "outputs": [],
   "source": [
    "#Auch Strings können assigned werden.\n",
    "hi <- \"Hello World\"\n",
    "hi <- \"Hello'World\"\n",
    "hi <- 'Hello World'"
   ]
  },
  {
   "cell_type": "code",
   "execution_count": 136,
   "id": "32e35b42",
   "metadata": {},
   "outputs": [
    {
     "ename": "ERROR",
     "evalue": "Error in parse(text = x, srcfile = src): <text>:1:9: unerwartetes Symbol\n1: \"Hello\" World\n            ^\n",
     "output_type": "error",
     "traceback": [
      "Error in parse(text = x, srcfile = src): <text>:1:9: unerwartetes Symbol\n1: \"Hello\" World\n            ^\nTraceback:\n"
     ]
    }
   ],
   "source": [
    "\"Hello\" World\""
   ]
  },
  {
   "cell_type": "code",
   "execution_count": 137,
   "id": "1a465709",
   "metadata": {},
   "outputs": [
    {
     "data": {
      "text/html": [
       "'Hello\"World'"
      ],
      "text/latex": [
       "'Hello\"World'"
      ],
      "text/markdown": [
       "'Hello\"World'"
      ],
      "text/plain": [
       "[1] \"Hello\\\"World\""
      ]
     },
     "metadata": {},
     "output_type": "display_data"
    }
   ],
   "source": [
    "\"Hello\\\"World\""
   ]
  },
  {
   "cell_type": "code",
   "execution_count": 138,
   "id": "6bd2b160",
   "metadata": {
    "scrolled": true
   },
   "outputs": [
    {
     "name": "stdout",
     "output_type": "stream",
     "text": [
      "[1] \"Hello World\"\n"
     ]
    },
    {
     "data": {
      "text/html": [
       "'Hello World'"
      ],
      "text/latex": [
       "'Hello World'"
      ],
      "text/markdown": [
       "'Hello World'"
      ],
      "text/plain": [
       "[1] \"Hello World\""
      ]
     },
     "metadata": {},
     "output_type": "display_data"
    }
   ],
   "source": [
    "#Ein Print wird nicht zwingend für die Ausgabe benötigt:\n",
    "print(hi)\n",
    "hi"
   ]
  },
  {
   "cell_type": "code",
   "execution_count": 139,
   "id": "6a890347",
   "metadata": {},
   "outputs": [
    {
     "data": {
      "text/html": [
       "weiblich\n",
       "<details>\n",
       "\t<summary style=display:list-item;cursor:pointer>\n",
       "\t\t<strong>Levels</strong>:\n",
       "\t</summary>\n",
       "\t'weiblich'\n",
       "</details>"
      ],
      "text/latex": [
       "weiblich\n",
       "\\emph{Levels}: 'weiblich'"
      ],
      "text/markdown": [
       "weiblich\n",
       "**Levels**: 'weiblich'"
      ],
      "text/plain": [
       "[1] weiblich\n",
       "Levels: weiblich"
      ]
     },
     "metadata": {},
     "output_type": "display_data"
    }
   ],
   "source": [
    "person <- \"weiblich\"\n",
    "as.factor(\"weiblich\")"
   ]
  },
  {
   "cell_type": "markdown",
   "id": "70dec8c8",
   "metadata": {},
   "source": [
    "### Grundlegende mathematische Funktionen\n",
    "Die folgenden Operationen können sowohl mit einzelnen Werten als auch mit Vektoren durchgeführt werden:\n",
    "* abs()\n",
    "* round()\n",
    "* Sinus sin() und Cosinus() sowie pi\n",
    "* Logarithmus + Exponentialfunktionen"
   ]
  },
  {
   "cell_type": "code",
   "execution_count": 1,
   "id": "3e70816f",
   "metadata": {},
   "outputs": [
    {
     "data": {
      "text/html": [
       "1"
      ],
      "text/latex": [
       "1"
      ],
      "text/markdown": [
       "1"
      ],
      "text/plain": [
       "[1] 1"
      ]
     },
     "metadata": {},
     "output_type": "display_data"
    }
   ],
   "source": [
    "abs(-1)"
   ]
  },
  {
   "cell_type": "code",
   "execution_count": 5,
   "id": "06570435",
   "metadata": {},
   "outputs": [],
   "source": [
    "#Informationen zu den Funktionen (help)\n",
    "?abs\n",
    "#help(abs)"
   ]
  },
  {
   "cell_type": "code",
   "execution_count": 6,
   "id": "f623c58a",
   "metadata": {},
   "outputs": [
    {
     "data": {
      "image/png": "[encoded data removed]",
      "text/plain": [
       "plot without title"
      ]
     },
     "metadata": {},
     "output_type": "display_data"
    }
   ],
   "source": [
    "xx <- -9:9\n",
    "plot(xx, sqrt(abs(xx)),  col = \"red\")"
   ]
  },
  {
   "cell_type": "code",
   "execution_count": 63,
   "id": "cca7fe22",
   "metadata": {
    "scrolled": true
   },
   "outputs": [
    {
     "name": "stdout",
     "output_type": "stream",
     "text": [
      "[1] 0.001592653\n",
      "[1] -1\n"
     ]
    }
   ],
   "source": [
    "print(sin(3.14))\n",
    "print(cos(pi))"
   ]
  },
  {
   "cell_type": "code",
   "execution_count": 64,
   "id": "005cc231",
   "metadata": {},
   "outputs": [
    {
     "data": {
      "text/html": [
       "2.71828182845905"
      ],
      "text/latex": [
       "2.71828182845905"
      ],
      "text/markdown": [
       "2.71828182845905"
      ],
      "text/plain": [
       "[1] 2.718282"
      ]
     },
     "metadata": {},
     "output_type": "display_data"
    }
   ],
   "source": [
    "exp(1) # Eulers Zahl"
   ]
  },
  {
   "cell_type": "code",
   "execution_count": 65,
   "id": "34538b06",
   "metadata": {},
   "outputs": [
    {
     "name": "stdout",
     "output_type": "stream",
     "text": [
      "[1] 2.079442\n",
      "[1] 3\n"
     ]
    }
   ],
   "source": [
    "print(log(8)) #Logarithums, default base = Eulers Zahl\n",
    "print(log(8,base=2)) #Logarithmus, custom base"
   ]
  },
  {
   "cell_type": "markdown",
   "id": "0e51a7dd",
   "metadata": {},
   "source": [
    "### Vektoren\n",
    "Vektor sind das Herzstück der Datenverarbeitung mit R. Mit Vektoren können einer einzigen Variable eine Vielzahl an Werten bzw. Parametern übergeben werden. Für die Zuweisung nutzen wir die Funktion c() - sie kombiniert (combine) Werte zu einem Vektor. \n",
    "\n",
    "Vektoren können immer nur Daten eines einzigen Datentyps aufnehmen. Falls mehrere Datentypen vorkommen so wird der höchstwertige genommen."
   ]
  },
  {
   "cell_type": "code",
   "execution_count": 15,
   "id": "f45cfe6e",
   "metadata": {},
   "outputs": [
    {
     "name": "stdout",
     "output_type": "stream",
     "text": [
      "[1] 1 2 3\n"
     ]
    }
   ],
   "source": [
    "a <- c(1,2,3) #Variable a kann ohne Probleme neu zugewiesen werden\n",
    "print(a)"
   ]
  },
  {
   "cell_type": "code",
   "execution_count": 16,
   "id": "d7417af2",
   "metadata": {},
   "outputs": [
    {
     "data": {
      "text/html": [
       "<ol class=list-inline>\n",
       "\t<li>0</li>\n",
       "\t<li>1</li>\n",
       "</ol>\n"
      ],
      "text/latex": [
       "\\begin{enumerate*}\n",
       "\\item 0\n",
       "\\item 1\n",
       "\\end{enumerate*}\n"
      ],
      "text/markdown": [
       "1. 0\n",
       "2. 1\n",
       "\n",
       "\n"
      ],
      "text/plain": [
       "[1] 0 1"
      ]
     },
     "metadata": {},
     "output_type": "display_data"
    }
   ],
   "source": [
    "b <- c(FALSE, 1)\n",
    "b"
   ]
  },
  {
   "cell_type": "code",
   "execution_count": 17,
   "id": "9ce073b5",
   "metadata": {},
   "outputs": [
    {
     "name": "stdout",
     "output_type": "stream",
     "text": [
      "[1] \"FALSE\"       \"1\"           \"Hello World\"\n"
     ]
    }
   ],
   "source": [
    "a <- c(FALSE, 1, \"Hello World\")\n",
    "print(a)"
   ]
  },
  {
   "cell_type": "code",
   "execution_count": 99,
   "id": "f392d41a",
   "metadata": {},
   "outputs": [
    {
     "data": {
      "text/html": [
       "<ol class=list-inline>\n",
       "\t<li>TRUE</li>\n",
       "\t<li>FALSE</li>\n",
       "\t<li>TRUE</li>\n",
       "\t<li>TRUE</li>\n",
       "\t<li>FALSE</li>\n",
       "\t<li>TRUE</li>\n",
       "</ol>\n"
      ],
      "text/latex": [
       "\\begin{enumerate*}\n",
       "\\item TRUE\n",
       "\\item FALSE\n",
       "\\item TRUE\n",
       "\\item TRUE\n",
       "\\item FALSE\n",
       "\\item TRUE\n",
       "\\end{enumerate*}\n"
      ],
      "text/markdown": [
       "1. TRUE\n",
       "2. FALSE\n",
       "3. TRUE\n",
       "4. TRUE\n",
       "5. FALSE\n",
       "6. TRUE\n",
       "\n",
       "\n"
      ],
      "text/plain": [
       "[1]  TRUE FALSE  TRUE  TRUE FALSE  TRUE"
      ]
     },
     "metadata": {},
     "output_type": "display_data"
    }
   ],
   "source": [
    "vec0 <- c(TRUE,FALSE,TRUE,TRUE,FALSE,TRUE)\n",
    "vec0"
   ]
  },
  {
   "cell_type": "code",
   "execution_count": 100,
   "id": "02c59ecc",
   "metadata": {},
   "outputs": [
    {
     "name": "stdout",
     "output_type": "stream",
     "text": [
      "[1] 1 2 3 4 5 6\n",
      "[1] 30 40 50 60 70 80\n",
      " [1] 0.1 0.2 0.3 0.4 0.5 0.6 0.7 0.8 0.9 1.0\n"
     ]
    }
   ],
   "source": [
    "vec1 <- 1:6 #Vereinfachte Möglichkeit eine Reihenfolge natürlicher Daten darzustellen\n",
    "vec2 <- seq(from=30,to=80,by=10) #Sequenz für Reihenfolge von reellen Zahlen\n",
    "vec3 <- seq(from=0.1,to=1,by=0.1)\n",
    "\n",
    "print(vec1)\n",
    "print(vec2)\n",
    "print(vec3)"
   ]
  },
  {
   "cell_type": "code",
   "execution_count": 101,
   "id": "f868b898",
   "metadata": {},
   "outputs": [
    {
     "name": "stdout",
     "output_type": "stream",
     "text": [
      " [1]  1.0  2.0  3.0  4.0  5.0  6.0 30.0 40.0 50.0 60.0 70.0 80.0  0.1  0.2  0.3\n",
      "[16]  0.4  0.5  0.6  0.7  0.8  0.9  1.0\n"
     ]
    }
   ],
   "source": [
    "long_vector <- c(vec1,vec2,vec3)\n",
    "print(long_vector)"
   ]
  },
  {
   "cell_type": "code",
   "execution_count": 102,
   "id": "8a58b63f",
   "metadata": {},
   "outputs": [
    {
     "data": {
      "text/html": [
       "0.1"
      ],
      "text/latex": [
       "0.1"
      ],
      "text/markdown": [
       "0.1"
      ],
      "text/plain": [
       "[1] 0.1"
      ]
     },
     "metadata": {},
     "output_type": "display_data"
    }
   ],
   "source": [
    "#Indexbasierte Abfrage\n",
    "long_vector[13]"
   ]
  },
  {
   "cell_type": "code",
   "execution_count": 103,
   "id": "6522d300",
   "metadata": {},
   "outputs": [
    {
     "data": {
      "text/html": [
       "<ol class=list-inline>\n",
       "\t<li>männlich</li>\n",
       "\t<li>weiblich</li>\n",
       "\t<li>weiblich</li>\n",
       "\t<li>männlich</li>\n",
       "\t<li>männlich</li>\n",
       "\t<li>weiblich</li>\n",
       "</ol>\n",
       "\n",
       "<details>\n",
       "\t<summary style=display:list-item;cursor:pointer>\n",
       "\t\t<strong>Levels</strong>:\n",
       "\t</summary>\n",
       "\t<ol class=list-inline>\n",
       "\t\t<li>'männlich'</li>\n",
       "\t\t<li>'weiblich'</li>\n",
       "\t</ol>\n",
       "</details>"
      ],
      "text/latex": [
       "\\begin{enumerate*}\n",
       "\\item männlich\n",
       "\\item weiblich\n",
       "\\item weiblich\n",
       "\\item männlich\n",
       "\\item männlich\n",
       "\\item weiblich\n",
       "\\end{enumerate*}\n",
       "\n",
       "\\emph{Levels}: \\begin{enumerate*}\n",
       "\\item 'männlich'\n",
       "\\item 'weiblich'\n",
       "\\end{enumerate*}\n"
      ],
      "text/markdown": [
       "1. männlich\n",
       "2. weiblich\n",
       "3. weiblich\n",
       "4. männlich\n",
       "5. männlich\n",
       "6. weiblich\n",
       "\n",
       "\n",
       "\n",
       "**Levels**: 1. 'männlich'\n",
       "2. 'weiblich'\n",
       "\n",
       "\n"
      ],
      "text/plain": [
       "[1] männlich weiblich weiblich männlich männlich weiblich\n",
       "Levels: männlich weiblich"
      ]
     },
     "metadata": {},
     "output_type": "display_data"
    }
   ],
   "source": [
    "vec4 <- as.factor(c(\"männlich\",\"weiblich\",\"weiblich\",\"männlich\",\"männlich\",\"weiblich\"))\n",
    "vec4"
   ]
  },
  {
   "cell_type": "markdown",
   "id": "0dfd44b2",
   "metadata": {},
   "source": [
    "### Listen\n",
    "Im Unterschied zu Vektoren können Listen verschiedene Datentypen aufweisen. Es ist sogar möglich Listen zu verschachteln und Listen in Listen zu erstellen"
   ]
  },
  {
   "cell_type": "code",
   "execution_count": 24,
   "id": "1b471a94",
   "metadata": {},
   "outputs": [
    {
     "data": {
      "text/html": [
       "<ol>\n",
       "\t<li>'Produkt1'</li>\n",
       "\t<li>'Produkt2'</li>\n",
       "\t<li>'Produkt4'</li>\n",
       "</ol>\n"
      ],
      "text/latex": [
       "\\begin{enumerate}\n",
       "\\item 'Produkt1'\n",
       "\\item 'Produkt2'\n",
       "\\item 'Produkt4'\n",
       "\\end{enumerate}\n"
      ],
      "text/markdown": [
       "1. 'Produkt1'\n",
       "2. 'Produkt2'\n",
       "3. 'Produkt4'\n",
       "\n",
       "\n"
      ],
      "text/plain": [
       "[[1]]\n",
       "[1] \"Produkt1\"\n",
       "\n",
       "[[2]]\n",
       "[1] \"Produkt2\"\n",
       "\n",
       "[[3]]\n",
       "[1] \"Produkt4\"\n"
      ]
     },
     "metadata": {},
     "output_type": "display_data"
    }
   ],
   "source": [
    "my_list1 <- list(\"Produkt1\",\"Produkt2\",\"Produkt4\")\n",
    "my_list1"
   ]
  },
  {
   "cell_type": "code",
   "execution_count": 112,
   "id": "84b5a028",
   "metadata": {},
   "outputs": [],
   "source": [
    "my_list2 <- list(\"Maria\", \"Musterfrau\", 1980,\"weibich\", TRUE)"
   ]
  },
  {
   "cell_type": "code",
   "execution_count": 27,
   "id": "ad9d9fed",
   "metadata": {
    "scrolled": true
   },
   "outputs": [
    {
     "data": {
      "text/html": [
       "<ol>\n",
       "\t<li>'Maria'</li>\n",
       "\t<li>'Musterfrau'</li>\n",
       "\t<li>1980</li>\n",
       "\t<li>weiblich\n",
       "<details>\n",
       "\t<summary style=display:list-item;cursor:pointer>\n",
       "\t\t<strong>Levels</strong>:\n",
       "\t</summary>\n",
       "\t'weiblich'\n",
       "</details></li>\n",
       "\t<li>TRUE</li>\n",
       "\t<li><ol>\n",
       "\t<li>'Produkt1'</li>\n",
       "\t<li>'Produkt2'</li>\n",
       "\t<li>'Produkt4'</li>\n",
       "</ol>\n",
       "</li>\n",
       "</ol>\n"
      ],
      "text/latex": [
       "\\begin{enumerate}\n",
       "\\item 'Maria'\n",
       "\\item 'Musterfrau'\n",
       "\\item 1980\n",
       "\\item weiblich\n",
       "\\emph{Levels}: 'weiblich'\n",
       "\\item TRUE\n",
       "\\item \\begin{enumerate}\n",
       "\\item 'Produkt1'\n",
       "\\item 'Produkt2'\n",
       "\\item 'Produkt4'\n",
       "\\end{enumerate}\n",
       "\n",
       "\\end{enumerate}\n"
      ],
      "text/markdown": [
       "1. 'Maria'\n",
       "2. 'Musterfrau'\n",
       "3. 1980\n",
       "4. weiblich\n",
       "**Levels**: 'weiblich'\n",
       "5. TRUE\n",
       "6. 1. 'Produkt1'\n",
       "2. 'Produkt2'\n",
       "3. 'Produkt4'\n",
       "\n",
       "\n",
       "\n",
       "\n",
       "\n"
      ],
      "text/plain": [
       "[[1]]\n",
       "[1] \"Maria\"\n",
       "\n",
       "[[2]]\n",
       "[1] \"Musterfrau\"\n",
       "\n",
       "[[3]]\n",
       "[1] 1980\n",
       "\n",
       "[[4]]\n",
       "[1] weiblich\n",
       "Levels: weiblich\n",
       "\n",
       "[[5]]\n",
       "[1] TRUE\n",
       "\n",
       "[[6]]\n",
       "[[6]][[1]]\n",
       "[1] \"Produkt1\"\n",
       "\n",
       "[[6]][[2]]\n",
       "[1] \"Produkt2\"\n",
       "\n",
       "[[6]][[3]]\n",
       "[1] \"Produkt4\"\n",
       "\n"
      ]
     },
     "metadata": {},
     "output_type": "display_data"
    }
   ],
   "source": [
    "my_list3 <- list(\"Maria\", \"Musterfrau\", 1980, \"weiblich\", TRUE, my_list1)\n",
    "my_list3"
   ]
  },
  {
   "cell_type": "code",
   "execution_count": 89,
   "id": "affdc56c",
   "metadata": {},
   "outputs": [
    {
     "data": {
      "text/html": [
       "<ol>\n",
       "\t<li>'Maria'</li>\n",
       "</ol>\n"
      ],
      "text/latex": [
       "\\begin{enumerate}\n",
       "\\item 'Maria'\n",
       "\\end{enumerate}\n"
      ],
      "text/markdown": [
       "1. 'Maria'\n",
       "\n",
       "\n"
      ],
      "text/plain": [
       "[[1]]\n",
       "[1] \"Maria\"\n"
      ]
     },
     "metadata": {},
     "output_type": "display_data"
    },
    {
     "data": {
      "text/html": [
       "'Maria'"
      ],
      "text/latex": [
       "'Maria'"
      ],
      "text/markdown": [
       "'Maria'"
      ],
      "text/plain": [
       "[1] \"Maria\""
      ]
     },
     "metadata": {},
     "output_type": "display_data"
    }
   ],
   "source": [
    "my_list3[1]\n",
    "my_list3[[1]]"
   ]
  },
  {
   "cell_type": "code",
   "execution_count": 128,
   "id": "2aeaa1bb",
   "metadata": {},
   "outputs": [],
   "source": [
    "my_list4 <- list(\n",
    "    Name = \"Markus\",\n",
    "    Nachname = \"Sieder\",\n",
    "    Jahr = 1997, \n",
    "    Geschecht = \"männlich\", \n",
    "    Kunde = TRUE, \n",
    "    Produkte = list(\"Produkt1\",\"Produkt3\"))\n"
   ]
  },
  {
   "cell_type": "code",
   "execution_count": 77,
   "id": "d3207389",
   "metadata": {},
   "outputs": [
    {
     "data": {
      "text/html": [
       "'Sieder'"
      ],
      "text/latex": [
       "'Sieder'"
      ],
      "text/markdown": [
       "'Sieder'"
      ],
      "text/plain": [
       "[1] \"Sieder\""
      ]
     },
     "metadata": {},
     "output_type": "display_data"
    },
    {
     "data": {
      "text/html": [
       "<ol>\n",
       "\t<li>'Produkt1'</li>\n",
       "\t<li>'Produkt3'</li>\n",
       "</ol>\n"
      ],
      "text/latex": [
       "\\begin{enumerate}\n",
       "\\item 'Produkt1'\n",
       "\\item 'Produkt3'\n",
       "\\end{enumerate}\n"
      ],
      "text/markdown": [
       "1. 'Produkt1'\n",
       "2. 'Produkt3'\n",
       "\n",
       "\n"
      ],
      "text/plain": [
       "[[1]]\n",
       "[1] \"Produkt1\"\n",
       "\n",
       "[[2]]\n",
       "[1] \"Produkt3\"\n"
      ]
     },
     "metadata": {},
     "output_type": "display_data"
    }
   ],
   "source": [
    "my_list4$Nachname\n",
    "my_list4$Produkte"
   ]
  },
  {
   "cell_type": "code",
   "execution_count": 114,
   "id": "b38ba54a",
   "metadata": {},
   "outputs": [],
   "source": [
    "final_list <- list(Kunde1 = my_list3,Kunde2 = my_list4)"
   ]
  },
  {
   "cell_type": "markdown",
   "id": "fdd388aa",
   "metadata": {},
   "source": [
    "### Matrizen\n",
    "Matrizen sind zweidimensioale Objekte in denen Daten des **selben** Datentyps gespeichert werden. Die Datenpunkte sind in rechteckiger Form (n x m) angeordnet. Auch wenn man theoretisch logische oder character Datentypen verwenden kann ist das Hauptziel von Matrizen das speichern und rechnen mit numerischen Werten\n",
    "\n"
   ]
  },
  {
   "cell_type": "code",
   "execution_count": 45,
   "id": "62197da8",
   "metadata": {},
   "outputs": [
    {
     "name": "stdout",
     "output_type": "stream",
     "text": [
      "     [,1] [,2] [,3]\n",
      "[1,]    3    7   11\n",
      "[2,]    4    8   12\n",
      "[3,]    5    9   13\n",
      "[4,]    6   10   14\n"
     ]
    }
   ],
   "source": [
    "M <- matrix(c(3:14), nrow = 4, byrow = FALSE)\n",
    "print(M)"
   ]
  },
  {
   "cell_type": "code",
   "execution_count": 46,
   "id": "f9380fa1",
   "metadata": {},
   "outputs": [],
   "source": [
    "rownames <- c(\"Kunde1\", \"Kunde2\", \"Kunde3\", \"Kunde4\")\n",
    "colnames <- c(\"Produkt1\", \"Produkt2\", \"Produkt3\")"
   ]
  },
  {
   "cell_type": "code",
   "execution_count": 47,
   "id": "c2b7a94d",
   "metadata": {
    "scrolled": true
   },
   "outputs": [
    {
     "name": "stdout",
     "output_type": "stream",
     "text": [
      "       Produkt1 Produkt2 Produkt3\n",
      "Kunde1        3        7       11\n",
      "Kunde2        4        8       12\n",
      "Kunde3        5        9       13\n",
      "Kunde4        6       10       14\n"
     ]
    }
   ],
   "source": [
    "Produkte <- matrix(c(3:14), nrow = 4, byrow = FALSE, dimnames = list(rownames, colnames))\n",
    "print(Produkte)"
   ]
  },
  {
   "cell_type": "markdown",
   "id": "7f1fb277",
   "metadata": {},
   "source": [
    "##### Subselektionen\n",
    "Über den **Spalten- und Zeilenindex** können einzelne Elemente gezielt abgefragt werden\n",
    "\n",
    "* Wie oft hat Kunde 1 das Produkt 3 gekauft?\n",
    "* Wie viele Einheiten von Produkt 1 and die jeweiligen Kunden verkauft?\n",
    "* Welche und wie viele Einheiten von Produkten hat Kunde 3 gekauft"
   ]
  },
  {
   "cell_type": "code",
   "execution_count": 48,
   "id": "96c24733",
   "metadata": {},
   "outputs": [
    {
     "data": {
      "text/html": [
       "11"
      ],
      "text/latex": [
       "11"
      ],
      "text/markdown": [
       "11"
      ],
      "text/plain": [
       "[1] 11"
      ]
     },
     "metadata": {},
     "output_type": "display_data"
    }
   ],
   "source": [
    "Produkte[1,3] #Zuerst der Reihenindex, danach der Spaltenindex"
   ]
  },
  {
   "cell_type": "code",
   "execution_count": 49,
   "id": "98459378",
   "metadata": {
    "scrolled": true
   },
   "outputs": [
    {
     "name": "stdout",
     "output_type": "stream",
     "text": [
      "       Produkt1\n",
      "Kunde1        3\n",
      "Kunde2        4\n",
      "Kunde3        5\n",
      "Kunde4        6\n"
     ]
    }
   ],
   "source": [
    "Produkt1 <- Produkte[,1,drop=FALSE]\n",
    "print(Produkt1)"
   ]
  },
  {
   "cell_type": "code",
   "execution_count": 50,
   "id": "123b6611",
   "metadata": {
    "scrolled": true
   },
   "outputs": [
    {
     "data": {
      "text/html": [
       "<table>\n",
       "<thead><tr><th></th><th scope=col>Produkt1</th><th scope=col>Produkt2</th><th scope=col>Produkt3</th></tr></thead>\n",
       "<tbody>\n",
       "\t<tr><th scope=row>Kunde3</th><td>5 </td><td>9 </td><td>13</td></tr>\n",
       "</tbody>\n",
       "</table>\n"
      ],
      "text/latex": [
       "\\begin{tabular}{r|lll}\n",
       "  & Produkt1 & Produkt2 & Produkt3\\\\\n",
       "\\hline\n",
       "\tKunde3 & 5  & 9  & 13\\\\\n",
       "\\end{tabular}\n"
      ],
      "text/markdown": [
       "\n",
       "| <!--/--> | Produkt1 | Produkt2 | Produkt3 |\n",
       "|---|---|---|---|\n",
       "| Kunde3 | 5  | 9  | 13 |\n",
       "\n"
      ],
      "text/plain": [
       "       Produkt1 Produkt2 Produkt3\n",
       "Kunde3 5        9        13      "
      ]
     },
     "metadata": {},
     "output_type": "display_data"
    }
   ],
   "source": [
    "Kunde3 <- Produkte[3, ,drop=FALSE]\n",
    "Kunde3"
   ]
  },
  {
   "cell_type": "markdown",
   "id": "df130a33",
   "metadata": {},
   "source": [
    "##### Frage:\n",
    "Abfragen über einen numerischen Index sind etwas unintuitiv. Kann es dafür eine andere Lösung geben?"
   ]
  },
  {
   "cell_type": "code",
   "execution_count": 51,
   "id": "bc45b87b",
   "metadata": {},
   "outputs": [
    {
     "data": {
      "text/html": [
       "<table>\n",
       "<thead><tr><th></th><th scope=col>Produkt1</th><th scope=col>Produkt2</th><th scope=col>Produkt3</th></tr></thead>\n",
       "<tbody>\n",
       "\t<tr><th scope=row>Kunde1</th><td>3 </td><td> 7</td><td>11</td></tr>\n",
       "\t<tr><th scope=row>Kunde2</th><td>4 </td><td> 8</td><td>12</td></tr>\n",
       "\t<tr><th scope=row>Kunde3</th><td>5 </td><td> 9</td><td>13</td></tr>\n",
       "\t<tr><th scope=row>Kunde4</th><td>6 </td><td>10</td><td>14</td></tr>\n",
       "</tbody>\n",
       "</table>\n"
      ],
      "text/latex": [
       "\\begin{tabular}{r|lll}\n",
       "  & Produkt1 & Produkt2 & Produkt3\\\\\n",
       "\\hline\n",
       "\tKunde1 & 3  &  7 & 11\\\\\n",
       "\tKunde2 & 4  &  8 & 12\\\\\n",
       "\tKunde3 & 5  &  9 & 13\\\\\n",
       "\tKunde4 & 6  & 10 & 14\\\\\n",
       "\\end{tabular}\n"
      ],
      "text/markdown": [
       "\n",
       "| <!--/--> | Produkt1 | Produkt2 | Produkt3 |\n",
       "|---|---|---|---|\n",
       "| Kunde1 | 3  |  7 | 11 |\n",
       "| Kunde2 | 4  |  8 | 12 |\n",
       "| Kunde3 | 5  |  9 | 13 |\n",
       "| Kunde4 | 6  | 10 | 14 |\n",
       "\n"
      ],
      "text/plain": [
       "       Produkt1 Produkt2 Produkt3\n",
       "Kunde1 3         7       11      \n",
       "Kunde2 4         8       12      \n",
       "Kunde3 5         9       13      \n",
       "Kunde4 6        10       14      "
      ]
     },
     "metadata": {},
     "output_type": "display_data"
    }
   ],
   "source": [
    "Kunde3 <- Produkte[, ,drop=FALSE] #Tipp: wenn wir rownames setzen, können wir diese auch als index nutzen\n",
    "Kunde3"
   ]
  },
  {
   "cell_type": "markdown",
   "id": "116658bb",
   "metadata": {},
   "source": [
    "### Dataframes\n",
    "Data Frames organisieren Daten in einer zweidimensionalen Struktur von Rows und Columns. (-> Ähnlichkeiten zu Spreadsheets). R intern werden sie als als eine Liste interpretiert, in der jeder Eintrag ein Vektor der selben Länge ist. In jedem Vektor (Spalte) müssen die Daten dem selben Typen entsprechen. Jede Spalte/Vektor kann jedoch einen anderen Datentyp besitzen\n",
    "\n",
    "Sie sind die häufigste Datenstruktur für moderne Data Analytics, vor Allem, weil sie besonders flexibel und intuitiv sind."
   ]
  },
  {
   "cell_type": "code",
   "execution_count": 104,
   "id": "2c43ed32",
   "metadata": {},
   "outputs": [
    {
     "data": {
      "text/html": [
       "<table>\n",
       "<thead><tr><th></th><th scope=col>Produkt1</th><th scope=col>Produkt2</th><th scope=col>Produkt3</th></tr></thead>\n",
       "<tbody>\n",
       "\t<tr><th scope=row>Kunde1</th><td>3 </td><td> 7</td><td>11</td></tr>\n",
       "\t<tr><th scope=row>Kunde2</th><td>4 </td><td> 8</td><td>12</td></tr>\n",
       "\t<tr><th scope=row>Kunde3</th><td>5 </td><td> 9</td><td>13</td></tr>\n",
       "\t<tr><th scope=row>Kunde4</th><td>6 </td><td>10</td><td>14</td></tr>\n",
       "</tbody>\n",
       "</table>\n"
      ],
      "text/latex": [
       "\\begin{tabular}{r|lll}\n",
       "  & Produkt1 & Produkt2 & Produkt3\\\\\n",
       "\\hline\n",
       "\tKunde1 & 3  &  7 & 11\\\\\n",
       "\tKunde2 & 4  &  8 & 12\\\\\n",
       "\tKunde3 & 5  &  9 & 13\\\\\n",
       "\tKunde4 & 6  & 10 & 14\\\\\n",
       "\\end{tabular}\n"
      ],
      "text/markdown": [
       "\n",
       "| <!--/--> | Produkt1 | Produkt2 | Produkt3 |\n",
       "|---|---|---|---|\n",
       "| Kunde1 | 3  |  7 | 11 |\n",
       "| Kunde2 | 4  |  8 | 12 |\n",
       "| Kunde3 | 5  |  9 | 13 |\n",
       "| Kunde4 | 6  | 10 | 14 |\n",
       "\n"
      ],
      "text/plain": [
       "       Produkt1 Produkt2 Produkt3\n",
       "Kunde1 3         7       11      \n",
       "Kunde2 4         8       12      \n",
       "Kunde3 5         9       13      \n",
       "Kunde4 6        10       14      "
      ]
     },
     "metadata": {},
     "output_type": "display_data"
    }
   ],
   "source": [
    "df2 <- data.frame(Produkte)\n",
    "df2"
   ]
  },
  {
   "cell_type": "code",
   "execution_count": 106,
   "id": "375463b7",
   "metadata": {},
   "outputs": [
    {
     "ename": "ERROR",
     "evalue": "Error in data.frame(vec1, vec2, vec3): arguments imply differing number of rows: 6, 10\n",
     "output_type": "error",
     "traceback": [
      "Error in data.frame(vec1, vec2, vec3): arguments imply differing number of rows: 6, 10\nTraceback:\n",
      "1. data.frame(vec1, vec2, vec3)",
      "2. stop(gettextf(\"arguments imply differing number of rows: %s\", \n .     paste(unique(nrows), collapse = \", \")), domain = NA)"
     ]
    }
   ],
   "source": [
    "df <- data.frame(vec1,vec2,vec3)"
   ]
  },
  {
   "cell_type": "code",
   "execution_count": 107,
   "id": "5896ff97",
   "metadata": {},
   "outputs": [
    {
     "data": {
      "text/html": [
       "<table>\n",
       "<thead><tr><th scope=col>vec1</th><th scope=col>vec2</th><th scope=col>vec0</th></tr></thead>\n",
       "<tbody>\n",
       "\t<tr><td>1    </td><td>30   </td><td> TRUE</td></tr>\n",
       "\t<tr><td>2    </td><td>40   </td><td>FALSE</td></tr>\n",
       "\t<tr><td>3    </td><td>50   </td><td> TRUE</td></tr>\n",
       "\t<tr><td>4    </td><td>60   </td><td> TRUE</td></tr>\n",
       "\t<tr><td>5    </td><td>70   </td><td>FALSE</td></tr>\n",
       "\t<tr><td>6    </td><td>80   </td><td> TRUE</td></tr>\n",
       "</tbody>\n",
       "</table>\n"
      ],
      "text/latex": [
       "\\begin{tabular}{r|lll}\n",
       " vec1 & vec2 & vec0\\\\\n",
       "\\hline\n",
       "\t 1     & 30    &  TRUE\\\\\n",
       "\t 2     & 40    & FALSE\\\\\n",
       "\t 3     & 50    &  TRUE\\\\\n",
       "\t 4     & 60    &  TRUE\\\\\n",
       "\t 5     & 70    & FALSE\\\\\n",
       "\t 6     & 80    &  TRUE\\\\\n",
       "\\end{tabular}\n"
      ],
      "text/markdown": [
       "\n",
       "| vec1 | vec2 | vec0 |\n",
       "|---|---|---|\n",
       "| 1     | 30    |  TRUE |\n",
       "| 2     | 40    | FALSE |\n",
       "| 3     | 50    |  TRUE |\n",
       "| 4     | 60    |  TRUE |\n",
       "| 5     | 70    | FALSE |\n",
       "| 6     | 80    |  TRUE |\n",
       "\n"
      ],
      "text/plain": [
       "  vec1 vec2 vec0 \n",
       "1 1    30    TRUE\n",
       "2 2    40   FALSE\n",
       "3 3    50    TRUE\n",
       "4 4    60    TRUE\n",
       "5 5    70   FALSE\n",
       "6 6    80    TRUE"
      ]
     },
     "metadata": {},
     "output_type": "display_data"
    }
   ],
   "source": [
    "df1 <- data.frame(vec1,vec2,vec0)\n",
    "df1"
   ]
  },
  {
   "cell_type": "code",
   "execution_count": 152,
   "id": "eae21c7a",
   "metadata": {},
   "outputs": [
    {
     "data": {
      "text/html": [
       "<table>\n",
       "<thead><tr><th scope=col>ID</th><th scope=col>Alter</th><th scope=col>Kunde</th><th scope=col>Geschlecht</th></tr></thead>\n",
       "<tbody>\n",
       "\t<tr><td>1       </td><td>30      </td><td> TRUE   </td><td>männlich</td></tr>\n",
       "\t<tr><td>2       </td><td>40      </td><td>FALSE   </td><td>weiblich</td></tr>\n",
       "\t<tr><td>3       </td><td>50      </td><td> TRUE   </td><td>weiblich</td></tr>\n",
       "\t<tr><td>4       </td><td>60      </td><td> TRUE   </td><td>männlich</td></tr>\n",
       "\t<tr><td>5       </td><td>70      </td><td>FALSE   </td><td>männlich</td></tr>\n",
       "\t<tr><td>6       </td><td>80      </td><td> TRUE   </td><td>weiblich</td></tr>\n",
       "</tbody>\n",
       "</table>\n"
      ],
      "text/latex": [
       "\\begin{tabular}{r|llll}\n",
       " ID & Alter & Kunde & Geschlecht\\\\\n",
       "\\hline\n",
       "\t 1        & 30       &  TRUE    & männlich\\\\\n",
       "\t 2        & 40       & FALSE    & weiblich\\\\\n",
       "\t 3        & 50       &  TRUE    & weiblich\\\\\n",
       "\t 4        & 60       &  TRUE    & männlich\\\\\n",
       "\t 5        & 70       & FALSE    & männlich\\\\\n",
       "\t 6        & 80       &  TRUE    & weiblich\\\\\n",
       "\\end{tabular}\n"
      ],
      "text/markdown": [
       "\n",
       "| ID | Alter | Kunde | Geschlecht |\n",
       "|---|---|---|---|\n",
       "| 1        | 30       |  TRUE    | männlich |\n",
       "| 2        | 40       | FALSE    | weiblich |\n",
       "| 3        | 50       |  TRUE    | weiblich |\n",
       "| 4        | 60       |  TRUE    | männlich |\n",
       "| 5        | 70       | FALSE    | männlich |\n",
       "| 6        | 80       |  TRUE    | weiblich |\n",
       "\n"
      ],
      "text/plain": [
       "  ID Alter Kunde Geschlecht\n",
       "1 1  30     TRUE männlich  \n",
       "2 2  40    FALSE weiblich  \n",
       "3 3  50     TRUE weiblich  \n",
       "4 4  60     TRUE männlich  \n",
       "5 5  70    FALSE männlich  \n",
       "6 6  80     TRUE weiblich  "
      ]
     },
     "metadata": {},
     "output_type": "display_data"
    }
   ],
   "source": [
    "df <- data.frame(ID=vec1,Alter=vec2,Kunde=vec0,Geschlecht=vec4)\n",
    "df"
   ]
  },
  {
   "cell_type": "markdown",
   "id": "0ce8af88",
   "metadata": {},
   "source": [
    "### Indexing\n",
    "Zuriff auf gespeicherte Daten"
   ]
  },
  {
   "cell_type": "code",
   "execution_count": 125,
   "id": "5add3112",
   "metadata": {},
   "outputs": [
    {
     "data": {
      "text/html": [
       "<ol class=list-inline>\n",
       "\t<li>1</li>\n",
       "\t<li>2</li>\n",
       "\t<li>3</li>\n",
       "\t<li>4</li>\n",
       "\t<li>5</li>\n",
       "\t<li>6</li>\n",
       "</ol>\n"
      ],
      "text/latex": [
       "\\begin{enumerate*}\n",
       "\\item 1\n",
       "\\item 2\n",
       "\\item 3\n",
       "\\item 4\n",
       "\\item 5\n",
       "\\item 6\n",
       "\\end{enumerate*}\n"
      ],
      "text/markdown": [
       "1. 1\n",
       "2. 2\n",
       "3. 3\n",
       "4. 4\n",
       "5. 5\n",
       "6. 6\n",
       "\n",
       "\n"
      ],
      "text/plain": [
       "[1] 1 2 3 4 5 6"
      ]
     },
     "metadata": {},
     "output_type": "display_data"
    },
    {
     "data": {
      "text/html": [],
      "text/latex": [],
      "text/markdown": [],
      "text/plain": [
       "integer(0)"
      ]
     },
     "metadata": {},
     "output_type": "display_data"
    },
    {
     "data": {
      "text/html": [
       "1"
      ],
      "text/latex": [
       "1"
      ],
      "text/markdown": [
       "1"
      ],
      "text/plain": [
       "[1] 1"
      ]
     },
     "metadata": {},
     "output_type": "display_data"
    },
    {
     "data": {
      "text/html": [
       "<ol class=list-inline>\n",
       "\t<li>1</li>\n",
       "\t<li>2</li>\n",
       "\t<li>3</li>\n",
       "\t<li>4</li>\n",
       "\t<li>5</li>\n",
       "</ol>\n"
      ],
      "text/latex": [
       "\\begin{enumerate*}\n",
       "\\item 1\n",
       "\\item 2\n",
       "\\item 3\n",
       "\\item 4\n",
       "\\item 5\n",
       "\\end{enumerate*}\n"
      ],
      "text/markdown": [
       "1. 1\n",
       "2. 2\n",
       "3. 3\n",
       "4. 4\n",
       "5. 5\n",
       "\n",
       "\n"
      ],
      "text/plain": [
       "[1] 1 2 3 4 5"
      ]
     },
     "metadata": {},
     "output_type": "display_data"
    }
   ],
   "source": [
    "vec1\n",
    "vec1[0] #Startet mit 1\n",
    "vec1[1] #Zugriff auf Datenpunkt\n",
    "vec1[-6] #Löschen eines Datenpunktes"
   ]
  },
  {
   "cell_type": "code",
   "execution_count": 148,
   "id": "c8ca11ae",
   "metadata": {},
   "outputs": [
    {
     "data": {
      "text/html": [
       "<dl>\n",
       "\t<dt>$Name</dt>\n",
       "\t\t<dd>'Markus'</dd>\n",
       "\t<dt>$Nachname</dt>\n",
       "\t\t<dd>'Sieder'</dd>\n",
       "\t<dt>$Jahr</dt>\n",
       "\t\t<dd>1997</dd>\n",
       "\t<dt>$Geschecht</dt>\n",
       "\t\t<dd>'männlich'</dd>\n",
       "\t<dt>$Kunde</dt>\n",
       "\t\t<dd>TRUE</dd>\n",
       "\t<dt>$Produkte</dt>\n",
       "\t\t<dd><ol>\n",
       "\t<li>'Produkt1'</li>\n",
       "\t<li>'Produkt3'</li>\n",
       "</ol>\n",
       "</dd>\n",
       "</dl>\n"
      ],
      "text/latex": [
       "\\begin{description}\n",
       "\\item[\\$Name] 'Markus'\n",
       "\\item[\\$Nachname] 'Sieder'\n",
       "\\item[\\$Jahr] 1997\n",
       "\\item[\\$Geschecht] 'männlich'\n",
       "\\item[\\$Kunde] TRUE\n",
       "\\item[\\$Produkte] \\begin{enumerate}\n",
       "\\item 'Produkt1'\n",
       "\\item 'Produkt3'\n",
       "\\end{enumerate}\n",
       "\n",
       "\\end{description}\n"
      ],
      "text/markdown": [
       "$Name\n",
       ":   'Markus'\n",
       "$Nachname\n",
       ":   'Sieder'\n",
       "$Jahr\n",
       ":   1997\n",
       "$Geschecht\n",
       ":   'männlich'\n",
       "$Kunde\n",
       ":   TRUE\n",
       "$Produkte\n",
       ":   1. 'Produkt1'\n",
       "2. 'Produkt3'\n",
       "\n",
       "\n",
       "\n",
       "\n",
       "\n"
      ],
      "text/plain": [
       "$Name\n",
       "[1] \"Markus\"\n",
       "\n",
       "$Nachname\n",
       "[1] \"Sieder\"\n",
       "\n",
       "$Jahr\n",
       "[1] 1997\n",
       "\n",
       "$Geschecht\n",
       "[1] \"männlich\"\n",
       "\n",
       "$Kunde\n",
       "[1] TRUE\n",
       "\n",
       "$Produkte\n",
       "$Produkte[[1]]\n",
       "[1] \"Produkt1\"\n",
       "\n",
       "$Produkte[[2]]\n",
       "[1] \"Produkt3\"\n",
       "\n"
      ]
     },
     "metadata": {},
     "output_type": "display_data"
    }
   ],
   "source": [
    "my_list <- my_list4\n",
    "my_list"
   ]
  },
  {
   "cell_type": "code",
   "execution_count": 160,
   "id": "7a412b91",
   "metadata": {},
   "outputs": [
    {
     "data": {
      "text/html": [
       "<strong>$Name</strong> = 'Markus'"
      ],
      "text/latex": [
       "\\textbf{\\$Name} = 'Markus'"
      ],
      "text/markdown": [
       "**$Name** = 'Markus'"
      ],
      "text/plain": [
       "$Name\n",
       "[1] \"Markus\"\n"
      ]
     },
     "metadata": {},
     "output_type": "display_data"
    },
    {
     "data": {
      "text/html": [
       "'Markus'"
      ],
      "text/latex": [
       "'Markus'"
      ],
      "text/markdown": [
       "'Markus'"
      ],
      "text/plain": [
       "[1] \"Markus\""
      ]
     },
     "metadata": {},
     "output_type": "display_data"
    },
    {
     "data": {
      "text/html": [
       "'Markus'"
      ],
      "text/latex": [
       "'Markus'"
      ],
      "text/markdown": [
       "'Markus'"
      ],
      "text/plain": [
       "[1] \"Markus\""
      ]
     },
     "metadata": {},
     "output_type": "display_data"
    }
   ],
   "source": [
    "my_list[1]\n",
    "my_list[[1]]\n",
    "my_list$Name"
   ]
  },
  {
   "cell_type": "code",
   "execution_count": 169,
   "id": "13a4f24c",
   "metadata": {},
   "outputs": [
    {
     "data": {
      "text/html": [
       "<strong>$Produkte</strong> = <ol>\n",
       "\t<li>'Produkt1'</li>\n",
       "\t<li>'Produkt3'</li>\n",
       "</ol>\n"
      ],
      "text/latex": [
       "\\textbf{\\$Produkte} = \\begin{enumerate}\n",
       "\\item 'Produkt1'\n",
       "\\item 'Produkt3'\n",
       "\\end{enumerate}\n"
      ],
      "text/markdown": [
       "**$Produkte** = 1. 'Produkt1'\n",
       "2. 'Produkt3'\n",
       "\n",
       "\n"
      ],
      "text/plain": [
       "$Produkte\n",
       "$Produkte[[1]]\n",
       "[1] \"Produkt1\"\n",
       "\n",
       "$Produkte[[2]]\n",
       "[1] \"Produkt3\"\n",
       "\n"
      ]
     },
     "metadata": {},
     "output_type": "display_data"
    },
    {
     "data": {
      "text/html": [
       "<strong>$Produkte</strong> = <ol>\n",
       "\t<li>'Produkt1'</li>\n",
       "\t<li>'Produkt3'</li>\n",
       "</ol>\n"
      ],
      "text/latex": [
       "\\textbf{\\$Produkte} = \\begin{enumerate}\n",
       "\\item 'Produkt1'\n",
       "\\item 'Produkt3'\n",
       "\\end{enumerate}\n"
      ],
      "text/markdown": [
       "**$Produkte** = 1. 'Produkt1'\n",
       "2. 'Produkt3'\n",
       "\n",
       "\n"
      ],
      "text/plain": [
       "$Produkte\n",
       "$Produkte[[1]]\n",
       "[1] \"Produkt1\"\n",
       "\n",
       "$Produkte[[2]]\n",
       "[1] \"Produkt3\"\n",
       "\n"
      ]
     },
     "metadata": {},
     "output_type": "display_data"
    },
    {
     "data": {
      "text/html": [
       "<ol>\n",
       "\t<li>'Produkt1'</li>\n",
       "</ol>\n"
      ],
      "text/latex": [
       "\\begin{enumerate}\n",
       "\\item 'Produkt1'\n",
       "\\end{enumerate}\n"
      ],
      "text/markdown": [
       "1. 'Produkt1'\n",
       "\n",
       "\n"
      ],
      "text/plain": [
       "[[1]]\n",
       "[1] \"Produkt1\"\n"
      ]
     },
     "metadata": {},
     "output_type": "display_data"
    },
    {
     "data": {
      "text/html": [
       "<ol>\n",
       "\t<li>'Produkt1'</li>\n",
       "</ol>\n"
      ],
      "text/latex": [
       "\\begin{enumerate}\n",
       "\\item 'Produkt1'\n",
       "\\end{enumerate}\n"
      ],
      "text/markdown": [
       "1. 'Produkt1'\n",
       "\n",
       "\n"
      ],
      "text/plain": [
       "[[1]]\n",
       "[1] \"Produkt1\"\n"
      ]
     },
     "metadata": {},
     "output_type": "display_data"
    }
   ],
   "source": [
    "my_list[6]\n",
    "my_list[6][1]\n",
    "my_list[[6]][1]\n",
    "my_list$Produkte[1]"
   ]
  },
  {
   "cell_type": "code",
   "execution_count": 153,
   "id": "1fd7c531",
   "metadata": {},
   "outputs": [
    {
     "data": {
      "text/html": [
       "<table>\n",
       "<thead><tr><th scope=col>ID</th><th scope=col>Alter</th><th scope=col>Kunde</th><th scope=col>Geschlecht</th></tr></thead>\n",
       "<tbody>\n",
       "\t<tr><td>1       </td><td>30      </td><td> TRUE   </td><td>männlich</td></tr>\n",
       "\t<tr><td>2       </td><td>40      </td><td>FALSE   </td><td>weiblich</td></tr>\n",
       "\t<tr><td>3       </td><td>50      </td><td> TRUE   </td><td>weiblich</td></tr>\n",
       "\t<tr><td>4       </td><td>60      </td><td> TRUE   </td><td>männlich</td></tr>\n",
       "\t<tr><td>5       </td><td>70      </td><td>FALSE   </td><td>männlich</td></tr>\n",
       "\t<tr><td>6       </td><td>80      </td><td> TRUE   </td><td>weiblich</td></tr>\n",
       "</tbody>\n",
       "</table>\n"
      ],
      "text/latex": [
       "\\begin{tabular}{r|llll}\n",
       " ID & Alter & Kunde & Geschlecht\\\\\n",
       "\\hline\n",
       "\t 1        & 30       &  TRUE    & männlich\\\\\n",
       "\t 2        & 40       & FALSE    & weiblich\\\\\n",
       "\t 3        & 50       &  TRUE    & weiblich\\\\\n",
       "\t 4        & 60       &  TRUE    & männlich\\\\\n",
       "\t 5        & 70       & FALSE    & männlich\\\\\n",
       "\t 6        & 80       &  TRUE    & weiblich\\\\\n",
       "\\end{tabular}\n"
      ],
      "text/markdown": [
       "\n",
       "| ID | Alter | Kunde | Geschlecht |\n",
       "|---|---|---|---|\n",
       "| 1        | 30       |  TRUE    | männlich |\n",
       "| 2        | 40       | FALSE    | weiblich |\n",
       "| 3        | 50       |  TRUE    | weiblich |\n",
       "| 4        | 60       |  TRUE    | männlich |\n",
       "| 5        | 70       | FALSE    | männlich |\n",
       "| 6        | 80       |  TRUE    | weiblich |\n",
       "\n"
      ],
      "text/plain": [
       "  ID Alter Kunde Geschlecht\n",
       "1 1  30     TRUE männlich  \n",
       "2 2  40    FALSE weiblich  \n",
       "3 3  50     TRUE weiblich  \n",
       "4 4  60     TRUE männlich  \n",
       "5 5  70    FALSE männlich  \n",
       "6 6  80     TRUE weiblich  "
      ]
     },
     "metadata": {},
     "output_type": "display_data"
    }
   ],
   "source": [
    "df"
   ]
  },
  {
   "cell_type": "code",
   "execution_count": 158,
   "id": "5fb96d3c",
   "metadata": {},
   "outputs": [
    {
     "data": {
      "text/html": [
       "<ol class=list-inline>\n",
       "\t<li>30</li>\n",
       "\t<li>40</li>\n",
       "\t<li>50</li>\n",
       "\t<li>60</li>\n",
       "\t<li>70</li>\n",
       "\t<li>80</li>\n",
       "</ol>\n"
      ],
      "text/latex": [
       "\\begin{enumerate*}\n",
       "\\item 30\n",
       "\\item 40\n",
       "\\item 50\n",
       "\\item 60\n",
       "\\item 70\n",
       "\\item 80\n",
       "\\end{enumerate*}\n"
      ],
      "text/markdown": [
       "1. 30\n",
       "2. 40\n",
       "3. 50\n",
       "4. 60\n",
       "5. 70\n",
       "6. 80\n",
       "\n",
       "\n"
      ],
      "text/plain": [
       "[1] 30 40 50 60 70 80"
      ]
     },
     "metadata": {},
     "output_type": "display_data"
    },
    {
     "data": {
      "text/html": [
       "<ol class=list-inline>\n",
       "\t<li>30</li>\n",
       "\t<li>40</li>\n",
       "\t<li>50</li>\n",
       "\t<li>60</li>\n",
       "\t<li>70</li>\n",
       "\t<li>80</li>\n",
       "</ol>\n"
      ],
      "text/latex": [
       "\\begin{enumerate*}\n",
       "\\item 30\n",
       "\\item 40\n",
       "\\item 50\n",
       "\\item 60\n",
       "\\item 70\n",
       "\\item 80\n",
       "\\end{enumerate*}\n"
      ],
      "text/markdown": [
       "1. 30\n",
       "2. 40\n",
       "3. 50\n",
       "4. 60\n",
       "5. 70\n",
       "6. 80\n",
       "\n",
       "\n"
      ],
      "text/plain": [
       "[1] 30 40 50 60 70 80"
      ]
     },
     "metadata": {},
     "output_type": "display_data"
    }
   ],
   "source": [
    "df$Alter\n",
    "df[,2]"
   ]
  },
  {
   "cell_type": "code",
   "execution_count": 159,
   "id": "b8da1c0d",
   "metadata": {
    "scrolled": true
   },
   "outputs": [
    {
     "data": {
      "text/html": [
       "<table>\n",
       "<thead><tr><th scope=col>Alter</th><th scope=col>Kunde</th><th scope=col>Geschlecht</th></tr></thead>\n",
       "<tbody>\n",
       "\t<tr><td>30      </td><td> TRUE   </td><td>männlich</td></tr>\n",
       "\t<tr><td>40      </td><td>FALSE   </td><td>weiblich</td></tr>\n",
       "\t<tr><td>50      </td><td> TRUE   </td><td>weiblich</td></tr>\n",
       "\t<tr><td>60      </td><td> TRUE   </td><td>männlich</td></tr>\n",
       "\t<tr><td>70      </td><td>FALSE   </td><td>männlich</td></tr>\n",
       "\t<tr><td>80      </td><td> TRUE   </td><td>weiblich</td></tr>\n",
       "</tbody>\n",
       "</table>\n"
      ],
      "text/latex": [
       "\\begin{tabular}{r|lll}\n",
       " Alter & Kunde & Geschlecht\\\\\n",
       "\\hline\n",
       "\t 30       &  TRUE    & männlich\\\\\n",
       "\t 40       & FALSE    & weiblich\\\\\n",
       "\t 50       &  TRUE    & weiblich\\\\\n",
       "\t 60       &  TRUE    & männlich\\\\\n",
       "\t 70       & FALSE    & männlich\\\\\n",
       "\t 80       &  TRUE    & weiblich\\\\\n",
       "\\end{tabular}\n"
      ],
      "text/markdown": [
       "\n",
       "| Alter | Kunde | Geschlecht |\n",
       "|---|---|---|\n",
       "| 30       |  TRUE    | männlich |\n",
       "| 40       | FALSE    | weiblich |\n",
       "| 50       |  TRUE    | weiblich |\n",
       "| 60       |  TRUE    | männlich |\n",
       "| 70       | FALSE    | männlich |\n",
       "| 80       |  TRUE    | weiblich |\n",
       "\n"
      ],
      "text/plain": [
       "  Alter Kunde Geschlecht\n",
       "1 30     TRUE männlich  \n",
       "2 40    FALSE weiblich  \n",
       "3 50     TRUE weiblich  \n",
       "4 60     TRUE männlich  \n",
       "5 70    FALSE männlich  \n",
       "6 80     TRUE weiblich  "
      ]
     },
     "metadata": {},
     "output_type": "display_data"
    },
    {
     "data": {
      "text/html": [
       "<table>\n",
       "<thead><tr><th scope=col>Alter</th><th scope=col>Kunde</th><th scope=col>Geschlecht</th></tr></thead>\n",
       "<tbody>\n",
       "\t<tr><td>30      </td><td> TRUE   </td><td>männlich</td></tr>\n",
       "\t<tr><td>40      </td><td>FALSE   </td><td>weiblich</td></tr>\n",
       "\t<tr><td>50      </td><td> TRUE   </td><td>weiblich</td></tr>\n",
       "\t<tr><td>60      </td><td> TRUE   </td><td>männlich</td></tr>\n",
       "\t<tr><td>70      </td><td>FALSE   </td><td>männlich</td></tr>\n",
       "\t<tr><td>80      </td><td> TRUE   </td><td>weiblich</td></tr>\n",
       "</tbody>\n",
       "</table>\n"
      ],
      "text/latex": [
       "\\begin{tabular}{r|lll}\n",
       " Alter & Kunde & Geschlecht\\\\\n",
       "\\hline\n",
       "\t 30       &  TRUE    & männlich\\\\\n",
       "\t 40       & FALSE    & weiblich\\\\\n",
       "\t 50       &  TRUE    & weiblich\\\\\n",
       "\t 60       &  TRUE    & männlich\\\\\n",
       "\t 70       & FALSE    & männlich\\\\\n",
       "\t 80       &  TRUE    & weiblich\\\\\n",
       "\\end{tabular}\n"
      ],
      "text/markdown": [
       "\n",
       "| Alter | Kunde | Geschlecht |\n",
       "|---|---|---|\n",
       "| 30       |  TRUE    | männlich |\n",
       "| 40       | FALSE    | weiblich |\n",
       "| 50       |  TRUE    | weiblich |\n",
       "| 60       |  TRUE    | männlich |\n",
       "| 70       | FALSE    | männlich |\n",
       "| 80       |  TRUE    | weiblich |\n",
       "\n"
      ],
      "text/plain": [
       "  Alter Kunde Geschlecht\n",
       "1 30     TRUE männlich  \n",
       "2 40    FALSE weiblich  \n",
       "3 50     TRUE weiblich  \n",
       "4 60     TRUE männlich  \n",
       "5 70    FALSE männlich  \n",
       "6 80     TRUE weiblich  "
      ]
     },
     "metadata": {},
     "output_type": "display_data"
    }
   ],
   "source": [
    "df[,-1]\n",
    "df[,2:4]"
   ]
  },
  {
   "cell_type": "code",
   "execution_count": 171,
   "id": "85ff2f80",
   "metadata": {},
   "outputs": [
    {
     "data": {
      "text/html": [
       "<table>\n",
       "<thead><tr><th scope=col>ID</th><th scope=col>Alter</th><th scope=col>Kunde</th><th scope=col>Geschlecht</th></tr></thead>\n",
       "<tbody>\n",
       "\t<tr><td>1       </td><td>30      </td><td>TRUE    </td><td>männlich</td></tr>\n",
       "</tbody>\n",
       "</table>\n"
      ],
      "text/latex": [
       "\\begin{tabular}{r|llll}\n",
       " ID & Alter & Kunde & Geschlecht\\\\\n",
       "\\hline\n",
       "\t 1        & 30       & TRUE     & männlich\\\\\n",
       "\\end{tabular}\n"
      ],
      "text/markdown": [
       "\n",
       "| ID | Alter | Kunde | Geschlecht |\n",
       "|---|---|---|---|\n",
       "| 1        | 30       | TRUE     | männlich |\n",
       "\n"
      ],
      "text/plain": [
       "  ID Alter Kunde Geschlecht\n",
       "1 1  30    TRUE  männlich  "
      ]
     },
     "metadata": {},
     "output_type": "display_data"
    },
    {
     "data": {
      "text/html": [
       "<table>\n",
       "<thead><tr><th></th><th scope=col>ID</th><th scope=col>Alter</th><th scope=col>Kunde</th><th scope=col>Geschlecht</th></tr></thead>\n",
       "<tbody>\n",
       "\t<tr><th scope=row>2</th><td>2       </td><td>40      </td><td>FALSE   </td><td>weiblich</td></tr>\n",
       "\t<tr><th scope=row>3</th><td>3       </td><td>50      </td><td> TRUE   </td><td>weiblich</td></tr>\n",
       "\t<tr><th scope=row>4</th><td>4       </td><td>60      </td><td> TRUE   </td><td>männlich</td></tr>\n",
       "\t<tr><th scope=row>5</th><td>5       </td><td>70      </td><td>FALSE   </td><td>männlich</td></tr>\n",
       "\t<tr><th scope=row>6</th><td>6       </td><td>80      </td><td> TRUE   </td><td>weiblich</td></tr>\n",
       "</tbody>\n",
       "</table>\n"
      ],
      "text/latex": [
       "\\begin{tabular}{r|llll}\n",
       "  & ID & Alter & Kunde & Geschlecht\\\\\n",
       "\\hline\n",
       "\t2 & 2        & 40       & FALSE    & weiblich\\\\\n",
       "\t3 & 3        & 50       &  TRUE    & weiblich\\\\\n",
       "\t4 & 4        & 60       &  TRUE    & männlich\\\\\n",
       "\t5 & 5        & 70       & FALSE    & männlich\\\\\n",
       "\t6 & 6        & 80       &  TRUE    & weiblich\\\\\n",
       "\\end{tabular}\n"
      ],
      "text/markdown": [
       "\n",
       "| <!--/--> | ID | Alter | Kunde | Geschlecht |\n",
       "|---|---|---|---|---|\n",
       "| 2 | 2        | 40       | FALSE    | weiblich |\n",
       "| 3 | 3        | 50       |  TRUE    | weiblich |\n",
       "| 4 | 4        | 60       |  TRUE    | männlich |\n",
       "| 5 | 5        | 70       | FALSE    | männlich |\n",
       "| 6 | 6        | 80       |  TRUE    | weiblich |\n",
       "\n"
      ],
      "text/plain": [
       "  ID Alter Kunde Geschlecht\n",
       "2 2  40    FALSE weiblich  \n",
       "3 3  50     TRUE weiblich  \n",
       "4 4  60     TRUE männlich  \n",
       "5 5  70    FALSE männlich  \n",
       "6 6  80     TRUE weiblich  "
      ]
     },
     "metadata": {},
     "output_type": "display_data"
    }
   ],
   "source": [
    "df[1,]\n",
    "df[-1,]"
   ]
  },
  {
   "cell_type": "code",
   "execution_count": 176,
   "id": "991f49bf",
   "metadata": {},
   "outputs": [
    {
     "data": {
      "text/html": [
       "<ol class=list-inline>\n",
       "\t<li>TRUE</li>\n",
       "\t<li>FALSE</li>\n",
       "\t<li>FALSE</li>\n",
       "\t<li>TRUE</li>\n",
       "\t<li>TRUE</li>\n",
       "\t<li>FALSE</li>\n",
       "</ol>\n"
      ],
      "text/latex": [
       "\\begin{enumerate*}\n",
       "\\item TRUE\n",
       "\\item FALSE\n",
       "\\item FALSE\n",
       "\\item TRUE\n",
       "\\item TRUE\n",
       "\\item FALSE\n",
       "\\end{enumerate*}\n"
      ],
      "text/markdown": [
       "1. TRUE\n",
       "2. FALSE\n",
       "3. FALSE\n",
       "4. TRUE\n",
       "5. TRUE\n",
       "6. FALSE\n",
       "\n",
       "\n"
      ],
      "text/plain": [
       "[1]  TRUE FALSE FALSE  TRUE  TRUE FALSE"
      ]
     },
     "metadata": {},
     "output_type": "display_data"
    }
   ],
   "source": [
    "df$Geschlecht == 'männlich'"
   ]
  },
  {
   "cell_type": "code",
   "execution_count": 177,
   "id": "4608d6d2",
   "metadata": {},
   "outputs": [
    {
     "data": {
      "text/html": [
       "<table>\n",
       "<thead><tr><th></th><th scope=col>ID</th><th scope=col>Alter</th><th scope=col>Kunde</th><th scope=col>Geschlecht</th></tr></thead>\n",
       "<tbody>\n",
       "\t<tr><th scope=row>1</th><td>1       </td><td>30      </td><td> TRUE   </td><td>männlich</td></tr>\n",
       "\t<tr><th scope=row>4</th><td>4       </td><td>60      </td><td> TRUE   </td><td>männlich</td></tr>\n",
       "\t<tr><th scope=row>5</th><td>5       </td><td>70      </td><td>FALSE   </td><td>männlich</td></tr>\n",
       "</tbody>\n",
       "</table>\n"
      ],
      "text/latex": [
       "\\begin{tabular}{r|llll}\n",
       "  & ID & Alter & Kunde & Geschlecht\\\\\n",
       "\\hline\n",
       "\t1 & 1        & 30       &  TRUE    & männlich\\\\\n",
       "\t4 & 4        & 60       &  TRUE    & männlich\\\\\n",
       "\t5 & 5        & 70       & FALSE    & männlich\\\\\n",
       "\\end{tabular}\n"
      ],
      "text/markdown": [
       "\n",
       "| <!--/--> | ID | Alter | Kunde | Geschlecht |\n",
       "|---|---|---|---|---|\n",
       "| 1 | 1        | 30       |  TRUE    | männlich |\n",
       "| 4 | 4        | 60       |  TRUE    | männlich |\n",
       "| 5 | 5        | 70       | FALSE    | männlich |\n",
       "\n"
      ],
      "text/plain": [
       "  ID Alter Kunde Geschlecht\n",
       "1 1  30     TRUE männlich  \n",
       "4 4  60     TRUE männlich  \n",
       "5 5  70    FALSE männlich  "
      ]
     },
     "metadata": {},
     "output_type": "display_data"
    }
   ],
   "source": [
    "df[df$Geschlecht == 'männlich',]"
   ]
  },
  {
   "cell_type": "code",
   "execution_count": 179,
   "id": "6c326d46",
   "metadata": {},
   "outputs": [
    {
     "data": {
      "text/html": [
       "<table>\n",
       "<thead><tr><th></th><th scope=col>ID</th><th scope=col>Alter</th><th scope=col>Kunde</th><th scope=col>Geschlecht</th></tr></thead>\n",
       "<tbody>\n",
       "\t<tr><th scope=row>1</th><td>1       </td><td>30      </td><td>TRUE    </td><td>männlich</td></tr>\n",
       "\t<tr><th scope=row>3</th><td>3       </td><td>50      </td><td>TRUE    </td><td>weiblich</td></tr>\n",
       "\t<tr><th scope=row>4</th><td>4       </td><td>60      </td><td>TRUE    </td><td>männlich</td></tr>\n",
       "\t<tr><th scope=row>6</th><td>6       </td><td>80      </td><td>TRUE    </td><td>weiblich</td></tr>\n",
       "</tbody>\n",
       "</table>\n"
      ],
      "text/latex": [
       "\\begin{tabular}{r|llll}\n",
       "  & ID & Alter & Kunde & Geschlecht\\\\\n",
       "\\hline\n",
       "\t1 & 1        & 30       & TRUE     & männlich\\\\\n",
       "\t3 & 3        & 50       & TRUE     & weiblich\\\\\n",
       "\t4 & 4        & 60       & TRUE     & männlich\\\\\n",
       "\t6 & 6        & 80       & TRUE     & weiblich\\\\\n",
       "\\end{tabular}\n"
      ],
      "text/markdown": [
       "\n",
       "| <!--/--> | ID | Alter | Kunde | Geschlecht |\n",
       "|---|---|---|---|---|\n",
       "| 1 | 1        | 30       | TRUE     | männlich |\n",
       "| 3 | 3        | 50       | TRUE     | weiblich |\n",
       "| 4 | 4        | 60       | TRUE     | männlich |\n",
       "| 6 | 6        | 80       | TRUE     | weiblich |\n",
       "\n"
      ],
      "text/plain": [
       "  ID Alter Kunde Geschlecht\n",
       "1 1  30    TRUE  männlich  \n",
       "3 3  50    TRUE  weiblich  \n",
       "4 4  60    TRUE  männlich  \n",
       "6 6  80    TRUE  weiblich  "
      ]
     },
     "metadata": {},
     "output_type": "display_data"
    }
   ],
   "source": [
    "df[df$Kunde,]"
   ]
  },
  {
   "cell_type": "code",
   "execution_count": 193,
   "id": "de639c9f",
   "metadata": {},
   "outputs": [
    {
     "data": {
      "text/html": [
       "55"
      ],
      "text/latex": [
       "55"
      ],
      "text/markdown": [
       "55"
      ],
      "text/plain": [
       "[1] 55"
      ]
     },
     "metadata": {},
     "output_type": "display_data"
    },
    {
     "data": {
      "text/html": [
       "<table>\n",
       "<thead><tr><th></th><th scope=col>ID</th><th scope=col>Alter</th><th scope=col>Kunde</th><th scope=col>Geschlecht</th></tr></thead>\n",
       "<tbody>\n",
       "\t<tr><th scope=row>4</th><td>4       </td><td>60      </td><td> TRUE   </td><td>männlich</td></tr>\n",
       "\t<tr><th scope=row>5</th><td>5       </td><td>70      </td><td>FALSE   </td><td>männlich</td></tr>\n",
       "\t<tr><th scope=row>6</th><td>6       </td><td>80      </td><td> TRUE   </td><td>weiblich</td></tr>\n",
       "</tbody>\n",
       "</table>\n"
      ],
      "text/latex": [
       "\\begin{tabular}{r|llll}\n",
       "  & ID & Alter & Kunde & Geschlecht\\\\\n",
       "\\hline\n",
       "\t4 & 4        & 60       &  TRUE    & männlich\\\\\n",
       "\t5 & 5        & 70       & FALSE    & männlich\\\\\n",
       "\t6 & 6        & 80       &  TRUE    & weiblich\\\\\n",
       "\\end{tabular}\n"
      ],
      "text/markdown": [
       "\n",
       "| <!--/--> | ID | Alter | Kunde | Geschlecht |\n",
       "|---|---|---|---|---|\n",
       "| 4 | 4        | 60       |  TRUE    | männlich |\n",
       "| 5 | 5        | 70       | FALSE    | männlich |\n",
       "| 6 | 6        | 80       |  TRUE    | weiblich |\n",
       "\n"
      ],
      "text/plain": [
       "  ID Alter Kunde Geschlecht\n",
       "4 4  60     TRUE männlich  \n",
       "5 5  70    FALSE männlich  \n",
       "6 6  80     TRUE weiblich  "
      ]
     },
     "metadata": {},
     "output_type": "display_data"
    }
   ],
   "source": [
    "median(df$Alter)\n",
    "df[df$Alter>55,]"
   ]
  },
  {
   "cell_type": "markdown",
   "id": "5732032f",
   "metadata": {},
   "source": [
    "### Speichern und Einlesen von Daten"
   ]
  },
  {
   "cell_type": "code",
   "execution_count": 181,
   "id": "c50e87c3",
   "metadata": {},
   "outputs": [],
   "source": [
    "write.csv(df,\"./Mein_DataFrame\")"
   ]
  },
  {
   "cell_type": "code",
   "execution_count": 189,
   "id": "2b0253a3",
   "metadata": {},
   "outputs": [
    {
     "data": {
      "text/html": [
       "<table>\n",
       "<thead><tr><th scope=col>X</th><th scope=col>ID</th><th scope=col>Alter</th><th scope=col>Kunde</th><th scope=col>Geschlecht</th></tr></thead>\n",
       "<tbody>\n",
       "\t<tr><td>1       </td><td>1       </td><td>30      </td><td> TRUE   </td><td>männlich</td></tr>\n",
       "\t<tr><td>2       </td><td>2       </td><td>40      </td><td>FALSE   </td><td>weiblich</td></tr>\n",
       "\t<tr><td>3       </td><td>3       </td><td>50      </td><td> TRUE   </td><td>weiblich</td></tr>\n",
       "\t<tr><td>4       </td><td>4       </td><td>60      </td><td> TRUE   </td><td>männlich</td></tr>\n",
       "\t<tr><td>5       </td><td>5       </td><td>70      </td><td>FALSE   </td><td>männlich</td></tr>\n",
       "\t<tr><td>6       </td><td>6       </td><td>80      </td><td> TRUE   </td><td>weiblich</td></tr>\n",
       "</tbody>\n",
       "</table>\n"
      ],
      "text/latex": [
       "\\begin{tabular}{r|lllll}\n",
       " X & ID & Alter & Kunde & Geschlecht\\\\\n",
       "\\hline\n",
       "\t 1        & 1        & 30       &  TRUE    & männlich\\\\\n",
       "\t 2        & 2        & 40       & FALSE    & weiblich\\\\\n",
       "\t 3        & 3        & 50       &  TRUE    & weiblich\\\\\n",
       "\t 4        & 4        & 60       &  TRUE    & männlich\\\\\n",
       "\t 5        & 5        & 70       & FALSE    & männlich\\\\\n",
       "\t 6        & 6        & 80       &  TRUE    & weiblich\\\\\n",
       "\\end{tabular}\n"
      ],
      "text/markdown": [
       "\n",
       "| X | ID | Alter | Kunde | Geschlecht |\n",
       "|---|---|---|---|---|\n",
       "| 1        | 1        | 30       |  TRUE    | männlich |\n",
       "| 2        | 2        | 40       | FALSE    | weiblich |\n",
       "| 3        | 3        | 50       |  TRUE    | weiblich |\n",
       "| 4        | 4        | 60       |  TRUE    | männlich |\n",
       "| 5        | 5        | 70       | FALSE    | männlich |\n",
       "| 6        | 6        | 80       |  TRUE    | weiblich |\n",
       "\n"
      ],
      "text/plain": [
       "  X ID Alter Kunde Geschlecht\n",
       "1 1 1  30     TRUE männlich  \n",
       "2 2 2  40    FALSE weiblich  \n",
       "3 3 3  50     TRUE weiblich  \n",
       "4 4 4  60     TRUE männlich  \n",
       "5 5 5  70    FALSE männlich  \n",
       "6 6 6  80     TRUE weiblich  "
      ]
     },
     "metadata": {},
     "output_type": "display_data"
    },
    {
     "data": {
      "text/html": [
       "<table>\n",
       "<thead><tr><th scope=col>ID</th><th scope=col>Alter</th><th scope=col>Kunde</th><th scope=col>Geschlecht</th></tr></thead>\n",
       "<tbody>\n",
       "\t<tr><td>1       </td><td>30      </td><td> TRUE   </td><td>männlich</td></tr>\n",
       "\t<tr><td>2       </td><td>40      </td><td>FALSE   </td><td>weiblich</td></tr>\n",
       "\t<tr><td>3       </td><td>50      </td><td> TRUE   </td><td>weiblich</td></tr>\n",
       "\t<tr><td>4       </td><td>60      </td><td> TRUE   </td><td>männlich</td></tr>\n",
       "\t<tr><td>5       </td><td>70      </td><td>FALSE   </td><td>männlich</td></tr>\n",
       "\t<tr><td>6       </td><td>80      </td><td> TRUE   </td><td>weiblich</td></tr>\n",
       "</tbody>\n",
       "</table>\n"
      ],
      "text/latex": [
       "\\begin{tabular}{r|llll}\n",
       " ID & Alter & Kunde & Geschlecht\\\\\n",
       "\\hline\n",
       "\t 1        & 30       &  TRUE    & männlich\\\\\n",
       "\t 2        & 40       & FALSE    & weiblich\\\\\n",
       "\t 3        & 50       &  TRUE    & weiblich\\\\\n",
       "\t 4        & 60       &  TRUE    & männlich\\\\\n",
       "\t 5        & 70       & FALSE    & männlich\\\\\n",
       "\t 6        & 80       &  TRUE    & weiblich\\\\\n",
       "\\end{tabular}\n"
      ],
      "text/markdown": [
       "\n",
       "| ID | Alter | Kunde | Geschlecht |\n",
       "|---|---|---|---|\n",
       "| 1        | 30       |  TRUE    | männlich |\n",
       "| 2        | 40       | FALSE    | weiblich |\n",
       "| 3        | 50       |  TRUE    | weiblich |\n",
       "| 4        | 60       |  TRUE    | männlich |\n",
       "| 5        | 70       | FALSE    | männlich |\n",
       "| 6        | 80       |  TRUE    | weiblich |\n",
       "\n"
      ],
      "text/plain": [
       "  ID Alter Kunde Geschlecht\n",
       "1 1  30     TRUE männlich  \n",
       "2 2  40    FALSE weiblich  \n",
       "3 3  50     TRUE weiblich  \n",
       "4 4  60     TRUE männlich  \n",
       "5 5  70    FALSE männlich  \n",
       "6 6  80     TRUE weiblich  "
      ]
     },
     "metadata": {},
     "output_type": "display_data"
    }
   ],
   "source": [
    "read.csv(\"./Mein_DataFrame\")\n",
    "read.csv(\"./Mein_DataFrame\")[-1]"
   ]
  },
  {
   "cell_type": "code",
   "execution_count": 190,
   "id": "6ae97345",
   "metadata": {},
   "outputs": [
    {
     "data": {
      "text/html": [
       "<table>\n",
       "<thead><tr><th scope=col>ID</th><th scope=col>Alter</th><th scope=col>Kunde</th><th scope=col>Geschlecht</th></tr></thead>\n",
       "<tbody>\n",
       "\t<tr><td>1       </td><td>30      </td><td> TRUE   </td><td>männlich</td></tr>\n",
       "\t<tr><td>2       </td><td>40      </td><td>FALSE   </td><td>weiblich</td></tr>\n",
       "\t<tr><td>3       </td><td>50      </td><td> TRUE   </td><td>weiblich</td></tr>\n",
       "\t<tr><td>4       </td><td>60      </td><td> TRUE   </td><td>männlich</td></tr>\n",
       "\t<tr><td>5       </td><td>70      </td><td>FALSE   </td><td>männlich</td></tr>\n",
       "\t<tr><td>6       </td><td>80      </td><td> TRUE   </td><td>weiblich</td></tr>\n",
       "</tbody>\n",
       "</table>\n"
      ],
      "text/latex": [
       "\\begin{tabular}{r|llll}\n",
       " ID & Alter & Kunde & Geschlecht\\\\\n",
       "\\hline\n",
       "\t 1        & 30       &  TRUE    & männlich\\\\\n",
       "\t 2        & 40       & FALSE    & weiblich\\\\\n",
       "\t 3        & 50       &  TRUE    & weiblich\\\\\n",
       "\t 4        & 60       &  TRUE    & männlich\\\\\n",
       "\t 5        & 70       & FALSE    & männlich\\\\\n",
       "\t 6        & 80       &  TRUE    & weiblich\\\\\n",
       "\\end{tabular}\n"
      ],
      "text/markdown": [
       "\n",
       "| ID | Alter | Kunde | Geschlecht |\n",
       "|---|---|---|---|\n",
       "| 1        | 30       |  TRUE    | männlich |\n",
       "| 2        | 40       | FALSE    | weiblich |\n",
       "| 3        | 50       |  TRUE    | weiblich |\n",
       "| 4        | 60       |  TRUE    | männlich |\n",
       "| 5        | 70       | FALSE    | männlich |\n",
       "| 6        | 80       |  TRUE    | weiblich |\n",
       "\n"
      ],
      "text/plain": [
       "  ID Alter Kunde Geschlecht\n",
       "1 1  30     TRUE männlich  \n",
       "2 2  40    FALSE weiblich  \n",
       "3 3  50     TRUE weiblich  \n",
       "4 4  60     TRUE männlich  \n",
       "5 5  70    FALSE männlich  \n",
       "6 6  80     TRUE weiblich  "
      ]
     },
     "metadata": {},
     "output_type": "display_data"
    }
   ],
   "source": [
    "write.csv(df,\"./Mein_DataFrame\",row.names=FALSE)\n",
    "read.csv(\"./Mein_DataFrame\")"
   ]
  },
  {
   "cell_type": "code",
   "execution_count": null,
   "id": "e10787d0",
   "metadata": {},
   "outputs": [],
   "source": []
  }
 ],
 "metadata": {
  "kernelspec": {
   "display_name": "R",
   "language": "R",
   "name": "ir"
  },
  "language_info": {
   "codemirror_mode": "r",
   "file_extension": ".r",
   "mimetype": "text/x-r-source",
   "name": "R",
   "pygments_lexer": "r",
   "version": "3.6.1"
  }
 },
 "nbformat": 4,
 "nbformat_minor": 5
}
